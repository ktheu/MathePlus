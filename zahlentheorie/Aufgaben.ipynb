{
 "cells": [
  {
   "cell_type": "markdown",
   "metadata": {},
   "source": [
    "## Aufgaben"
   ]
  },
  {
   "cell_type": "markdown",
   "metadata": {},
   "source": [
    "#### A1:\n"
   ]
  },
  {
   "cell_type": "code",
   "execution_count": 2,
   "metadata": {},
   "outputs": [],
   "source": [
    "def ggT(a,b):\n",
    "    print(f'{a:6} {b:6}')  \n",
    "    while b != 0:\n",
    "        a, b = b, a% b\n",
    "        print(f'{a:6} {b:6}') "
   ]
  },
  {
   "cell_type": "code",
   "execution_count": 3,
   "metadata": {},
   "outputs": [
    {
     "name": "stdout",
     "output_type": "stream",
     "text": [
      "   150     54\n",
      "    54     42\n",
      "    42     12\n",
      "    12      6\n",
      "     6      0\n"
     ]
    }
   ],
   "source": [
    "# a.\n",
    "ggT(150,54)"
   ]
  },
  {
   "cell_type": "code",
   "execution_count": 4,
   "metadata": {},
   "outputs": [
    {
     "name": "stdout",
     "output_type": "stream",
     "text": [
      "   300    468\n",
      "   468    300\n",
      "   300    168\n",
      "   168    132\n",
      "   132     36\n",
      "    36     24\n",
      "    24     12\n",
      "    12      0\n"
     ]
    }
   ],
   "source": [
    "# b.\n",
    "ggT(300,468)"
   ]
  },
  {
   "cell_type": "code",
   "execution_count": 7,
   "metadata": {},
   "outputs": [
    {
     "name": "stdout",
     "output_type": "stream",
     "text": [
      "    44     18\n",
      "    18      8\n",
      "     8      2\n",
      "     2      0\n"
     ]
    }
   ],
   "source": [
    "# c.\n",
    "ggT(44,18)"
   ]
  },
  {
   "cell_type": "code",
   "execution_count": 16,
   "metadata": {},
   "outputs": [
    {
     "name": "stdout",
     "output_type": "stream",
     "text": [
      "   992    999\n",
      "   999    992\n",
      "   992      7\n",
      "     7      5\n",
      "     5      2\n",
      "     2      1\n",
      "     1      0\n"
     ]
    }
   ],
   "source": [
    "# d.\n",
    "ggT(992,999)"
   ]
  },
  {
   "cell_type": "markdown",
   "metadata": {},
   "source": [
    "----\n",
    "\n",
    "#### A2"
   ]
  },
  {
   "cell_type": "code",
   "execution_count": 28,
   "metadata": {},
   "outputs": [],
   "source": [
    "import pandas as pd\n",
    "def egcd_tab(a,b):\n",
    "    zeile = []\n",
    "    zeile.append([a,b,a//b,a%b])\n",
    "    i = 1\n",
    "\n",
    "    while a%b != 0:\n",
    "        a = zeile[i-1][1]\n",
    "        b = zeile[i-1][3]\n",
    "        zeile.append([a,b,a//b,a%b])\n",
    "        i = i+1\n",
    "\n",
    "    k = len(zeile)-1\n",
    "    zeile[k]+=[0,1]\n",
    "    k=k-1\n",
    "\n",
    "    while k >=0:\n",
    "        x = zeile[k+1][5]\n",
    "        y = zeile[k+1][4]-zeile[k][2]*zeile[k+1][5]\n",
    "        zeile[k]+=[x,y]\n",
    "        k = k-1\n",
    "    \n",
    "    df =  pd.DataFrame(zeile,columns=['a', 'b', 'q', 'r', 'x', 'y'])\n",
    "    satz = f'{df.iloc[0,4]} * {df.iloc[0,0]}  + {df.iloc[0,5]} * {df.iloc[0,1]} = {df.iloc[-1,1]}'\n",
    "    print(satz)\n",
    "    return df\n"
   ]
  },
  {
   "cell_type": "code",
   "execution_count": 29,
   "metadata": {},
   "outputs": [
    {
     "name": "stdout",
     "output_type": "stream",
     "text": [
      "-7 * 531  + 40 * 93 = 3\n"
     ]
    },
    {
     "data": {
      "text/html": [
       "<div>\n",
       "<style scoped>\n",
       "    .dataframe tbody tr th:only-of-type {\n",
       "        vertical-align: middle;\n",
       "    }\n",
       "\n",
       "    .dataframe tbody tr th {\n",
       "        vertical-align: top;\n",
       "    }\n",
       "\n",
       "    .dataframe thead th {\n",
       "        text-align: right;\n",
       "    }\n",
       "</style>\n",
       "<table border=\"1\" class=\"dataframe\">\n",
       "  <thead>\n",
       "    <tr style=\"text-align: right;\">\n",
       "      <th></th>\n",
       "      <th>a</th>\n",
       "      <th>b</th>\n",
       "      <th>q</th>\n",
       "      <th>r</th>\n",
       "      <th>x</th>\n",
       "      <th>y</th>\n",
       "    </tr>\n",
       "  </thead>\n",
       "  <tbody>\n",
       "    <tr>\n",
       "      <th>0</th>\n",
       "      <td>531</td>\n",
       "      <td>93</td>\n",
       "      <td>5</td>\n",
       "      <td>66</td>\n",
       "      <td>-7</td>\n",
       "      <td>40</td>\n",
       "    </tr>\n",
       "    <tr>\n",
       "      <th>1</th>\n",
       "      <td>93</td>\n",
       "      <td>66</td>\n",
       "      <td>1</td>\n",
       "      <td>27</td>\n",
       "      <td>5</td>\n",
       "      <td>-7</td>\n",
       "    </tr>\n",
       "    <tr>\n",
       "      <th>2</th>\n",
       "      <td>66</td>\n",
       "      <td>27</td>\n",
       "      <td>2</td>\n",
       "      <td>12</td>\n",
       "      <td>-2</td>\n",
       "      <td>5</td>\n",
       "    </tr>\n",
       "    <tr>\n",
       "      <th>3</th>\n",
       "      <td>27</td>\n",
       "      <td>12</td>\n",
       "      <td>2</td>\n",
       "      <td>3</td>\n",
       "      <td>1</td>\n",
       "      <td>-2</td>\n",
       "    </tr>\n",
       "    <tr>\n",
       "      <th>4</th>\n",
       "      <td>12</td>\n",
       "      <td>3</td>\n",
       "      <td>4</td>\n",
       "      <td>0</td>\n",
       "      <td>0</td>\n",
       "      <td>1</td>\n",
       "    </tr>\n",
       "  </tbody>\n",
       "</table>\n",
       "</div>"
      ],
      "text/plain": [
       "     a   b  q   r  x   y\n",
       "0  531  93  5  66 -7  40\n",
       "1   93  66  1  27  5  -7\n",
       "2   66  27  2  12 -2   5\n",
       "3   27  12  2   3  1  -2\n",
       "4   12   3  4   0  0   1"
      ]
     },
     "execution_count": 29,
     "metadata": {},
     "output_type": "execute_result"
    }
   ],
   "source": [
    "# a.\n",
    "egcd_tab(531,93)"
   ]
  },
  {
   "cell_type": "code",
   "execution_count": 30,
   "metadata": {},
   "outputs": [
    {
     "name": "stdout",
     "output_type": "stream",
     "text": [
      "17 * 753  + -200 * 64 = 1\n"
     ]
    },
    {
     "data": {
      "text/html": [
       "<div>\n",
       "<style scoped>\n",
       "    .dataframe tbody tr th:only-of-type {\n",
       "        vertical-align: middle;\n",
       "    }\n",
       "\n",
       "    .dataframe tbody tr th {\n",
       "        vertical-align: top;\n",
       "    }\n",
       "\n",
       "    .dataframe thead th {\n",
       "        text-align: right;\n",
       "    }\n",
       "</style>\n",
       "<table border=\"1\" class=\"dataframe\">\n",
       "  <thead>\n",
       "    <tr style=\"text-align: right;\">\n",
       "      <th></th>\n",
       "      <th>a</th>\n",
       "      <th>b</th>\n",
       "      <th>q</th>\n",
       "      <th>r</th>\n",
       "      <th>x</th>\n",
       "      <th>y</th>\n",
       "    </tr>\n",
       "  </thead>\n",
       "  <tbody>\n",
       "    <tr>\n",
       "      <th>0</th>\n",
       "      <td>753</td>\n",
       "      <td>64</td>\n",
       "      <td>11</td>\n",
       "      <td>49</td>\n",
       "      <td>17</td>\n",
       "      <td>-200</td>\n",
       "    </tr>\n",
       "    <tr>\n",
       "      <th>1</th>\n",
       "      <td>64</td>\n",
       "      <td>49</td>\n",
       "      <td>1</td>\n",
       "      <td>15</td>\n",
       "      <td>-13</td>\n",
       "      <td>17</td>\n",
       "    </tr>\n",
       "    <tr>\n",
       "      <th>2</th>\n",
       "      <td>49</td>\n",
       "      <td>15</td>\n",
       "      <td>3</td>\n",
       "      <td>4</td>\n",
       "      <td>4</td>\n",
       "      <td>-13</td>\n",
       "    </tr>\n",
       "    <tr>\n",
       "      <th>3</th>\n",
       "      <td>15</td>\n",
       "      <td>4</td>\n",
       "      <td>3</td>\n",
       "      <td>3</td>\n",
       "      <td>-1</td>\n",
       "      <td>4</td>\n",
       "    </tr>\n",
       "    <tr>\n",
       "      <th>4</th>\n",
       "      <td>4</td>\n",
       "      <td>3</td>\n",
       "      <td>1</td>\n",
       "      <td>1</td>\n",
       "      <td>1</td>\n",
       "      <td>-1</td>\n",
       "    </tr>\n",
       "    <tr>\n",
       "      <th>5</th>\n",
       "      <td>3</td>\n",
       "      <td>1</td>\n",
       "      <td>3</td>\n",
       "      <td>0</td>\n",
       "      <td>0</td>\n",
       "      <td>1</td>\n",
       "    </tr>\n",
       "  </tbody>\n",
       "</table>\n",
       "</div>"
      ],
      "text/plain": [
       "     a   b   q   r   x    y\n",
       "0  753  64  11  49  17 -200\n",
       "1   64  49   1  15 -13   17\n",
       "2   49  15   3   4   4  -13\n",
       "3   15   4   3   3  -1    4\n",
       "4    4   3   1   1   1   -1\n",
       "5    3   1   3   0   0    1"
      ]
     },
     "execution_count": 30,
     "metadata": {},
     "output_type": "execute_result"
    }
   ],
   "source": [
    "# b.\n",
    "egcd_tab(753,64)"
   ]
  },
  {
   "cell_type": "markdown",
   "metadata": {},
   "source": [
    "------\n",
    "#### A3"
   ]
  },
  {
   "cell_type": "code",
   "execution_count": 31,
   "metadata": {},
   "outputs": [
    {
     "name": "stdout",
     "output_type": "stream",
     "text": [
      "-2 * 96  + 3 * 66 = 6\n"
     ]
    },
    {
     "data": {
      "text/html": [
       "<div>\n",
       "<style scoped>\n",
       "    .dataframe tbody tr th:only-of-type {\n",
       "        vertical-align: middle;\n",
       "    }\n",
       "\n",
       "    .dataframe tbody tr th {\n",
       "        vertical-align: top;\n",
       "    }\n",
       "\n",
       "    .dataframe thead th {\n",
       "        text-align: right;\n",
       "    }\n",
       "</style>\n",
       "<table border=\"1\" class=\"dataframe\">\n",
       "  <thead>\n",
       "    <tr style=\"text-align: right;\">\n",
       "      <th></th>\n",
       "      <th>a</th>\n",
       "      <th>b</th>\n",
       "      <th>q</th>\n",
       "      <th>r</th>\n",
       "      <th>x</th>\n",
       "      <th>y</th>\n",
       "    </tr>\n",
       "  </thead>\n",
       "  <tbody>\n",
       "    <tr>\n",
       "      <th>0</th>\n",
       "      <td>96</td>\n",
       "      <td>66</td>\n",
       "      <td>1</td>\n",
       "      <td>30</td>\n",
       "      <td>-2</td>\n",
       "      <td>3</td>\n",
       "    </tr>\n",
       "    <tr>\n",
       "      <th>1</th>\n",
       "      <td>66</td>\n",
       "      <td>30</td>\n",
       "      <td>2</td>\n",
       "      <td>6</td>\n",
       "      <td>1</td>\n",
       "      <td>-2</td>\n",
       "    </tr>\n",
       "    <tr>\n",
       "      <th>2</th>\n",
       "      <td>30</td>\n",
       "      <td>6</td>\n",
       "      <td>5</td>\n",
       "      <td>0</td>\n",
       "      <td>0</td>\n",
       "      <td>1</td>\n",
       "    </tr>\n",
       "  </tbody>\n",
       "</table>\n",
       "</div>"
      ],
      "text/plain": [
       "    a   b  q   r  x  y\n",
       "0  96  66  1  30 -2  3\n",
       "1  66  30  2   6  1 -2\n",
       "2  30   6  5   0  0  1"
      ]
     },
     "execution_count": 31,
     "metadata": {},
     "output_type": "execute_result"
    }
   ],
   "source": [
    "# a.\n",
    "egcd_tab(96,66)\n"
   ]
  },
  {
   "cell_type": "code",
   "execution_count": 32,
   "metadata": {},
   "outputs": [
    {
     "name": "stdout",
     "output_type": "stream",
     "text": [
      "-6 * 119  + 5 * 143 = 1\n"
     ]
    },
    {
     "data": {
      "text/html": [
       "<div>\n",
       "<style scoped>\n",
       "    .dataframe tbody tr th:only-of-type {\n",
       "        vertical-align: middle;\n",
       "    }\n",
       "\n",
       "    .dataframe tbody tr th {\n",
       "        vertical-align: top;\n",
       "    }\n",
       "\n",
       "    .dataframe thead th {\n",
       "        text-align: right;\n",
       "    }\n",
       "</style>\n",
       "<table border=\"1\" class=\"dataframe\">\n",
       "  <thead>\n",
       "    <tr style=\"text-align: right;\">\n",
       "      <th></th>\n",
       "      <th>a</th>\n",
       "      <th>b</th>\n",
       "      <th>q</th>\n",
       "      <th>r</th>\n",
       "      <th>x</th>\n",
       "      <th>y</th>\n",
       "    </tr>\n",
       "  </thead>\n",
       "  <tbody>\n",
       "    <tr>\n",
       "      <th>0</th>\n",
       "      <td>119</td>\n",
       "      <td>143</td>\n",
       "      <td>0</td>\n",
       "      <td>119</td>\n",
       "      <td>-6</td>\n",
       "      <td>5</td>\n",
       "    </tr>\n",
       "    <tr>\n",
       "      <th>1</th>\n",
       "      <td>143</td>\n",
       "      <td>119</td>\n",
       "      <td>1</td>\n",
       "      <td>24</td>\n",
       "      <td>5</td>\n",
       "      <td>-6</td>\n",
       "    </tr>\n",
       "    <tr>\n",
       "      <th>2</th>\n",
       "      <td>119</td>\n",
       "      <td>24</td>\n",
       "      <td>4</td>\n",
       "      <td>23</td>\n",
       "      <td>-1</td>\n",
       "      <td>5</td>\n",
       "    </tr>\n",
       "    <tr>\n",
       "      <th>3</th>\n",
       "      <td>24</td>\n",
       "      <td>23</td>\n",
       "      <td>1</td>\n",
       "      <td>1</td>\n",
       "      <td>1</td>\n",
       "      <td>-1</td>\n",
       "    </tr>\n",
       "    <tr>\n",
       "      <th>4</th>\n",
       "      <td>23</td>\n",
       "      <td>1</td>\n",
       "      <td>23</td>\n",
       "      <td>0</td>\n",
       "      <td>0</td>\n",
       "      <td>1</td>\n",
       "    </tr>\n",
       "  </tbody>\n",
       "</table>\n",
       "</div>"
      ],
      "text/plain": [
       "     a    b   q    r  x  y\n",
       "0  119  143   0  119 -6  5\n",
       "1  143  119   1   24  5 -6\n",
       "2  119   24   4   23 -1  5\n",
       "3   24   23   1    1  1 -1\n",
       "4   23    1  23    0  0  1"
      ]
     },
     "execution_count": 32,
     "metadata": {},
     "output_type": "execute_result"
    }
   ],
   "source": [
    "# c.\n",
    "egcd_tab(119,143)"
   ]
  },
  {
   "cell_type": "markdown",
   "metadata": {},
   "source": [
    "----\n",
    "\n",
    "#### A4"
   ]
  },
  {
   "cell_type": "code",
   "execution_count": 1,
   "metadata": {},
   "outputs": [],
   "source": [
    "from sympy import *\n",
    "from sympy.solvers.diophantine import diophantine\n",
    "x, y, z, k= symbols(\"x, y, z, k\", integer=True)\n"
   ]
  },
  {
   "cell_type": "code",
   "execution_count": 18,
   "metadata": {},
   "outputs": [
    {
     "data": {
      "text/plain": [
       "{(3*t_0 + 2, -t_0)}"
      ]
     },
     "execution_count": 18,
     "metadata": {},
     "output_type": "execute_result"
    }
   ],
   "source": [
    "# a.\n",
    "diophantine(42*x + 126*y - 84)"
   ]
  },
  {
   "cell_type": "code",
   "execution_count": 19,
   "metadata": {},
   "outputs": [
    {
     "data": {
      "text/plain": [
       "{(2*t_0 + 1, -3*t_0 - 1)}"
      ]
     },
     "execution_count": 19,
     "metadata": {},
     "output_type": "execute_result"
    }
   ],
   "source": [
    "# b.\n",
    "diophantine(81*x + 54*y - 27)"
   ]
  },
  {
   "cell_type": "code",
   "execution_count": 20,
   "metadata": {},
   "outputs": [
    {
     "data": {
      "text/plain": [
       "{(11*t_0 - 12, 8 - 7*t_0)}"
      ]
     },
     "execution_count": 20,
     "metadata": {},
     "output_type": "execute_result"
    }
   ],
   "source": [
    "# c.\n",
    "diophantine(77*x + 121*y - 44)"
   ]
  },
  {
   "cell_type": "markdown",
   "metadata": {},
   "source": [
    "----\n",
    "\n",
    "#### A5"
   ]
  },
  {
   "cell_type": "code",
   "execution_count": 8,
   "metadata": {},
   "outputs": [
    {
     "data": {
      "text/plain": [
       "([7*k - 3], {(t_0, 7*t_0 - 3)})"
      ]
     },
     "execution_count": 8,
     "metadata": {},
     "output_type": "execute_result"
    }
   ],
   "source": [
    "# a\n",
    "solve(3 + x - 7*k, x), diophantine(3 + x - 7*k) "
   ]
  },
  {
   "cell_type": "code",
   "execution_count": 6,
   "metadata": {},
   "outputs": [
    {
     "data": {
      "text/plain": [
       "{(5*t_0 + 4, 7*t_0 + 6)}"
      ]
     },
     "execution_count": 6,
     "metadata": {},
     "output_type": "execute_result"
    }
   ],
   "source": [
    "# b\n",
    "diophantine(5*x - 2 - 7*k)    # In der Lösung wird in alphabetischer Reihenfolge ausgegeben"
   ]
  },
  {
   "cell_type": "code",
   "execution_count": 7,
   "metadata": {},
   "outputs": [
    {
     "data": {
      "text/plain": [
       "set()"
      ]
     },
     "execution_count": 7,
     "metadata": {},
     "output_type": "execute_result"
    }
   ],
   "source": [
    "# c\n",
    "diophantine(5*x - 10*k -2 )   # Lösung: leere Menge"
   ]
  },
  {
   "cell_type": "code",
   "execution_count": 9,
   "metadata": {},
   "outputs": [
    {
     "data": {
      "text/plain": [
       "{(t_0, 5*t_0 - 34)}"
      ]
     },
     "execution_count": 9,
     "metadata": {},
     "output_type": "execute_result"
    }
   ],
   "source": [
    "# d\n",
    "diophantine(x+34-k*5) "
   ]
  },
  {
   "cell_type": "markdown",
   "metadata": {},
   "source": [
    "----- \n",
    "\n",
    "#### A7"
   ]
  },
  {
   "cell_type": "code",
   "execution_count": 34,
   "metadata": {},
   "outputs": [
    {
     "name": "stdout",
     "output_type": "stream",
     "text": [
      "-8 * 37  + 9 * 33 = 1\n"
     ]
    },
    {
     "data": {
      "text/html": [
       "<div>\n",
       "<style scoped>\n",
       "    .dataframe tbody tr th:only-of-type {\n",
       "        vertical-align: middle;\n",
       "    }\n",
       "\n",
       "    .dataframe tbody tr th {\n",
       "        vertical-align: top;\n",
       "    }\n",
       "\n",
       "    .dataframe thead th {\n",
       "        text-align: right;\n",
       "    }\n",
       "</style>\n",
       "<table border=\"1\" class=\"dataframe\">\n",
       "  <thead>\n",
       "    <tr style=\"text-align: right;\">\n",
       "      <th></th>\n",
       "      <th>a</th>\n",
       "      <th>b</th>\n",
       "      <th>q</th>\n",
       "      <th>r</th>\n",
       "      <th>x</th>\n",
       "      <th>y</th>\n",
       "    </tr>\n",
       "  </thead>\n",
       "  <tbody>\n",
       "    <tr>\n",
       "      <th>0</th>\n",
       "      <td>37</td>\n",
       "      <td>33</td>\n",
       "      <td>1</td>\n",
       "      <td>4</td>\n",
       "      <td>-8</td>\n",
       "      <td>9</td>\n",
       "    </tr>\n",
       "    <tr>\n",
       "      <th>1</th>\n",
       "      <td>33</td>\n",
       "      <td>4</td>\n",
       "      <td>8</td>\n",
       "      <td>1</td>\n",
       "      <td>1</td>\n",
       "      <td>-8</td>\n",
       "    </tr>\n",
       "    <tr>\n",
       "      <th>2</th>\n",
       "      <td>4</td>\n",
       "      <td>1</td>\n",
       "      <td>4</td>\n",
       "      <td>0</td>\n",
       "      <td>0</td>\n",
       "      <td>1</td>\n",
       "    </tr>\n",
       "  </tbody>\n",
       "</table>\n",
       "</div>"
      ],
      "text/plain": [
       "    a   b  q  r  x  y\n",
       "0  37  33  1  4 -8  9\n",
       "1  33   4  8  1  1 -8\n",
       "2   4   1  4  0  0  1"
      ]
     },
     "execution_count": 34,
     "metadata": {},
     "output_type": "execute_result"
    }
   ],
   "source": [
    "# .a\n",
    "egcd_tab(37,33)"
   ]
  },
  {
   "cell_type": "code",
   "execution_count": 22,
   "metadata": {},
   "outputs": [
    {
     "data": {
      "text/plain": [
       "8"
      ]
     },
     "execution_count": 22,
     "metadata": {},
     "output_type": "execute_result"
    }
   ],
   "source": [
    "(9 * 5) % 37"
   ]
  },
  {
   "cell_type": "code",
   "execution_count": 33,
   "metadata": {},
   "outputs": [
    {
     "name": "stdout",
     "output_type": "stream",
     "text": [
      "9 * 89  + -40 * 20 = 1\n"
     ]
    },
    {
     "data": {
      "text/html": [
       "<div>\n",
       "<style scoped>\n",
       "    .dataframe tbody tr th:only-of-type {\n",
       "        vertical-align: middle;\n",
       "    }\n",
       "\n",
       "    .dataframe tbody tr th {\n",
       "        vertical-align: top;\n",
       "    }\n",
       "\n",
       "    .dataframe thead th {\n",
       "        text-align: right;\n",
       "    }\n",
       "</style>\n",
       "<table border=\"1\" class=\"dataframe\">\n",
       "  <thead>\n",
       "    <tr style=\"text-align: right;\">\n",
       "      <th></th>\n",
       "      <th>a</th>\n",
       "      <th>b</th>\n",
       "      <th>q</th>\n",
       "      <th>r</th>\n",
       "      <th>x</th>\n",
       "      <th>y</th>\n",
       "    </tr>\n",
       "  </thead>\n",
       "  <tbody>\n",
       "    <tr>\n",
       "      <th>0</th>\n",
       "      <td>89</td>\n",
       "      <td>20</td>\n",
       "      <td>4</td>\n",
       "      <td>9</td>\n",
       "      <td>9</td>\n",
       "      <td>-40</td>\n",
       "    </tr>\n",
       "    <tr>\n",
       "      <th>1</th>\n",
       "      <td>20</td>\n",
       "      <td>9</td>\n",
       "      <td>2</td>\n",
       "      <td>2</td>\n",
       "      <td>-4</td>\n",
       "      <td>9</td>\n",
       "    </tr>\n",
       "    <tr>\n",
       "      <th>2</th>\n",
       "      <td>9</td>\n",
       "      <td>2</td>\n",
       "      <td>4</td>\n",
       "      <td>1</td>\n",
       "      <td>1</td>\n",
       "      <td>-4</td>\n",
       "    </tr>\n",
       "    <tr>\n",
       "      <th>3</th>\n",
       "      <td>2</td>\n",
       "      <td>1</td>\n",
       "      <td>2</td>\n",
       "      <td>0</td>\n",
       "      <td>0</td>\n",
       "      <td>1</td>\n",
       "    </tr>\n",
       "  </tbody>\n",
       "</table>\n",
       "</div>"
      ],
      "text/plain": [
       "    a   b  q  r  x   y\n",
       "0  89  20  4  9  9 -40\n",
       "1  20   9  2  2 -4   9\n",
       "2   9   2  4  1  1  -4\n",
       "3   2   1  2  0  0   1"
      ]
     },
     "execution_count": 33,
     "metadata": {},
     "output_type": "execute_result"
    }
   ],
   "source": [
    "# .b\n",
    "egcd_tab(89,20)"
   ]
  },
  {
   "cell_type": "code",
   "execution_count": 24,
   "metadata": {},
   "outputs": [
    {
     "data": {
      "text/plain": [
       "76"
      ]
     },
     "execution_count": 24,
     "metadata": {},
     "output_type": "execute_result"
    }
   ],
   "source": [
    "(-40 * 7) % 89"
   ]
  },
  {
   "cell_type": "markdown",
   "metadata": {},
   "source": [
    "----\n",
    "\n",
    "#### A8"
   ]
  },
  {
   "cell_type": "code",
   "execution_count": 25,
   "metadata": {},
   "outputs": [
    {
     "data": {
      "text/plain": [
       "10"
      ]
     },
     "execution_count": 25,
     "metadata": {},
     "output_type": "execute_result"
    }
   ],
   "source": [
    "(4 ** 11) % 13"
   ]
  },
  {
   "cell_type": "code",
   "execution_count": 35,
   "metadata": {},
   "outputs": [],
   "source": [
    "def egcd(a, b):\n",
    "    if a == 0:\n",
    "        return (b, 0, 1)\n",
    "    else:\n",
    "        g, y, x = egcd(b % a, a)\n",
    "        return (g, x - (b // a) * y, y)\n",
    "\n",
    "def modinv(a, m):\n",
    "    g, x, y = egcd(a, m)\n",
    "    if g != 1:\n",
    "        raise Exception('modular inverse does not exist')\n",
    "    else:\n",
    "        return x % m"
   ]
  },
  {
   "cell_type": "code",
   "execution_count": 41,
   "metadata": {},
   "outputs": [
    {
     "data": {
      "text/plain": [
       "4"
      ]
     },
     "execution_count": 41,
     "metadata": {},
     "output_type": "execute_result"
    }
   ],
   "source": [
    "# a.\n",
    "modinv(4**11,13) "
   ]
  },
  {
   "cell_type": "code",
   "execution_count": 42,
   "metadata": {},
   "outputs": [
    {
     "data": {
      "text/plain": [
       "13"
      ]
     },
     "execution_count": 42,
     "metadata": {},
     "output_type": "execute_result"
    }
   ],
   "source": [
    "# b.\n",
    "(6 ** 31) % 29"
   ]
  },
  {
   "cell_type": "code",
   "execution_count": 43,
   "metadata": {},
   "outputs": [
    {
     "data": {
      "text/plain": [
       "20"
      ]
     },
     "execution_count": 43,
     "metadata": {},
     "output_type": "execute_result"
    }
   ],
   "source": [
    "# c.\n",
    "(6 ** 32) % 29"
   ]
  },
  {
   "cell_type": "markdown",
   "metadata": {},
   "source": [
    "-----\n",
    "\n",
    "#### A9"
   ]
  },
  {
   "cell_type": "code",
   "execution_count": 45,
   "metadata": {},
   "outputs": [
    {
     "data": {
      "text/plain": [
       "5"
      ]
     },
     "execution_count": 45,
     "metadata": {},
     "output_type": "execute_result"
    }
   ],
   "source": [
    "# a.\n",
    "modinv(5**21, 23) "
   ]
  },
  {
   "cell_type": "code",
   "execution_count": 46,
   "metadata": {},
   "outputs": [
    {
     "data": {
      "text/plain": [
       "20"
      ]
     },
     "execution_count": 46,
     "metadata": {},
     "output_type": "execute_result"
    }
   ],
   "source": [
    "# b.\n",
    "modinv(10**13, 23)"
   ]
  },
  {
   "cell_type": "code",
   "execution_count": 47,
   "metadata": {},
   "outputs": [
    {
     "data": {
      "text/plain": [
       "20"
      ]
     },
     "execution_count": 47,
     "metadata": {},
     "output_type": "execute_result"
    }
   ],
   "source": [
    "# c.\n",
    "(7 * modinv(10 ** 12, 23)) % 23"
   ]
  },
  {
   "cell_type": "code",
   "execution_count": 48,
   "metadata": {},
   "outputs": [
    {
     "data": {
      "text/plain": [
       "16"
      ]
     },
     "execution_count": 48,
     "metadata": {},
     "output_type": "execute_result"
    }
   ],
   "source": [
    "# d.\n",
    "(7 * modinv(22,23)) % 23"
   ]
  },
  {
   "cell_type": "markdown",
   "metadata": {},
   "source": [
    "-----\n",
    "\n",
    "#### A10"
   ]
  },
  {
   "cell_type": "code",
   "execution_count": 56,
   "metadata": {},
   "outputs": [],
   "source": [
    "def diffie(p,g,a,b):\n",
    "    A = (g ** a) % p\n",
    "    B = (g ** b) % p\n",
    "    K = (B ** a) % p\n",
    "\n",
    "    print(f'Öffentlich: A={A}, B={B}, p={p}, g={g}')\n",
    "    print(f'Gemeinsamer Schlüssel: K={K}')"
   ]
  },
  {
   "cell_type": "code",
   "execution_count": 58,
   "metadata": {},
   "outputs": [
    {
     "name": "stdout",
     "output_type": "stream",
     "text": [
      "Öffentlich: A=6, B=4, p=7, g=3\n",
      "Gemeinsamer Schlüssel: K=1\n"
     ]
    }
   ],
   "source": [
    "# a.\n",
    "diffie(7,3,3,4)"
   ]
  },
  {
   "cell_type": "code",
   "execution_count": 59,
   "metadata": {},
   "outputs": [
    {
     "name": "stdout",
     "output_type": "stream",
     "text": [
      "Öffentlich: A=14, B=19, p=23, g=7\n",
      "Gemeinsamer Schlüssel: K=20\n"
     ]
    }
   ],
   "source": [
    "# b.\n",
    "diffie(23,7,15,17)"
   ]
  },
  {
   "cell_type": "markdown",
   "metadata": {},
   "source": [
    "------\n",
    "\n",
    "#### A12"
   ]
  },
  {
   "cell_type": "code",
   "execution_count": 151,
   "metadata": {},
   "outputs": [],
   "source": [
    "def ggTr(a,b):\n",
    "    while b!= 0:\n",
    "        a, b = b, a% b\n",
    "    return a\n",
    "    \n",
    "def rsa(p,q,v,n):\n",
    "    print(f'p={p}, q={q}, v={v}')\n",
    "    m = p*q\n",
    "    ms = (p-1)*(q-1)\n",
    "    print(f'RSA-Modul m={m}, m_schlange={ms}')\n",
    "    print(f'ggT von v und m_schlange ist {ggTr(v,ms)}')\n",
    "\n",
    "    e = modinv(v,ms)\n",
    "    print(f'Öffentlicher Schlüssel:  ({m},{v})')\n",
    "    print(f'Privater Schlüssel: ({m},{e})' )\n",
    "    N = (n ** v) % m\n",
    "    print(f'Nachricht: {n}')\n",
    "    print(f'Verschlüsselte Nachricht: {N}')\n",
    "    print()\n",
    "    print('Hilfsmittel:')\n",
    "    reihe(m)\n",
    "    print()\n",
    "    binaer(v)\n",
    "    print()\n",
    "    potenzen(n,m)\n",
    "    \n",
    "def reihe(m):\n",
    "    print(f'Die {m}er-Reihe')\n",
    "    for i in range(1,10):\n",
    "        print(i,i*m)\n",
    "        \n",
    "def binaer(x):\n",
    "    x1 = x\n",
    "    print(f'Binärdarstellung von {x}')\n",
    "   \n",
    "    if x == 0: return '0'\n",
    "    s = \"\"  \n",
    "    print(f'{x:4}')\n",
    "    while x != 0:\n",
    "        s = str(x%2) + s\n",
    "        print(f'{x//2:4}{x%2:4}')\n",
    "        x = x // 2\n",
    "    print(f'{x1} binär: {s}')\n",
    "    \n",
    "def potenzen(n, m):\n",
    "    print('Nützliche Potenzen')\n",
    "    for i in range(0,10):\n",
    "        pot = n**(2**i) % m\n",
    "        print(f'{i} - {n}^{2**i} mod {m} = {pot} = {pot-m}')\n",
    "        "
   ]
  },
  {
   "cell_type": "code",
   "execution_count": 152,
   "metadata": {},
   "outputs": [
    {
     "name": "stdout",
     "output_type": "stream",
     "text": [
      "p=3, q=11, v=7\n",
      "RSA-Modul m=33, m_schlange=20\n",
      "ggT von v und m_schlange ist 1\n",
      "Öffentlicher Schlüssel:  (33,7)\n",
      "Privater Schlüssel: (33,3)\n",
      "Nachricht: 6\n",
      "Verschlüsselte Nachricht: 30\n",
      "\n",
      "Hilfsmittel:\n",
      "Die 33er-Reihe\n",
      "1 33\n",
      "2 66\n",
      "3 99\n",
      "4 132\n",
      "5 165\n",
      "6 198\n",
      "7 231\n",
      "8 264\n",
      "9 297\n",
      "\n",
      "Binärdarstellung von 7\n",
      "   7\n",
      "   3   1\n",
      "   1   1\n",
      "   0   1\n",
      "7 binär: 111\n",
      "\n",
      "Nützliche Potenzen\n",
      "0 - 6^1 mod 33 = 6 = -27\n",
      "1 - 6^2 mod 33 = 3 = -30\n",
      "2 - 6^4 mod 33 = 9 = -24\n",
      "3 - 6^8 mod 33 = 15 = -18\n",
      "4 - 6^16 mod 33 = 27 = -6\n",
      "5 - 6^32 mod 33 = 3 = -30\n",
      "6 - 6^64 mod 33 = 9 = -24\n",
      "7 - 6^128 mod 33 = 15 = -18\n",
      "8 - 6^256 mod 33 = 27 = -6\n",
      "9 - 6^512 mod 33 = 3 = -30\n"
     ]
    }
   ],
   "source": [
    "rsa(3,11,7,6)"
   ]
  },
  {
   "cell_type": "code",
   "execution_count": 150,
   "metadata": {},
   "outputs": [
    {
     "name": "stdout",
     "output_type": "stream",
     "text": [
      "p=7, q=11, v=47\n",
      "RSA-Modul m=77, m_schlange=60\n",
      "ggT von v und m_schlange ist 1\n",
      "Öffentlicher Schlüssel:  (77,47)\n",
      "Privater Schlüssel: (77,23)\n",
      "Nachricht: 2\n",
      "Verschlüsselte Nachricht: 18\n",
      "\n",
      "Hilfsmittel:\n",
      "Die 77er-Reihe\n",
      "1 77\n",
      "2 154\n",
      "3 231\n",
      "4 308\n",
      "5 385\n",
      "6 462\n",
      "7 539\n",
      "8 616\n",
      "9 693\n",
      "\n",
      "Binärdarstellung von 47\n",
      "  47\n",
      "  23   1\n",
      "  11   1\n",
      "   5   1\n",
      "   2   1\n",
      "   1   0\n",
      "   0   1\n",
      "47 binär: 101111\n",
      "\n",
      "Nützliche Potenzen\n",
      "0 - 2^1 mod 77 = 2 = -75\n",
      "1 - 2^2 mod 77 = 4 = -73\n",
      "2 - 2^4 mod 77 = 16 = -61\n",
      "3 - 2^8 mod 77 = 25 = -52\n",
      "4 - 2^16 mod 77 = 9 = -68\n",
      "5 - 2^32 mod 77 = 4 = -73\n",
      "6 - 2^64 mod 77 = 16 = -61\n",
      "7 - 2^128 mod 77 = 25 = -52\n",
      "8 - 2^256 mod 77 = 9 = -68\n",
      "9 - 2^512 mod 77 = 4 = -73\n"
     ]
    }
   ],
   "source": [
    "rsa(7,11,47,2)"
   ]
  }
 ],
 "metadata": {
  "kernelspec": {
   "display_name": "Python 3",
   "language": "python",
   "name": "python3"
  },
  "language_info": {
   "codemirror_mode": {
    "name": "ipython",
    "version": 3
   },
   "file_extension": ".py",
   "mimetype": "text/x-python",
   "name": "python",
   "nbconvert_exporter": "python",
   "pygments_lexer": "ipython3",
   "version": "3.7.9"
  }
 },
 "nbformat": 4,
 "nbformat_minor": 4
}

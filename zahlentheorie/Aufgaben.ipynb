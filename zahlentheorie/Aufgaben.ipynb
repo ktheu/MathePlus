{
 "cells": [
  {
   "cell_type": "markdown",
   "metadata": {},
   "source": [
    "## Aufgaben"
   ]
  },
  {
   "cell_type": "code",
   "execution_count": 7,
   "metadata": {},
   "outputs": [],
   "source": [
    "import pandas as pd\n",
    "import numpy as np\n",
    "\n",
    "from sympy import *\n",
    "from sympy.solvers.diophantine import diophantine\n",
    "x, y, z = symbols(\"x, y, z\", integer=True)\n",
    "from IPython.display import display, HTML\n",
    "\n",
    "def ggT(a,b):\n",
    "    print(f'{a:6} {b:6}')  \n",
    "    while b != 0:\n",
    "        a, b = b, a% b\n",
    "        print(f'{a:6} {b:6}') \n",
    "\n",
    "\n",
    "def egcd_tab(a,b):\n",
    "    zeile = []\n",
    "    zeile.append([a,b,a//b,a%b])\n",
    "    i = 1\n",
    "\n",
    "    while a%b != 0:\n",
    "        a = zeile[i-1][1]\n",
    "        b = zeile[i-1][3]\n",
    "        zeile.append([a,b,a//b,a%b])\n",
    "        i = i+1\n",
    "\n",
    "    k = len(zeile)-1\n",
    "    zeile[k]+=[0,1]\n",
    "    k=k-1\n",
    "\n",
    "    while k >=0:\n",
    "        x = zeile[k+1][5]\n",
    "        y = zeile[k+1][4]-zeile[k][2]*zeile[k+1][5]\n",
    "        zeile[k]+=[x,y]\n",
    "        k = k-1\n",
    "    \n",
    "    df =  pd.DataFrame(zeile,columns=['a', 'b', 'q', 'r', 'x', 'y'])\n",
    "    satz = f'{df.iloc[0,4]} * {df.iloc[0,0]}  + {df.iloc[0,5]} * {df.iloc[0,1]} = {df.iloc[-1,1]}'\n",
    "    print(satz)\n",
    "    return df\n",
    "\n",
    "def egcd(a, b):\n",
    "    if a == 0:\n",
    "        return (b, 0, 1)\n",
    "    else:\n",
    "        g, y, x = egcd(b % a, a)\n",
    "        return (g, x - (b // a) * y, y)\n",
    "\n",
    "def modinv(a, m):\n",
    "    g, x, y = egcd(a, m)\n",
    "    if g != 1:\n",
    "        raise Exception('modular inverse does not exist')\n",
    "    else:\n",
    "        return x % m\n",
    "\n",
    "def ggTr(a,b):\n",
    "    while b!= 0:\n",
    "        a, b = b, a% b\n",
    "    return a\n",
    "    \n",
    "def rsa(p,q,e,n):\n",
    "    print(f'p={p}, q={q}, e={e}')\n",
    "    m = p*q\n",
    "    ms = (p-1)*(q-1)\n",
    "    print(f'RSA-Modul m={m}, m_schlange={ms}')\n",
    "    print(f'ggT von v und m_schlange ist {ggTr(e,ms)}')\n",
    "\n",
    "    d = modinv(e,ms)\n",
    "    print(f'Öffentlicher Schlüssel:  ({m},{e})')\n",
    "    print(f'Privater Schlüssel: ({m},{d})' )\n",
    "    N = (n ** e) % m\n",
    "    print(f'Nachricht: {n}')\n",
    "    print(f'Verschlüsselte Nachricht: {N}')\n",
    "    print()\n",
    "    print('Hilfsmittel:')\n",
    "    reihe(m)\n",
    "    print()\n",
    "    binaer(e)\n",
    "    print()\n",
    "    potenzen(n,m)\n",
    "    \n",
    "def reihe(m):\n",
    "    print(f'Die {m}er-Reihe')\n",
    "    for i in range(1,10):\n",
    "        print(i,i*m)\n",
    "        \n",
    "def binaer(x):\n",
    "    x1 = x\n",
    "    print(f'Binärdarstellung von {x}')\n",
    "   \n",
    "    if x == 0: return '0'\n",
    "    s = \"\"  \n",
    "    print(f'{x:4}')\n",
    "    while x != 0:\n",
    "        s = str(x%2) + s\n",
    "        print(f'{x//2:4}{x%2:4}')\n",
    "        x = x // 2\n",
    "    print(f'{x1} binär: {s}')\n",
    "    \n",
    "def potenzen(n, m):\n",
    "    print('Nützliche Potenzen')\n",
    "    for i in range(0,10):\n",
    "        pot = n**(2**i) % m\n",
    "        print(f'{i} - {n}^{2**i} mod {m} = {pot} = {pot-m}')\n",
    "\n",
    "def diffie_uebung(p,g,a,b):\n",
    "    print(f'p = {p}, g = {g}, a = {a}, b = {b}')\n",
    "    print('Berechne A, B und den gemeinsamen Schlüssel K.\\n')\n",
    "    print(f'Die {p}er-Reihe')\n",
    "    for i in range(1,11):\n",
    "        print(f'{i} * {p} = {i*p}')\n",
    "    \n",
    "    print(f'\\nPotenzen von {g}')\n",
    "    for i in range(0,10):\n",
    "        x = g**(2**i) % p\n",
    "        print(f'{i} - {g}^{2**i} mod {p} = {x} = {x-p}')\n",
    "        \n",
    "def diffie(p,g,a,b):\n",
    "    print(f'p = {p}, g = {g}, a = {a}, b = {b}')\n",
    "    A = (g ** a) % p\n",
    "    B = (g ** b) % p\n",
    "    K = (B ** a) % p\n",
    "\n",
    "    print(f'Öffentlich: A={A}, B={B}, p={p}, g={g}')\n",
    "    print(f'Gemeinsamer Schlüssel: K={K}')\n",
    "    \n",
    "\n",
    "    \n",
    "def pliste(p,g):\n",
    "    ''' die Potenzen g hoch x mod p  '''\n",
    " \n",
    "    print(f'Die Potenzen von {g} mod {p}')\n",
    "    \n",
    "    df = pd.DataFrame(columns=list(range(1,p)))\n",
    "    a = [(g ** x) % p for x in range(1,p) ]\n",
    "    df.loc[f'{g}^x mod {p}'] = a\n",
    "\n",
    "\n",
    "    display(HTML(df.to_html()))\n",
    "\n",
    "def diffie_knack(p,g,A,B):\n",
    "    print(f'p = {p}, g = {g}, A = {A}, B = {B}.')\n",
    "    print('Knacke Diffie-Hellman. Wie heißen die Geheimnisse von Alice und Bob und der gemeinsame Schlüssel K?')\n",
    "    print(f'\\nPotenzen von {g}')\n",
    "    for i in range(0,10):\n",
    "        x = g**(2**i) % p\n",
    "        print(f'{i} - {g}^{2**i} mod {p} = {x} = {x-p}')\n",
    "    print()\n",
    "    reihe(p)\n",
    "    print()\n",
    "    pliste(p,g)\n",
    "    \n",
    "def quadratzahlen():\n",
    "    tmp = \"Quadratzahlen\\n\"\n",
    "    for i in range(11,21):\n",
    "        tmp += f'{i}-{i*i} '\n",
    "    tmp +='\\n'\n",
    "    for i in range(21,31):\n",
    "        tmp += f'{i}-{i*i} '\n",
    "    return tmp  \n",
    "\n",
    "\n",
    "def rsa_uebung(p, q, e, n):\n",
    "    print(f'p = {p}, q = {q}, e = {e}, n = {n}')\n",
    "    \n",
    "    print(f'Berechne den öffentlichen Schlüssel und prüfe dessen Zulässigkeit.')\n",
    "    print(f'Berechne den privaten Schlüssel.')\n",
    "    print(f'Verschlüssele die Nachricht n und teste den privaten Schlüssel.')\n",
    "    print()\n",
    "    reihe(p*q)\n",
    "    print()\n",
    "    print(quadratzahlen())\n",
    "    \n",
    "def rsa_loesung(p,q,e,n):\n",
    "    print(f'p = {p}, q = {q}, e = {e}, n = {n}')\n",
    "    m = p * q\n",
    "    m_schlange = (p-1)*(q-1)\n",
    "    print(f'm = {m}, m_schlange = {m_schlange}')\n",
    "    print(f'ggT({e},{m_schlange}) = {ggTr(e,m_schlange)}')\n",
    "    df = egcd_tab(m_schlange,e)\n",
    "    display(HTML(df.to_html()))\n",
    "    d = modinv(e,m_schlange)\n",
    "    print(f'd = {d}')\n",
    "    print(f'oeffentlicher Schlüssel: ({m},{e})')\n",
    "    print(f'privater Schlüssel: ({m},{d})')\n",
    "    print()\n",
    "    print(f'Verschlüsselung der Nachricht: {n}')\n",
    "    print(f'\\nPotenzen von {n}')\n",
    "    for i in range(0,10):\n",
    "        x = n**(2**i) % m\n",
    "        print(f'{i} - {n}^{2**i} mod {m} = {x} = {x-m}')\n",
    "    N = (n**e) % m\n",
    "    print(f'N = {N}')\n",
    "    print()\n",
    "    print(f'Entschlüsseln der Nachricht: {N}')\n",
    "    print(f'\\nPotenzen von {N}')\n",
    "    for i in range(0,10):\n",
    "        x = N**(2**i) % m\n",
    "        print(f'{i} - {N}^{2**i} mod {m} = {x} = {x-m}')\n",
    "    n1 = (N**d) % m\n",
    "    print(f'n = {n1}')   \n",
    "    \n",
    "def reihen():\n",
    "    ''' Multiplikationsreihen für ausgewählte Zahlen '''       \n",
    "    df = pd.DataFrame(columns=range(1,16))\n",
    "    for x in sorted([17,23,29,31,33,77,91]):\n",
    "        df.loc[x] =  [i*x for i in range(1,16)]   \n",
    "    return df"
   ]
  },
  {
   "cell_type": "markdown",
   "metadata": {},
   "source": [
    "#### A1:\n"
   ]
  },
  {
   "cell_type": "code",
   "execution_count": 115,
   "metadata": {},
   "outputs": [],
   "source": [
    "def ggT(a,b):\n",
    "    print(f'{a:6} {b:6}')  \n",
    "    while b != 0:\n",
    "        a, b = b, a% b\n",
    "        print(f'{a:6} {b:6}') "
   ]
  },
  {
   "cell_type": "code",
   "execution_count": 116,
   "metadata": {},
   "outputs": [
    {
     "name": "stdout",
     "output_type": "stream",
     "text": [
      "   150     54\n",
      "    54     42\n",
      "    42     12\n",
      "    12      6\n",
      "     6      0\n"
     ]
    }
   ],
   "source": [
    "# a.\n",
    "ggT(150,54)"
   ]
  },
  {
   "cell_type": "code",
   "execution_count": 117,
   "metadata": {},
   "outputs": [
    {
     "name": "stdout",
     "output_type": "stream",
     "text": [
      "   300    468\n",
      "   468    300\n",
      "   300    168\n",
      "   168    132\n",
      "   132     36\n",
      "    36     24\n",
      "    24     12\n",
      "    12      0\n"
     ]
    }
   ],
   "source": [
    "# b.\n",
    "ggT(300,468)"
   ]
  },
  {
   "cell_type": "code",
   "execution_count": 118,
   "metadata": {},
   "outputs": [
    {
     "name": "stdout",
     "output_type": "stream",
     "text": [
      "    44     18\n",
      "    18      8\n",
      "     8      2\n",
      "     2      0\n"
     ]
    }
   ],
   "source": [
    "# c.\n",
    "ggT(44,18)"
   ]
  },
  {
   "cell_type": "code",
   "execution_count": 119,
   "metadata": {},
   "outputs": [
    {
     "name": "stdout",
     "output_type": "stream",
     "text": [
      "   992    999\n",
      "   999    992\n",
      "   992      7\n",
      "     7      5\n",
      "     5      2\n",
      "     2      1\n",
      "     1      0\n"
     ]
    }
   ],
   "source": [
    "# d.\n",
    "ggT(992,999)"
   ]
  },
  {
   "cell_type": "markdown",
   "metadata": {},
   "source": [
    "----\n",
    "\n",
    "#### A2"
   ]
  },
  {
   "cell_type": "code",
   "execution_count": 120,
   "metadata": {},
   "outputs": [
    {
     "name": "stdout",
     "output_type": "stream",
     "text": [
      "-7 * 531  + 40 * 93 = 3\n"
     ]
    },
    {
     "data": {
      "text/html": [
       "<div>\n",
       "<style scoped>\n",
       "    .dataframe tbody tr th:only-of-type {\n",
       "        vertical-align: middle;\n",
       "    }\n",
       "\n",
       "    .dataframe tbody tr th {\n",
       "        vertical-align: top;\n",
       "    }\n",
       "\n",
       "    .dataframe thead th {\n",
       "        text-align: right;\n",
       "    }\n",
       "</style>\n",
       "<table border=\"1\" class=\"dataframe\">\n",
       "  <thead>\n",
       "    <tr style=\"text-align: right;\">\n",
       "      <th></th>\n",
       "      <th>a</th>\n",
       "      <th>b</th>\n",
       "      <th>q</th>\n",
       "      <th>r</th>\n",
       "      <th>x</th>\n",
       "      <th>y</th>\n",
       "    </tr>\n",
       "  </thead>\n",
       "  <tbody>\n",
       "    <tr>\n",
       "      <th>0</th>\n",
       "      <td>531</td>\n",
       "      <td>93</td>\n",
       "      <td>5</td>\n",
       "      <td>66</td>\n",
       "      <td>-7</td>\n",
       "      <td>40</td>\n",
       "    </tr>\n",
       "    <tr>\n",
       "      <th>1</th>\n",
       "      <td>93</td>\n",
       "      <td>66</td>\n",
       "      <td>1</td>\n",
       "      <td>27</td>\n",
       "      <td>5</td>\n",
       "      <td>-7</td>\n",
       "    </tr>\n",
       "    <tr>\n",
       "      <th>2</th>\n",
       "      <td>66</td>\n",
       "      <td>27</td>\n",
       "      <td>2</td>\n",
       "      <td>12</td>\n",
       "      <td>-2</td>\n",
       "      <td>5</td>\n",
       "    </tr>\n",
       "    <tr>\n",
       "      <th>3</th>\n",
       "      <td>27</td>\n",
       "      <td>12</td>\n",
       "      <td>2</td>\n",
       "      <td>3</td>\n",
       "      <td>1</td>\n",
       "      <td>-2</td>\n",
       "    </tr>\n",
       "    <tr>\n",
       "      <th>4</th>\n",
       "      <td>12</td>\n",
       "      <td>3</td>\n",
       "      <td>4</td>\n",
       "      <td>0</td>\n",
       "      <td>0</td>\n",
       "      <td>1</td>\n",
       "    </tr>\n",
       "  </tbody>\n",
       "</table>\n",
       "</div>"
      ],
      "text/plain": [
       "     a   b  q   r  x   y\n",
       "0  531  93  5  66 -7  40\n",
       "1   93  66  1  27  5  -7\n",
       "2   66  27  2  12 -2   5\n",
       "3   27  12  2   3  1  -2\n",
       "4   12   3  4   0  0   1"
      ]
     },
     "execution_count": 120,
     "metadata": {},
     "output_type": "execute_result"
    }
   ],
   "source": [
    "# a.\n",
    "egcd_tab(531,93)"
   ]
  },
  {
   "cell_type": "code",
   "execution_count": 121,
   "metadata": {},
   "outputs": [
    {
     "name": "stdout",
     "output_type": "stream",
     "text": [
      "17 * 753  + -200 * 64 = 1\n"
     ]
    },
    {
     "data": {
      "text/html": [
       "<div>\n",
       "<style scoped>\n",
       "    .dataframe tbody tr th:only-of-type {\n",
       "        vertical-align: middle;\n",
       "    }\n",
       "\n",
       "    .dataframe tbody tr th {\n",
       "        vertical-align: top;\n",
       "    }\n",
       "\n",
       "    .dataframe thead th {\n",
       "        text-align: right;\n",
       "    }\n",
       "</style>\n",
       "<table border=\"1\" class=\"dataframe\">\n",
       "  <thead>\n",
       "    <tr style=\"text-align: right;\">\n",
       "      <th></th>\n",
       "      <th>a</th>\n",
       "      <th>b</th>\n",
       "      <th>q</th>\n",
       "      <th>r</th>\n",
       "      <th>x</th>\n",
       "      <th>y</th>\n",
       "    </tr>\n",
       "  </thead>\n",
       "  <tbody>\n",
       "    <tr>\n",
       "      <th>0</th>\n",
       "      <td>753</td>\n",
       "      <td>64</td>\n",
       "      <td>11</td>\n",
       "      <td>49</td>\n",
       "      <td>17</td>\n",
       "      <td>-200</td>\n",
       "    </tr>\n",
       "    <tr>\n",
       "      <th>1</th>\n",
       "      <td>64</td>\n",
       "      <td>49</td>\n",
       "      <td>1</td>\n",
       "      <td>15</td>\n",
       "      <td>-13</td>\n",
       "      <td>17</td>\n",
       "    </tr>\n",
       "    <tr>\n",
       "      <th>2</th>\n",
       "      <td>49</td>\n",
       "      <td>15</td>\n",
       "      <td>3</td>\n",
       "      <td>4</td>\n",
       "      <td>4</td>\n",
       "      <td>-13</td>\n",
       "    </tr>\n",
       "    <tr>\n",
       "      <th>3</th>\n",
       "      <td>15</td>\n",
       "      <td>4</td>\n",
       "      <td>3</td>\n",
       "      <td>3</td>\n",
       "      <td>-1</td>\n",
       "      <td>4</td>\n",
       "    </tr>\n",
       "    <tr>\n",
       "      <th>4</th>\n",
       "      <td>4</td>\n",
       "      <td>3</td>\n",
       "      <td>1</td>\n",
       "      <td>1</td>\n",
       "      <td>1</td>\n",
       "      <td>-1</td>\n",
       "    </tr>\n",
       "    <tr>\n",
       "      <th>5</th>\n",
       "      <td>3</td>\n",
       "      <td>1</td>\n",
       "      <td>3</td>\n",
       "      <td>0</td>\n",
       "      <td>0</td>\n",
       "      <td>1</td>\n",
       "    </tr>\n",
       "  </tbody>\n",
       "</table>\n",
       "</div>"
      ],
      "text/plain": [
       "     a   b   q   r   x    y\n",
       "0  753  64  11  49  17 -200\n",
       "1   64  49   1  15 -13   17\n",
       "2   49  15   3   4   4  -13\n",
       "3   15   4   3   3  -1    4\n",
       "4    4   3   1   1   1   -1\n",
       "5    3   1   3   0   0    1"
      ]
     },
     "execution_count": 121,
     "metadata": {},
     "output_type": "execute_result"
    }
   ],
   "source": [
    "# b.\n",
    "egcd_tab(753,64)"
   ]
  },
  {
   "cell_type": "code",
   "execution_count": 6,
   "metadata": {},
   "outputs": [
    {
     "name": "stdout",
     "output_type": "stream",
     "text": [
      "8 * 846  + -55 * 123 = 3\n"
     ]
    },
    {
     "data": {
      "text/html": [
       "<div>\n",
       "<style scoped>\n",
       "    .dataframe tbody tr th:only-of-type {\n",
       "        vertical-align: middle;\n",
       "    }\n",
       "\n",
       "    .dataframe tbody tr th {\n",
       "        vertical-align: top;\n",
       "    }\n",
       "\n",
       "    .dataframe thead th {\n",
       "        text-align: right;\n",
       "    }\n",
       "</style>\n",
       "<table border=\"1\" class=\"dataframe\">\n",
       "  <thead>\n",
       "    <tr style=\"text-align: right;\">\n",
       "      <th></th>\n",
       "      <th>a</th>\n",
       "      <th>b</th>\n",
       "      <th>q</th>\n",
       "      <th>r</th>\n",
       "      <th>x</th>\n",
       "      <th>y</th>\n",
       "    </tr>\n",
       "  </thead>\n",
       "  <tbody>\n",
       "    <tr>\n",
       "      <th>0</th>\n",
       "      <td>846</td>\n",
       "      <td>123</td>\n",
       "      <td>6</td>\n",
       "      <td>108</td>\n",
       "      <td>8</td>\n",
       "      <td>-55</td>\n",
       "    </tr>\n",
       "    <tr>\n",
       "      <th>1</th>\n",
       "      <td>123</td>\n",
       "      <td>108</td>\n",
       "      <td>1</td>\n",
       "      <td>15</td>\n",
       "      <td>-7</td>\n",
       "      <td>8</td>\n",
       "    </tr>\n",
       "    <tr>\n",
       "      <th>2</th>\n",
       "      <td>108</td>\n",
       "      <td>15</td>\n",
       "      <td>7</td>\n",
       "      <td>3</td>\n",
       "      <td>1</td>\n",
       "      <td>-7</td>\n",
       "    </tr>\n",
       "    <tr>\n",
       "      <th>3</th>\n",
       "      <td>15</td>\n",
       "      <td>3</td>\n",
       "      <td>5</td>\n",
       "      <td>0</td>\n",
       "      <td>0</td>\n",
       "      <td>1</td>\n",
       "    </tr>\n",
       "  </tbody>\n",
       "</table>\n",
       "</div>"
      ],
      "text/plain": [
       "     a    b  q    r  x   y\n",
       "0  846  123  6  108  8 -55\n",
       "1  123  108  1   15 -7   8\n",
       "2  108   15  7    3  1  -7\n",
       "3   15    3  5    0  0   1"
      ]
     },
     "execution_count": 6,
     "metadata": {},
     "output_type": "execute_result"
    }
   ],
   "source": []
  },
  {
   "cell_type": "markdown",
   "metadata": {},
   "source": [
    "------\n",
    "#### A3"
   ]
  },
  {
   "cell_type": "code",
   "execution_count": 122,
   "metadata": {},
   "outputs": [
    {
     "name": "stdout",
     "output_type": "stream",
     "text": [
      "-2 * 96  + 3 * 66 = 6\n"
     ]
    },
    {
     "data": {
      "text/html": [
       "<div>\n",
       "<style scoped>\n",
       "    .dataframe tbody tr th:only-of-type {\n",
       "        vertical-align: middle;\n",
       "    }\n",
       "\n",
       "    .dataframe tbody tr th {\n",
       "        vertical-align: top;\n",
       "    }\n",
       "\n",
       "    .dataframe thead th {\n",
       "        text-align: right;\n",
       "    }\n",
       "</style>\n",
       "<table border=\"1\" class=\"dataframe\">\n",
       "  <thead>\n",
       "    <tr style=\"text-align: right;\">\n",
       "      <th></th>\n",
       "      <th>a</th>\n",
       "      <th>b</th>\n",
       "      <th>q</th>\n",
       "      <th>r</th>\n",
       "      <th>x</th>\n",
       "      <th>y</th>\n",
       "    </tr>\n",
       "  </thead>\n",
       "  <tbody>\n",
       "    <tr>\n",
       "      <th>0</th>\n",
       "      <td>96</td>\n",
       "      <td>66</td>\n",
       "      <td>1</td>\n",
       "      <td>30</td>\n",
       "      <td>-2</td>\n",
       "      <td>3</td>\n",
       "    </tr>\n",
       "    <tr>\n",
       "      <th>1</th>\n",
       "      <td>66</td>\n",
       "      <td>30</td>\n",
       "      <td>2</td>\n",
       "      <td>6</td>\n",
       "      <td>1</td>\n",
       "      <td>-2</td>\n",
       "    </tr>\n",
       "    <tr>\n",
       "      <th>2</th>\n",
       "      <td>30</td>\n",
       "      <td>6</td>\n",
       "      <td>5</td>\n",
       "      <td>0</td>\n",
       "      <td>0</td>\n",
       "      <td>1</td>\n",
       "    </tr>\n",
       "  </tbody>\n",
       "</table>\n",
       "</div>"
      ],
      "text/plain": [
       "    a   b  q   r  x  y\n",
       "0  96  66  1  30 -2  3\n",
       "1  66  30  2   6  1 -2\n",
       "2  30   6  5   0  0  1"
      ]
     },
     "execution_count": 122,
     "metadata": {},
     "output_type": "execute_result"
    }
   ],
   "source": [
    "# a.\n",
    "egcd_tab(96,66)\n"
   ]
  },
  {
   "cell_type": "code",
   "execution_count": 123,
   "metadata": {},
   "outputs": [
    {
     "name": "stdout",
     "output_type": "stream",
     "text": [
      "-6 * 119  + 5 * 143 = 1\n"
     ]
    },
    {
     "data": {
      "text/html": [
       "<div>\n",
       "<style scoped>\n",
       "    .dataframe tbody tr th:only-of-type {\n",
       "        vertical-align: middle;\n",
       "    }\n",
       "\n",
       "    .dataframe tbody tr th {\n",
       "        vertical-align: top;\n",
       "    }\n",
       "\n",
       "    .dataframe thead th {\n",
       "        text-align: right;\n",
       "    }\n",
       "</style>\n",
       "<table border=\"1\" class=\"dataframe\">\n",
       "  <thead>\n",
       "    <tr style=\"text-align: right;\">\n",
       "      <th></th>\n",
       "      <th>a</th>\n",
       "      <th>b</th>\n",
       "      <th>q</th>\n",
       "      <th>r</th>\n",
       "      <th>x</th>\n",
       "      <th>y</th>\n",
       "    </tr>\n",
       "  </thead>\n",
       "  <tbody>\n",
       "    <tr>\n",
       "      <th>0</th>\n",
       "      <td>119</td>\n",
       "      <td>143</td>\n",
       "      <td>0</td>\n",
       "      <td>119</td>\n",
       "      <td>-6</td>\n",
       "      <td>5</td>\n",
       "    </tr>\n",
       "    <tr>\n",
       "      <th>1</th>\n",
       "      <td>143</td>\n",
       "      <td>119</td>\n",
       "      <td>1</td>\n",
       "      <td>24</td>\n",
       "      <td>5</td>\n",
       "      <td>-6</td>\n",
       "    </tr>\n",
       "    <tr>\n",
       "      <th>2</th>\n",
       "      <td>119</td>\n",
       "      <td>24</td>\n",
       "      <td>4</td>\n",
       "      <td>23</td>\n",
       "      <td>-1</td>\n",
       "      <td>5</td>\n",
       "    </tr>\n",
       "    <tr>\n",
       "      <th>3</th>\n",
       "      <td>24</td>\n",
       "      <td>23</td>\n",
       "      <td>1</td>\n",
       "      <td>1</td>\n",
       "      <td>1</td>\n",
       "      <td>-1</td>\n",
       "    </tr>\n",
       "    <tr>\n",
       "      <th>4</th>\n",
       "      <td>23</td>\n",
       "      <td>1</td>\n",
       "      <td>23</td>\n",
       "      <td>0</td>\n",
       "      <td>0</td>\n",
       "      <td>1</td>\n",
       "    </tr>\n",
       "  </tbody>\n",
       "</table>\n",
       "</div>"
      ],
      "text/plain": [
       "     a    b   q    r  x  y\n",
       "0  119  143   0  119 -6  5\n",
       "1  143  119   1   24  5 -6\n",
       "2  119   24   4   23 -1  5\n",
       "3   24   23   1    1  1 -1\n",
       "4   23    1  23    0  0  1"
      ]
     },
     "execution_count": 123,
     "metadata": {},
     "output_type": "execute_result"
    }
   ],
   "source": [
    "# c.\n",
    "egcd_tab(119,143)"
   ]
  },
  {
   "cell_type": "markdown",
   "metadata": {},
   "source": [
    "----\n",
    "\n",
    "#### A4"
   ]
  },
  {
   "cell_type": "code",
   "execution_count": 124,
   "metadata": {},
   "outputs": [
    {
     "data": {
      "text/plain": [
       "{(3*t_0 + 2, -t_0)}"
      ]
     },
     "execution_count": 124,
     "metadata": {},
     "output_type": "execute_result"
    }
   ],
   "source": [
    "# a.\n",
    "diophantine(42*x + 126*y - 84)"
   ]
  },
  {
   "cell_type": "code",
   "execution_count": 125,
   "metadata": {},
   "outputs": [
    {
     "data": {
      "text/plain": [
       "{(2*t_0 + 1, -3*t_0 - 1)}"
      ]
     },
     "execution_count": 125,
     "metadata": {},
     "output_type": "execute_result"
    }
   ],
   "source": [
    "# b.\n",
    "diophantine(81*x + 54*y - 27)"
   ]
  },
  {
   "cell_type": "code",
   "execution_count": 126,
   "metadata": {},
   "outputs": [
    {
     "data": {
      "text/plain": [
       "{(11*t_0 - 12, 8 - 7*t_0)}"
      ]
     },
     "execution_count": 126,
     "metadata": {},
     "output_type": "execute_result"
    }
   ],
   "source": [
    "# c.\n",
    "diophantine(77*x + 121*y - 44)"
   ]
  },
  {
   "cell_type": "markdown",
   "metadata": {},
   "source": [
    "----\n",
    "\n",
    "#### A5"
   ]
  },
  {
   "cell_type": "code",
   "execution_count": 127,
   "metadata": {},
   "outputs": [
    {
     "data": {
      "text/plain": [
       "([7*k - 3], {(t_0, 7*t_0 - 3)})"
      ]
     },
     "execution_count": 127,
     "metadata": {},
     "output_type": "execute_result"
    }
   ],
   "source": [
    "# a\n",
    "solve(3 + x - 7*k, x), diophantine(3 + x - 7*k) "
   ]
  },
  {
   "cell_type": "code",
   "execution_count": 128,
   "metadata": {},
   "outputs": [
    {
     "data": {
      "text/plain": [
       "{(5*t_0 + 4, 7*t_0 + 6)}"
      ]
     },
     "execution_count": 128,
     "metadata": {},
     "output_type": "execute_result"
    }
   ],
   "source": [
    "# b\n",
    "diophantine(5*x - 2 - 7*k)    # In der Lösung wird in alphabetischer Reihenfolge ausgegeben"
   ]
  },
  {
   "cell_type": "code",
   "execution_count": 129,
   "metadata": {},
   "outputs": [
    {
     "data": {
      "text/plain": [
       "set()"
      ]
     },
     "execution_count": 129,
     "metadata": {},
     "output_type": "execute_result"
    }
   ],
   "source": [
    "# c\n",
    "diophantine(5*x - 10*k -2 )   # Lösung: leere Menge"
   ]
  },
  {
   "cell_type": "code",
   "execution_count": 130,
   "metadata": {},
   "outputs": [
    {
     "data": {
      "text/plain": [
       "{(t_0, 5*t_0 - 34)}"
      ]
     },
     "execution_count": 130,
     "metadata": {},
     "output_type": "execute_result"
    }
   ],
   "source": [
    "# d\n",
    "diophantine(x+34-k*5) "
   ]
  },
  {
   "cell_type": "markdown",
   "metadata": {},
   "source": [
    "----- \n",
    "\n",
    "#### A7"
   ]
  },
  {
   "cell_type": "code",
   "execution_count": 131,
   "metadata": {},
   "outputs": [
    {
     "name": "stdout",
     "output_type": "stream",
     "text": [
      "-8 * 37  + 9 * 33 = 1\n"
     ]
    },
    {
     "data": {
      "text/html": [
       "<div>\n",
       "<style scoped>\n",
       "    .dataframe tbody tr th:only-of-type {\n",
       "        vertical-align: middle;\n",
       "    }\n",
       "\n",
       "    .dataframe tbody tr th {\n",
       "        vertical-align: top;\n",
       "    }\n",
       "\n",
       "    .dataframe thead th {\n",
       "        text-align: right;\n",
       "    }\n",
       "</style>\n",
       "<table border=\"1\" class=\"dataframe\">\n",
       "  <thead>\n",
       "    <tr style=\"text-align: right;\">\n",
       "      <th></th>\n",
       "      <th>a</th>\n",
       "      <th>b</th>\n",
       "      <th>q</th>\n",
       "      <th>r</th>\n",
       "      <th>x</th>\n",
       "      <th>y</th>\n",
       "    </tr>\n",
       "  </thead>\n",
       "  <tbody>\n",
       "    <tr>\n",
       "      <th>0</th>\n",
       "      <td>37</td>\n",
       "      <td>33</td>\n",
       "      <td>1</td>\n",
       "      <td>4</td>\n",
       "      <td>-8</td>\n",
       "      <td>9</td>\n",
       "    </tr>\n",
       "    <tr>\n",
       "      <th>1</th>\n",
       "      <td>33</td>\n",
       "      <td>4</td>\n",
       "      <td>8</td>\n",
       "      <td>1</td>\n",
       "      <td>1</td>\n",
       "      <td>-8</td>\n",
       "    </tr>\n",
       "    <tr>\n",
       "      <th>2</th>\n",
       "      <td>4</td>\n",
       "      <td>1</td>\n",
       "      <td>4</td>\n",
       "      <td>0</td>\n",
       "      <td>0</td>\n",
       "      <td>1</td>\n",
       "    </tr>\n",
       "  </tbody>\n",
       "</table>\n",
       "</div>"
      ],
      "text/plain": [
       "    a   b  q  r  x  y\n",
       "0  37  33  1  4 -8  9\n",
       "1  33   4  8  1  1 -8\n",
       "2   4   1  4  0  0  1"
      ]
     },
     "execution_count": 131,
     "metadata": {},
     "output_type": "execute_result"
    }
   ],
   "source": [
    "# .a\n",
    "egcd_tab(37,33)"
   ]
  },
  {
   "cell_type": "code",
   "execution_count": 132,
   "metadata": {},
   "outputs": [
    {
     "data": {
      "text/plain": [
       "8"
      ]
     },
     "execution_count": 132,
     "metadata": {},
     "output_type": "execute_result"
    }
   ],
   "source": [
    "(9 * 5) % 37"
   ]
  },
  {
   "cell_type": "code",
   "execution_count": 133,
   "metadata": {},
   "outputs": [
    {
     "name": "stdout",
     "output_type": "stream",
     "text": [
      "9 * 89  + -40 * 20 = 1\n"
     ]
    },
    {
     "data": {
      "text/html": [
       "<div>\n",
       "<style scoped>\n",
       "    .dataframe tbody tr th:only-of-type {\n",
       "        vertical-align: middle;\n",
       "    }\n",
       "\n",
       "    .dataframe tbody tr th {\n",
       "        vertical-align: top;\n",
       "    }\n",
       "\n",
       "    .dataframe thead th {\n",
       "        text-align: right;\n",
       "    }\n",
       "</style>\n",
       "<table border=\"1\" class=\"dataframe\">\n",
       "  <thead>\n",
       "    <tr style=\"text-align: right;\">\n",
       "      <th></th>\n",
       "      <th>a</th>\n",
       "      <th>b</th>\n",
       "      <th>q</th>\n",
       "      <th>r</th>\n",
       "      <th>x</th>\n",
       "      <th>y</th>\n",
       "    </tr>\n",
       "  </thead>\n",
       "  <tbody>\n",
       "    <tr>\n",
       "      <th>0</th>\n",
       "      <td>89</td>\n",
       "      <td>20</td>\n",
       "      <td>4</td>\n",
       "      <td>9</td>\n",
       "      <td>9</td>\n",
       "      <td>-40</td>\n",
       "    </tr>\n",
       "    <tr>\n",
       "      <th>1</th>\n",
       "      <td>20</td>\n",
       "      <td>9</td>\n",
       "      <td>2</td>\n",
       "      <td>2</td>\n",
       "      <td>-4</td>\n",
       "      <td>9</td>\n",
       "    </tr>\n",
       "    <tr>\n",
       "      <th>2</th>\n",
       "      <td>9</td>\n",
       "      <td>2</td>\n",
       "      <td>4</td>\n",
       "      <td>1</td>\n",
       "      <td>1</td>\n",
       "      <td>-4</td>\n",
       "    </tr>\n",
       "    <tr>\n",
       "      <th>3</th>\n",
       "      <td>2</td>\n",
       "      <td>1</td>\n",
       "      <td>2</td>\n",
       "      <td>0</td>\n",
       "      <td>0</td>\n",
       "      <td>1</td>\n",
       "    </tr>\n",
       "  </tbody>\n",
       "</table>\n",
       "</div>"
      ],
      "text/plain": [
       "    a   b  q  r  x   y\n",
       "0  89  20  4  9  9 -40\n",
       "1  20   9  2  2 -4   9\n",
       "2   9   2  4  1  1  -4\n",
       "3   2   1  2  0  0   1"
      ]
     },
     "execution_count": 133,
     "metadata": {},
     "output_type": "execute_result"
    }
   ],
   "source": [
    "# .b\n",
    "egcd_tab(89,20)"
   ]
  },
  {
   "cell_type": "code",
   "execution_count": 134,
   "metadata": {},
   "outputs": [
    {
     "data": {
      "text/plain": [
       "76"
      ]
     },
     "execution_count": 134,
     "metadata": {},
     "output_type": "execute_result"
    }
   ],
   "source": [
    "(-40 * 7) % 89"
   ]
  },
  {
   "cell_type": "markdown",
   "metadata": {},
   "source": [
    "----\n",
    "\n",
    "#### A8"
   ]
  },
  {
   "cell_type": "code",
   "execution_count": 135,
   "metadata": {},
   "outputs": [
    {
     "data": {
      "text/plain": [
       "4"
      ]
     },
     "execution_count": 135,
     "metadata": {},
     "output_type": "execute_result"
    }
   ],
   "source": [
    "# a.\n",
    "modinv(4**11,13) "
   ]
  },
  {
   "cell_type": "code",
   "execution_count": 136,
   "metadata": {},
   "outputs": [
    {
     "data": {
      "text/plain": [
       "13"
      ]
     },
     "execution_count": 136,
     "metadata": {},
     "output_type": "execute_result"
    }
   ],
   "source": [
    "# b.\n",
    "(6 ** 31) % 29"
   ]
  },
  {
   "cell_type": "code",
   "execution_count": 137,
   "metadata": {},
   "outputs": [
    {
     "data": {
      "text/plain": [
       "20"
      ]
     },
     "execution_count": 137,
     "metadata": {},
     "output_type": "execute_result"
    }
   ],
   "source": [
    "# c.\n",
    "(6 ** 32) % 29"
   ]
  },
  {
   "cell_type": "markdown",
   "metadata": {},
   "source": [
    "-----\n",
    "\n",
    "#### A9"
   ]
  },
  {
   "cell_type": "code",
   "execution_count": 138,
   "metadata": {},
   "outputs": [
    {
     "data": {
      "text/plain": [
       "5"
      ]
     },
     "execution_count": 138,
     "metadata": {},
     "output_type": "execute_result"
    }
   ],
   "source": [
    "# a.\n",
    "modinv(5**21, 23) "
   ]
  },
  {
   "cell_type": "code",
   "execution_count": 139,
   "metadata": {},
   "outputs": [
    {
     "data": {
      "text/plain": [
       "20"
      ]
     },
     "execution_count": 139,
     "metadata": {},
     "output_type": "execute_result"
    }
   ],
   "source": [
    "# b.\n",
    "modinv(10**13, 23)"
   ]
  },
  {
   "cell_type": "code",
   "execution_count": 140,
   "metadata": {},
   "outputs": [
    {
     "data": {
      "text/plain": [
       "20"
      ]
     },
     "execution_count": 140,
     "metadata": {},
     "output_type": "execute_result"
    }
   ],
   "source": [
    "# c.\n",
    "(7 * modinv(10 ** 12, 23)) % 23"
   ]
  },
  {
   "cell_type": "code",
   "execution_count": 141,
   "metadata": {},
   "outputs": [
    {
     "data": {
      "text/plain": [
       "16"
      ]
     },
     "execution_count": 141,
     "metadata": {},
     "output_type": "execute_result"
    }
   ],
   "source": [
    "# d.\n",
    "(7 * modinv(22,23)) % 23"
   ]
  },
  {
   "cell_type": "markdown",
   "metadata": {},
   "source": [
    "-----\n",
    "\n",
    "#### A10"
   ]
  },
  {
   "cell_type": "code",
   "execution_count": 142,
   "metadata": {},
   "outputs": [
    {
     "name": "stdout",
     "output_type": "stream",
     "text": [
      "p = 7, g = 3, a = 3, b = 4\n",
      "Öffentlich: A=6, B=4, p=7, g=3\n",
      "Gemeinsamer Schlüssel: K=1\n"
     ]
    }
   ],
   "source": [
    "# a.\n",
    "diffie(7,3,3,4)"
   ]
  },
  {
   "cell_type": "code",
   "execution_count": 143,
   "metadata": {},
   "outputs": [
    {
     "name": "stdout",
     "output_type": "stream",
     "text": [
      "p = 23, g = 7, a = 15, b = 17\n",
      "Öffentlich: A=14, B=19, p=23, g=7\n",
      "Gemeinsamer Schlüssel: K=20\n"
     ]
    }
   ],
   "source": [
    "# b.\n",
    "diffie(23,7,15,17)"
   ]
  },
  {
   "cell_type": "markdown",
   "metadata": {},
   "source": [
    "------\n",
    "\n",
    "#### A12"
   ]
  },
  {
   "cell_type": "code",
   "execution_count": 144,
   "metadata": {},
   "outputs": [
    {
     "name": "stdout",
     "output_type": "stream",
     "text": [
      "p=3, q=11, e=7\n",
      "RSA-Modul m=33, m_schlange=20\n",
      "ggT von v und m_schlange ist 1\n",
      "Öffentlicher Schlüssel:  (33,7)\n",
      "Privater Schlüssel: (33,3)\n",
      "Nachricht: 6\n",
      "Verschlüsselte Nachricht: 30\n",
      "\n",
      "Hilfsmittel:\n",
      "Die 33er-Reihe\n",
      "1 33\n",
      "2 66\n",
      "3 99\n",
      "4 132\n",
      "5 165\n",
      "6 198\n",
      "7 231\n",
      "8 264\n",
      "9 297\n",
      "\n",
      "Binärdarstellung von 7\n",
      "   7\n",
      "   3   1\n",
      "   1   1\n",
      "   0   1\n",
      "7 binär: 111\n",
      "\n",
      "Nützliche Potenzen\n",
      "0 - 6^1 mod 33 = 6 = -27\n",
      "1 - 6^2 mod 33 = 3 = -30\n",
      "2 - 6^4 mod 33 = 9 = -24\n",
      "3 - 6^8 mod 33 = 15 = -18\n",
      "4 - 6^16 mod 33 = 27 = -6\n",
      "5 - 6^32 mod 33 = 3 = -30\n",
      "6 - 6^64 mod 33 = 9 = -24\n",
      "7 - 6^128 mod 33 = 15 = -18\n",
      "8 - 6^256 mod 33 = 27 = -6\n",
      "9 - 6^512 mod 33 = 3 = -30\n"
     ]
    }
   ],
   "source": [
    "rsa(3,11,7,6)"
   ]
  },
  {
   "cell_type": "code",
   "execution_count": 145,
   "metadata": {},
   "outputs": [
    {
     "name": "stdout",
     "output_type": "stream",
     "text": [
      "p=7, q=11, e=47\n",
      "RSA-Modul m=77, m_schlange=60\n",
      "ggT von v und m_schlange ist 1\n",
      "Öffentlicher Schlüssel:  (77,47)\n",
      "Privater Schlüssel: (77,23)\n",
      "Nachricht: 2\n",
      "Verschlüsselte Nachricht: 18\n",
      "\n",
      "Hilfsmittel:\n",
      "Die 77er-Reihe\n",
      "1 77\n",
      "2 154\n",
      "3 231\n",
      "4 308\n",
      "5 385\n",
      "6 462\n",
      "7 539\n",
      "8 616\n",
      "9 693\n",
      "\n",
      "Binärdarstellung von 47\n",
      "  47\n",
      "  23   1\n",
      "  11   1\n",
      "   5   1\n",
      "   2   1\n",
      "   1   0\n",
      "   0   1\n",
      "47 binär: 101111\n",
      "\n",
      "Nützliche Potenzen\n",
      "0 - 2^1 mod 77 = 2 = -75\n",
      "1 - 2^2 mod 77 = 4 = -73\n",
      "2 - 2^4 mod 77 = 16 = -61\n",
      "3 - 2^8 mod 77 = 25 = -52\n",
      "4 - 2^16 mod 77 = 9 = -68\n",
      "5 - 2^32 mod 77 = 4 = -73\n",
      "6 - 2^64 mod 77 = 16 = -61\n",
      "7 - 2^128 mod 77 = 25 = -52\n",
      "8 - 2^256 mod 77 = 9 = -68\n",
      "9 - 2^512 mod 77 = 4 = -73\n"
     ]
    }
   ],
   "source": [
    "rsa(7,11,47,2)"
   ]
  },
  {
   "cell_type": "markdown",
   "metadata": {},
   "source": [
    "### Weitere Übungen"
   ]
  },
  {
   "cell_type": "code",
   "execution_count": 147,
   "metadata": {},
   "outputs": [
    {
     "name": "stdout",
     "output_type": "stream",
     "text": [
      "p = 23, g = 11, a = 5, b = 10\n",
      "\n",
      "Die 23er-Reihe\n",
      "1 * 23 = 23\n",
      "2 * 23 = 46\n",
      "3 * 23 = 69\n",
      "4 * 23 = 92\n",
      "5 * 23 = 115\n",
      "6 * 23 = 138\n",
      "7 * 23 = 161\n",
      "8 * 23 = 184\n",
      "9 * 23 = 207\n",
      "10 * 23 = 230\n",
      "\n",
      "Potenzen von 11\n",
      "0 - 11^1 mod 23 = 11 = -12\n",
      "1 - 11^2 mod 23 = 6 = -17\n",
      "2 - 11^4 mod 23 = 13 = -10\n",
      "3 - 11^8 mod 23 = 8 = -15\n",
      "4 - 11^16 mod 23 = 18 = -5\n",
      "5 - 11^32 mod 23 = 2 = -21\n",
      "6 - 11^64 mod 23 = 4 = -19\n",
      "7 - 11^128 mod 23 = 16 = -7\n",
      "8 - 11^256 mod 23 = 3 = -20\n",
      "9 - 11^512 mod 23 = 9 = -14\n"
     ]
    }
   ],
   "source": [
    "# Diffie-Hellman 1\n",
    "p, g, a, b = 23, 11, 5, 10\n",
    "diffie_uebung(p,g,a,b)"
   ]
  },
  {
   "cell_type": "code",
   "execution_count": 148,
   "metadata": {},
   "outputs": [
    {
     "name": "stdout",
     "output_type": "stream",
     "text": [
      "p = 23, g = 10, a = 5, b = 10\n",
      "Öffentlich: A=19, B=16, p=23, g=10\n",
      "Gemeinsamer Schlüssel: K=6\n"
     ]
    }
   ],
   "source": [
    "diffie(p,b,a,b)"
   ]
  },
  {
   "cell_type": "code",
   "execution_count": 149,
   "metadata": {},
   "outputs": [
    {
     "name": "stdout",
     "output_type": "stream",
     "text": [
      "p = 29, g = 13, a = 12, b = 9\n",
      "\n",
      "Die 29er-Reihe\n",
      "1 * 29 = 29\n",
      "2 * 29 = 58\n",
      "3 * 29 = 87\n",
      "4 * 29 = 116\n",
      "5 * 29 = 145\n",
      "6 * 29 = 174\n",
      "7 * 29 = 203\n",
      "8 * 29 = 232\n",
      "9 * 29 = 261\n",
      "10 * 29 = 290\n",
      "\n",
      "Potenzen von 13\n",
      "0 - 13^1 mod 29 = 13 = -16\n",
      "1 - 13^2 mod 29 = 24 = -5\n",
      "2 - 13^4 mod 29 = 25 = -4\n",
      "3 - 13^8 mod 29 = 16 = -13\n",
      "4 - 13^16 mod 29 = 24 = -5\n",
      "5 - 13^32 mod 29 = 25 = -4\n",
      "6 - 13^64 mod 29 = 16 = -13\n",
      "7 - 13^128 mod 29 = 24 = -5\n",
      "8 - 13^256 mod 29 = 25 = -4\n",
      "9 - 13^512 mod 29 = 16 = -13\n"
     ]
    }
   ],
   "source": [
    "# Diffie-Hellman 2\n",
    "p, g, a, b = 29, 13, 12, 9\n",
    "diffie_uebung(p,g,a,b)"
   ]
  },
  {
   "cell_type": "code",
   "execution_count": 150,
   "metadata": {},
   "outputs": [
    {
     "name": "stdout",
     "output_type": "stream",
     "text": [
      "p = 29, g = 13, a = 12, b = 9\n",
      "Öffentlich: A=23, B=5, p=29, g=13\n",
      "Gemeinsamer Schlüssel: K=7\n"
     ]
    }
   ],
   "source": [
    "diffie(p,g,a,b)"
   ]
  },
  {
   "cell_type": "code",
   "execution_count": 151,
   "metadata": {},
   "outputs": [
    {
     "name": "stdout",
     "output_type": "stream",
     "text": [
      "p = 31, g = 11, a = 17, b = 22\n",
      "\n",
      "Die 31er-Reihe\n",
      "1 * 31 = 31\n",
      "2 * 31 = 62\n",
      "3 * 31 = 93\n",
      "4 * 31 = 124\n",
      "5 * 31 = 155\n",
      "6 * 31 = 186\n",
      "7 * 31 = 217\n",
      "8 * 31 = 248\n",
      "9 * 31 = 279\n",
      "10 * 31 = 310\n",
      "\n",
      "Potenzen von 11\n",
      "0 - 11^1 mod 31 = 11 = -20\n",
      "1 - 11^2 mod 31 = 28 = -3\n",
      "2 - 11^4 mod 31 = 9 = -22\n",
      "3 - 11^8 mod 31 = 19 = -12\n",
      "4 - 11^16 mod 31 = 20 = -11\n",
      "5 - 11^32 mod 31 = 28 = -3\n",
      "6 - 11^64 mod 31 = 9 = -22\n",
      "7 - 11^128 mod 31 = 19 = -12\n",
      "8 - 11^256 mod 31 = 20 = -11\n",
      "9 - 11^512 mod 31 = 28 = -3\n"
     ]
    }
   ],
   "source": [
    "# Diffie-Hellman 3\n",
    "p, g, a, b = 31, 11, 17, 22\n",
    "diffie_uebung(p,g,a,b)"
   ]
  },
  {
   "cell_type": "code",
   "execution_count": 152,
   "metadata": {},
   "outputs": [
    {
     "name": "stdout",
     "output_type": "stream",
     "text": [
      "p = 31, g = 11, a = 17, b = 22\n",
      "Öffentlich: A=3, B=18, p=31, g=11\n",
      "Gemeinsamer Schlüssel: K=14\n"
     ]
    }
   ],
   "source": [
    "diffie(p,g,a,b)"
   ]
  },
  {
   "cell_type": "code",
   "execution_count": 255,
   "metadata": {},
   "outputs": [
    {
     "name": "stdout",
     "output_type": "stream",
     "text": [
      "p = 11, g = 2, A = 5, B = 8.\n",
      "Knacke Diffie-Hellman. Wie heißen die Geheimnisse von Alice und Bob und der gemeinsame Schlüssel K?\n",
      "\n",
      "Potenzen von 2\n",
      "0 - 2^1 mod 11 = 2 = -9\n",
      "1 - 2^2 mod 11 = 4 = -7\n",
      "2 - 2^4 mod 11 = 5 = -6\n",
      "3 - 2^8 mod 11 = 3 = -8\n",
      "4 - 2^16 mod 11 = 9 = -2\n",
      "5 - 2^32 mod 11 = 4 = -7\n",
      "6 - 2^64 mod 11 = 5 = -6\n",
      "7 - 2^128 mod 11 = 3 = -8\n",
      "8 - 2^256 mod 11 = 9 = -2\n",
      "9 - 2^512 mod 11 = 4 = -7\n",
      "\n",
      "Die 11er-Reihe\n",
      "1 11\n",
      "2 22\n",
      "3 33\n",
      "4 44\n",
      "5 55\n",
      "6 66\n",
      "7 77\n",
      "8 88\n",
      "9 99\n",
      "\n",
      "Die Potenzen von 2 mod 11\n"
     ]
    },
    {
     "data": {
      "text/html": [
       "<table border=\"1\" class=\"dataframe\">\n",
       "  <thead>\n",
       "    <tr style=\"text-align: right;\">\n",
       "      <th></th>\n",
       "      <th>1</th>\n",
       "      <th>2</th>\n",
       "      <th>3</th>\n",
       "      <th>4</th>\n",
       "      <th>5</th>\n",
       "      <th>6</th>\n",
       "      <th>7</th>\n",
       "      <th>8</th>\n",
       "      <th>9</th>\n",
       "      <th>10</th>\n",
       "    </tr>\n",
       "  </thead>\n",
       "  <tbody>\n",
       "    <tr>\n",
       "      <th>2^x mod 11</th>\n",
       "      <td>2</td>\n",
       "      <td>4</td>\n",
       "      <td>8</td>\n",
       "      <td>5</td>\n",
       "      <td>10</td>\n",
       "      <td>9</td>\n",
       "      <td>7</td>\n",
       "      <td>3</td>\n",
       "      <td>6</td>\n",
       "      <td>1</td>\n",
       "    </tr>\n",
       "  </tbody>\n",
       "</table>"
      ],
      "text/plain": [
       "<IPython.core.display.HTML object>"
      ]
     },
     "metadata": {},
     "output_type": "display_data"
    }
   ],
   "source": [
    "p, g, A, B = 11, 2, 5, 8\n",
    "diffie_knack(p,g,A,B)\n",
    " "
   ]
  },
  {
   "cell_type": "code",
   "execution_count": 256,
   "metadata": {},
   "outputs": [
    {
     "name": "stdout",
     "output_type": "stream",
     "text": [
      "p = 11, g = 2, a = 4, b = 3\n",
      "Öffentlich: A=5, B=8, p=11, g=2\n",
      "Gemeinsamer Schlüssel: K=4\n"
     ]
    }
   ],
   "source": [
    "diffie(11,2,4,3)"
   ]
  },
  {
   "cell_type": "code",
   "execution_count": 257,
   "metadata": {},
   "outputs": [
    {
     "name": "stdout",
     "output_type": "stream",
     "text": [
      "p = 17, g = 7, A = 11, B = 13.\n",
      "Knacke Diffie-Hellman. Wie heißen die Geheimnisse von Alice und Bob und der gemeinsame Schlüssel K?\n",
      "\n",
      "Potenzen von 7\n",
      "0 - 7^1 mod 17 = 7 = -10\n",
      "1 - 7^2 mod 17 = 15 = -2\n",
      "2 - 7^4 mod 17 = 4 = -13\n",
      "3 - 7^8 mod 17 = 16 = -1\n",
      "4 - 7^16 mod 17 = 1 = -16\n",
      "5 - 7^32 mod 17 = 1 = -16\n",
      "6 - 7^64 mod 17 = 1 = -16\n",
      "7 - 7^128 mod 17 = 1 = -16\n",
      "8 - 7^256 mod 17 = 1 = -16\n",
      "9 - 7^512 mod 17 = 1 = -16\n",
      "\n",
      "Die 17er-Reihe\n",
      "1 17\n",
      "2 34\n",
      "3 51\n",
      "4 68\n",
      "5 85\n",
      "6 102\n",
      "7 119\n",
      "8 136\n",
      "9 153\n",
      "\n",
      "Die Potenzen von 7 mod 17\n"
     ]
    },
    {
     "data": {
      "text/html": [
       "<table border=\"1\" class=\"dataframe\">\n",
       "  <thead>\n",
       "    <tr style=\"text-align: right;\">\n",
       "      <th></th>\n",
       "      <th>1</th>\n",
       "      <th>2</th>\n",
       "      <th>3</th>\n",
       "      <th>4</th>\n",
       "      <th>5</th>\n",
       "      <th>6</th>\n",
       "      <th>7</th>\n",
       "      <th>8</th>\n",
       "      <th>9</th>\n",
       "      <th>10</th>\n",
       "      <th>11</th>\n",
       "      <th>12</th>\n",
       "      <th>13</th>\n",
       "      <th>14</th>\n",
       "      <th>15</th>\n",
       "      <th>16</th>\n",
       "    </tr>\n",
       "  </thead>\n",
       "  <tbody>\n",
       "    <tr>\n",
       "      <th>7^x mod 17</th>\n",
       "      <td>7</td>\n",
       "      <td>15</td>\n",
       "      <td>3</td>\n",
       "      <td>4</td>\n",
       "      <td>11</td>\n",
       "      <td>9</td>\n",
       "      <td>12</td>\n",
       "      <td>16</td>\n",
       "      <td>10</td>\n",
       "      <td>2</td>\n",
       "      <td>14</td>\n",
       "      <td>13</td>\n",
       "      <td>6</td>\n",
       "      <td>8</td>\n",
       "      <td>5</td>\n",
       "      <td>1</td>\n",
       "    </tr>\n",
       "  </tbody>\n",
       "</table>"
      ],
      "text/plain": [
       "<IPython.core.display.HTML object>"
      ]
     },
     "metadata": {},
     "output_type": "display_data"
    }
   ],
   "source": [
    "# Diffie-Hellman knacken 2\n",
    "p, g, A, B = 17, 7, 11, 13\n",
    "diffie_knack(p,g,A,B)"
   ]
  },
  {
   "cell_type": "code",
   "execution_count": 250,
   "metadata": {},
   "outputs": [
    {
     "name": "stdout",
     "output_type": "stream",
     "text": [
      "p = 17, g = 7, a = 5, b = 12\n",
      "Öffentlich: A=11, B=13, p=17, g=7\n",
      "Gemeinsamer Schlüssel: K=13\n"
     ]
    }
   ],
   "source": [
    "diffie(p,g,5,12)"
   ]
  },
  {
   "cell_type": "code",
   "execution_count": 366,
   "metadata": {},
   "outputs": [],
   "source": []
  },
  {
   "cell_type": "code",
   "execution_count": 367,
   "metadata": {},
   "outputs": [
    {
     "name": "stdout",
     "output_type": "stream",
     "text": [
      "p = 7, q = 13, e = 11, n = 10\n",
      "Berechne den öffentlichen Schlüssel und prüfe dessen Zulässigkeit.\n",
      "Berechne den privaten Schlüssel.\n",
      "Verschlüssele die Nachricht n und teste den privaten Schlüssel.\n",
      "\n",
      "Die 91er-Reihe\n",
      "1 91\n",
      "2 182\n",
      "3 273\n",
      "4 364\n",
      "5 455\n",
      "6 546\n",
      "7 637\n",
      "8 728\n",
      "9 819\n",
      "\n",
      "Quadratzahlen\n",
      "11-121 12-144 13-169 14-196 15-225 16-256 17-289 18-324 19-361 20-400 \n",
      "21-441 22-484 23-529 24-576 25-625 26-676 27-729 28-784 29-841 30-900 \n"
     ]
    }
   ],
   "source": [
    "# rsa_1\n",
    "rsa_uebung(7,13,11,10)"
   ]
  },
  {
   "cell_type": "code",
   "execution_count": 368,
   "metadata": {},
   "outputs": [
    {
     "name": "stdout",
     "output_type": "stream",
     "text": [
      "p = 7, q = 13, e = 11, n = 10\n",
      "m = 91, m_schlange = 72\n",
      "ggT(11,72) = 1\n",
      "2 * 72  + -13 * 11 = 1\n"
     ]
    },
    {
     "data": {
      "text/html": [
       "<table border=\"1\" class=\"dataframe\">\n",
       "  <thead>\n",
       "    <tr style=\"text-align: right;\">\n",
       "      <th></th>\n",
       "      <th>a</th>\n",
       "      <th>b</th>\n",
       "      <th>q</th>\n",
       "      <th>r</th>\n",
       "      <th>x</th>\n",
       "      <th>y</th>\n",
       "    </tr>\n",
       "  </thead>\n",
       "  <tbody>\n",
       "    <tr>\n",
       "      <th>0</th>\n",
       "      <td>72</td>\n",
       "      <td>11</td>\n",
       "      <td>6</td>\n",
       "      <td>6</td>\n",
       "      <td>2</td>\n",
       "      <td>-13</td>\n",
       "    </tr>\n",
       "    <tr>\n",
       "      <th>1</th>\n",
       "      <td>11</td>\n",
       "      <td>6</td>\n",
       "      <td>1</td>\n",
       "      <td>5</td>\n",
       "      <td>-1</td>\n",
       "      <td>2</td>\n",
       "    </tr>\n",
       "    <tr>\n",
       "      <th>2</th>\n",
       "      <td>6</td>\n",
       "      <td>5</td>\n",
       "      <td>1</td>\n",
       "      <td>1</td>\n",
       "      <td>1</td>\n",
       "      <td>-1</td>\n",
       "    </tr>\n",
       "    <tr>\n",
       "      <th>3</th>\n",
       "      <td>5</td>\n",
       "      <td>1</td>\n",
       "      <td>5</td>\n",
       "      <td>0</td>\n",
       "      <td>0</td>\n",
       "      <td>1</td>\n",
       "    </tr>\n",
       "  </tbody>\n",
       "</table>"
      ],
      "text/plain": [
       "<IPython.core.display.HTML object>"
      ]
     },
     "metadata": {},
     "output_type": "display_data"
    },
    {
     "name": "stdout",
     "output_type": "stream",
     "text": [
      "d = 59\n",
      "oeffentlicher Schlüssel: (91,11)\n",
      "privater Schlüssel: (91,59)\n",
      "\n",
      "Verschlüsselung der Nachricht: 10\n",
      "\n",
      "Potenzen von 10\n",
      "0 - 10^1 mod 91 = 10 = -81\n",
      "1 - 10^2 mod 91 = 9 = -82\n",
      "2 - 10^4 mod 91 = 81 = -10\n",
      "3 - 10^8 mod 91 = 9 = -82\n",
      "4 - 10^16 mod 91 = 81 = -10\n",
      "5 - 10^32 mod 91 = 9 = -82\n",
      "6 - 10^64 mod 91 = 81 = -10\n",
      "7 - 10^128 mod 91 = 9 = -82\n",
      "8 - 10^256 mod 91 = 81 = -10\n",
      "9 - 10^512 mod 91 = 9 = -82\n",
      "N = 82\n",
      "\n",
      "Entschlüsseln der Nachricht: 82\n",
      "\n",
      "Potenzen von 82\n",
      "0 - 82^1 mod 91 = 82 = -9\n",
      "1 - 82^2 mod 91 = 81 = -10\n",
      "2 - 82^4 mod 91 = 9 = -82\n",
      "3 - 82^8 mod 91 = 81 = -10\n",
      "4 - 82^16 mod 91 = 9 = -82\n",
      "5 - 82^32 mod 91 = 81 = -10\n",
      "6 - 82^64 mod 91 = 9 = -82\n",
      "7 - 82^128 mod 91 = 81 = -10\n",
      "8 - 82^256 mod 91 = 9 = -82\n",
      "9 - 82^512 mod 91 = 81 = -10\n",
      "n = 10\n"
     ]
    }
   ],
   "source": [
    "rsa_loesung(7,13,11,10)"
   ]
  },
  {
   "cell_type": "code",
   "execution_count": 369,
   "metadata": {},
   "outputs": [
    {
     "name": "stdout",
     "output_type": "stream",
     "text": [
      "p = 3, q = 11, e = 7, n = 6\n",
      "Berechne den öffentlichen Schlüssel und prüfe dessen Zulässigkeit.\n",
      "Berechne den privaten Schlüssel.\n",
      "Verschlüssele die Nachricht n und teste den privaten Schlüssel.\n",
      "\n",
      "Die 33er-Reihe\n",
      "1 33\n",
      "2 66\n",
      "3 99\n",
      "4 132\n",
      "5 165\n",
      "6 198\n",
      "7 231\n",
      "8 264\n",
      "9 297\n",
      "\n",
      "Quadratzahlen\n",
      "11-121 12-144 13-169 14-196 15-225 16-256 17-289 18-324 19-361 20-400 \n",
      "21-441 22-484 23-529 24-576 25-625 26-676 27-729 28-784 29-841 30-900 \n"
     ]
    }
   ],
   "source": [
    "# rsa_2\n",
    "p, q, e, n = 3, 11, 7, 6\n",
    "rsa_uebung(p,q,e,n)"
   ]
  },
  {
   "cell_type": "code",
   "execution_count": 370,
   "metadata": {},
   "outputs": [
    {
     "name": "stdout",
     "output_type": "stream",
     "text": [
      "p = 3, q = 11, e = 7, n = 6\n",
      "m = 33, m_schlange = 20\n",
      "ggT(7,20) = 1\n",
      "-1 * 20  + 3 * 7 = 1\n"
     ]
    },
    {
     "data": {
      "text/html": [
       "<table border=\"1\" class=\"dataframe\">\n",
       "  <thead>\n",
       "    <tr style=\"text-align: right;\">\n",
       "      <th></th>\n",
       "      <th>a</th>\n",
       "      <th>b</th>\n",
       "      <th>q</th>\n",
       "      <th>r</th>\n",
       "      <th>x</th>\n",
       "      <th>y</th>\n",
       "    </tr>\n",
       "  </thead>\n",
       "  <tbody>\n",
       "    <tr>\n",
       "      <th>0</th>\n",
       "      <td>20</td>\n",
       "      <td>7</td>\n",
       "      <td>2</td>\n",
       "      <td>6</td>\n",
       "      <td>-1</td>\n",
       "      <td>3</td>\n",
       "    </tr>\n",
       "    <tr>\n",
       "      <th>1</th>\n",
       "      <td>7</td>\n",
       "      <td>6</td>\n",
       "      <td>1</td>\n",
       "      <td>1</td>\n",
       "      <td>1</td>\n",
       "      <td>-1</td>\n",
       "    </tr>\n",
       "    <tr>\n",
       "      <th>2</th>\n",
       "      <td>6</td>\n",
       "      <td>1</td>\n",
       "      <td>6</td>\n",
       "      <td>0</td>\n",
       "      <td>0</td>\n",
       "      <td>1</td>\n",
       "    </tr>\n",
       "  </tbody>\n",
       "</table>"
      ],
      "text/plain": [
       "<IPython.core.display.HTML object>"
      ]
     },
     "metadata": {},
     "output_type": "display_data"
    },
    {
     "name": "stdout",
     "output_type": "stream",
     "text": [
      "d = 3\n",
      "oeffentlicher Schlüssel: (33,7)\n",
      "privater Schlüssel: (33,3)\n",
      "\n",
      "Verschlüsselung der Nachricht: 6\n",
      "\n",
      "Potenzen von 6\n",
      "0 - 6^1 mod 33 = 6 = -27\n",
      "1 - 6^2 mod 33 = 3 = -30\n",
      "2 - 6^4 mod 33 = 9 = -24\n",
      "3 - 6^8 mod 33 = 15 = -18\n",
      "4 - 6^16 mod 33 = 27 = -6\n",
      "5 - 6^32 mod 33 = 3 = -30\n",
      "6 - 6^64 mod 33 = 9 = -24\n",
      "7 - 6^128 mod 33 = 15 = -18\n",
      "8 - 6^256 mod 33 = 27 = -6\n",
      "9 - 6^512 mod 33 = 3 = -30\n",
      "N = 30\n",
      "\n",
      "Entschlüsseln der Nachricht: 30\n",
      "\n",
      "Potenzen von 30\n",
      "0 - 30^1 mod 33 = 30 = -3\n",
      "1 - 30^2 mod 33 = 9 = -24\n",
      "2 - 30^4 mod 33 = 15 = -18\n",
      "3 - 30^8 mod 33 = 27 = -6\n",
      "4 - 30^16 mod 33 = 3 = -30\n",
      "5 - 30^32 mod 33 = 9 = -24\n",
      "6 - 30^64 mod 33 = 15 = -18\n",
      "7 - 30^128 mod 33 = 27 = -6\n",
      "8 - 30^256 mod 33 = 3 = -30\n",
      "9 - 30^512 mod 33 = 9 = -24\n",
      "n = 6\n"
     ]
    }
   ],
   "source": [
    "rsa_loesung(p,q,e,n)"
   ]
  },
  {
   "cell_type": "code",
   "execution_count": 371,
   "metadata": {},
   "outputs": [
    {
     "name": "stdout",
     "output_type": "stream",
     "text": [
      "p = 7, q = 11, e = 47, n = 2\n",
      "Berechne den öffentlichen Schlüssel und prüfe dessen Zulässigkeit.\n",
      "Berechne den privaten Schlüssel.\n",
      "Verschlüssele die Nachricht n und teste den privaten Schlüssel.\n",
      "\n",
      "Die 77er-Reihe\n",
      "1 77\n",
      "2 154\n",
      "3 231\n",
      "4 308\n",
      "5 385\n",
      "6 462\n",
      "7 539\n",
      "8 616\n",
      "9 693\n",
      "\n",
      "Quadratzahlen\n",
      "11-121 12-144 13-169 14-196 15-225 16-256 17-289 18-324 19-361 20-400 \n",
      "21-441 22-484 23-529 24-576 25-625 26-676 27-729 28-784 29-841 30-900 \n"
     ]
    }
   ],
   "source": [
    "# rsa_3\n",
    "p, q, e, n = 7, 11, 47, 2\n",
    "rsa_uebung(p,q,e,n)"
   ]
  },
  {
   "cell_type": "code",
   "execution_count": 364,
   "metadata": {},
   "outputs": [
    {
     "name": "stdout",
     "output_type": "stream",
     "text": [
      "p = 7, q = 11, e = 47, n = 2\n",
      "m = 77, m_schlange = 60\n",
      "ggT(47,60) = 1\n",
      "-18 * 60  + 23 * 47 = 1\n"
     ]
    },
    {
     "data": {
      "text/html": [
       "<table border=\"1\" class=\"dataframe\">\n",
       "  <thead>\n",
       "    <tr style=\"text-align: right;\">\n",
       "      <th></th>\n",
       "      <th>a</th>\n",
       "      <th>b</th>\n",
       "      <th>q</th>\n",
       "      <th>r</th>\n",
       "      <th>x</th>\n",
       "      <th>y</th>\n",
       "    </tr>\n",
       "  </thead>\n",
       "  <tbody>\n",
       "    <tr>\n",
       "      <th>0</th>\n",
       "      <td>60</td>\n",
       "      <td>47</td>\n",
       "      <td>1</td>\n",
       "      <td>13</td>\n",
       "      <td>-18</td>\n",
       "      <td>23</td>\n",
       "    </tr>\n",
       "    <tr>\n",
       "      <th>1</th>\n",
       "      <td>47</td>\n",
       "      <td>13</td>\n",
       "      <td>3</td>\n",
       "      <td>8</td>\n",
       "      <td>5</td>\n",
       "      <td>-18</td>\n",
       "    </tr>\n",
       "    <tr>\n",
       "      <th>2</th>\n",
       "      <td>13</td>\n",
       "      <td>8</td>\n",
       "      <td>1</td>\n",
       "      <td>5</td>\n",
       "      <td>-3</td>\n",
       "      <td>5</td>\n",
       "    </tr>\n",
       "    <tr>\n",
       "      <th>3</th>\n",
       "      <td>8</td>\n",
       "      <td>5</td>\n",
       "      <td>1</td>\n",
       "      <td>3</td>\n",
       "      <td>2</td>\n",
       "      <td>-3</td>\n",
       "    </tr>\n",
       "    <tr>\n",
       "      <th>4</th>\n",
       "      <td>5</td>\n",
       "      <td>3</td>\n",
       "      <td>1</td>\n",
       "      <td>2</td>\n",
       "      <td>-1</td>\n",
       "      <td>2</td>\n",
       "    </tr>\n",
       "    <tr>\n",
       "      <th>5</th>\n",
       "      <td>3</td>\n",
       "      <td>2</td>\n",
       "      <td>1</td>\n",
       "      <td>1</td>\n",
       "      <td>1</td>\n",
       "      <td>-1</td>\n",
       "    </tr>\n",
       "    <tr>\n",
       "      <th>6</th>\n",
       "      <td>2</td>\n",
       "      <td>1</td>\n",
       "      <td>2</td>\n",
       "      <td>0</td>\n",
       "      <td>0</td>\n",
       "      <td>1</td>\n",
       "    </tr>\n",
       "  </tbody>\n",
       "</table>"
      ],
      "text/plain": [
       "<IPython.core.display.HTML object>"
      ]
     },
     "metadata": {},
     "output_type": "display_data"
    },
    {
     "name": "stdout",
     "output_type": "stream",
     "text": [
      "d = 23\n",
      "oeffentlicher Schlüssel: (77,47)\n",
      "privater Schlüssel: (77,23)\n",
      "\n",
      "Verschlüsselung der Nachricht: 2\n",
      "\n",
      "Potenzen von 2\n",
      "0 - 2^1 mod 77 = 2 = -75\n",
      "1 - 2^2 mod 77 = 4 = -73\n",
      "2 - 2^4 mod 77 = 16 = -61\n",
      "3 - 2^8 mod 77 = 25 = -52\n",
      "4 - 2^16 mod 77 = 9 = -68\n",
      "5 - 2^32 mod 77 = 4 = -73\n",
      "6 - 2^64 mod 77 = 16 = -61\n",
      "7 - 2^128 mod 77 = 25 = -52\n",
      "8 - 2^256 mod 77 = 9 = -68\n",
      "9 - 2^512 mod 77 = 4 = -73\n",
      "N = 18\n",
      "\n",
      "Entschlüsseln der Nachricht: 18\n",
      "\n",
      "Potenzen von 18\n",
      "0 - 18^1 mod 77 = 18 = -59\n",
      "1 - 18^2 mod 77 = 16 = -61\n",
      "2 - 18^4 mod 77 = 25 = -52\n",
      "3 - 18^8 mod 77 = 9 = -68\n",
      "4 - 18^16 mod 77 = 4 = -73\n",
      "5 - 18^32 mod 77 = 16 = -61\n",
      "6 - 18^64 mod 77 = 25 = -52\n",
      "7 - 18^128 mod 77 = 9 = -68\n",
      "8 - 18^256 mod 77 = 4 = -73\n",
      "9 - 18^512 mod 77 = 16 = -61\n",
      "n = 2\n"
     ]
    }
   ],
   "source": [
    "rsa_loesung(p,q,e,n)"
   ]
  },
  {
   "cell_type": "code",
   "execution_count": 386,
   "metadata": {},
   "outputs": [],
   "source": [
    "\n",
    "    "
   ]
  },
  {
   "cell_type": "code",
   "execution_count": 387,
   "metadata": {},
   "outputs": [
    {
     "data": {
      "text/html": [
       "<div>\n",
       "<style scoped>\n",
       "    .dataframe tbody tr th:only-of-type {\n",
       "        vertical-align: middle;\n",
       "    }\n",
       "\n",
       "    .dataframe tbody tr th {\n",
       "        vertical-align: top;\n",
       "    }\n",
       "\n",
       "    .dataframe thead th {\n",
       "        text-align: right;\n",
       "    }\n",
       "</style>\n",
       "<table border=\"1\" class=\"dataframe\">\n",
       "  <thead>\n",
       "    <tr style=\"text-align: right;\">\n",
       "      <th></th>\n",
       "      <th>1</th>\n",
       "      <th>2</th>\n",
       "      <th>3</th>\n",
       "      <th>4</th>\n",
       "      <th>5</th>\n",
       "      <th>6</th>\n",
       "      <th>7</th>\n",
       "      <th>8</th>\n",
       "      <th>9</th>\n",
       "      <th>10</th>\n",
       "      <th>11</th>\n",
       "      <th>12</th>\n",
       "      <th>13</th>\n",
       "      <th>14</th>\n",
       "      <th>15</th>\n",
       "    </tr>\n",
       "  </thead>\n",
       "  <tbody>\n",
       "    <tr>\n",
       "      <th>17</th>\n",
       "      <td>17</td>\n",
       "      <td>34</td>\n",
       "      <td>51</td>\n",
       "      <td>68</td>\n",
       "      <td>85</td>\n",
       "      <td>102</td>\n",
       "      <td>119</td>\n",
       "      <td>136</td>\n",
       "      <td>153</td>\n",
       "      <td>170</td>\n",
       "      <td>187</td>\n",
       "      <td>204</td>\n",
       "      <td>221</td>\n",
       "      <td>238</td>\n",
       "      <td>255</td>\n",
       "    </tr>\n",
       "    <tr>\n",
       "      <th>23</th>\n",
       "      <td>23</td>\n",
       "      <td>46</td>\n",
       "      <td>69</td>\n",
       "      <td>92</td>\n",
       "      <td>115</td>\n",
       "      <td>138</td>\n",
       "      <td>161</td>\n",
       "      <td>184</td>\n",
       "      <td>207</td>\n",
       "      <td>230</td>\n",
       "      <td>253</td>\n",
       "      <td>276</td>\n",
       "      <td>299</td>\n",
       "      <td>322</td>\n",
       "      <td>345</td>\n",
       "    </tr>\n",
       "    <tr>\n",
       "      <th>29</th>\n",
       "      <td>29</td>\n",
       "      <td>58</td>\n",
       "      <td>87</td>\n",
       "      <td>116</td>\n",
       "      <td>145</td>\n",
       "      <td>174</td>\n",
       "      <td>203</td>\n",
       "      <td>232</td>\n",
       "      <td>261</td>\n",
       "      <td>290</td>\n",
       "      <td>319</td>\n",
       "      <td>348</td>\n",
       "      <td>377</td>\n",
       "      <td>406</td>\n",
       "      <td>435</td>\n",
       "    </tr>\n",
       "    <tr>\n",
       "      <th>31</th>\n",
       "      <td>31</td>\n",
       "      <td>62</td>\n",
       "      <td>93</td>\n",
       "      <td>124</td>\n",
       "      <td>155</td>\n",
       "      <td>186</td>\n",
       "      <td>217</td>\n",
       "      <td>248</td>\n",
       "      <td>279</td>\n",
       "      <td>310</td>\n",
       "      <td>341</td>\n",
       "      <td>372</td>\n",
       "      <td>403</td>\n",
       "      <td>434</td>\n",
       "      <td>465</td>\n",
       "    </tr>\n",
       "    <tr>\n",
       "      <th>33</th>\n",
       "      <td>33</td>\n",
       "      <td>66</td>\n",
       "      <td>99</td>\n",
       "      <td>132</td>\n",
       "      <td>165</td>\n",
       "      <td>198</td>\n",
       "      <td>231</td>\n",
       "      <td>264</td>\n",
       "      <td>297</td>\n",
       "      <td>330</td>\n",
       "      <td>363</td>\n",
       "      <td>396</td>\n",
       "      <td>429</td>\n",
       "      <td>462</td>\n",
       "      <td>495</td>\n",
       "    </tr>\n",
       "    <tr>\n",
       "      <th>77</th>\n",
       "      <td>77</td>\n",
       "      <td>154</td>\n",
       "      <td>231</td>\n",
       "      <td>308</td>\n",
       "      <td>385</td>\n",
       "      <td>462</td>\n",
       "      <td>539</td>\n",
       "      <td>616</td>\n",
       "      <td>693</td>\n",
       "      <td>770</td>\n",
       "      <td>847</td>\n",
       "      <td>924</td>\n",
       "      <td>1001</td>\n",
       "      <td>1078</td>\n",
       "      <td>1155</td>\n",
       "    </tr>\n",
       "    <tr>\n",
       "      <th>91</th>\n",
       "      <td>91</td>\n",
       "      <td>182</td>\n",
       "      <td>273</td>\n",
       "      <td>364</td>\n",
       "      <td>455</td>\n",
       "      <td>546</td>\n",
       "      <td>637</td>\n",
       "      <td>728</td>\n",
       "      <td>819</td>\n",
       "      <td>910</td>\n",
       "      <td>1001</td>\n",
       "      <td>1092</td>\n",
       "      <td>1183</td>\n",
       "      <td>1274</td>\n",
       "      <td>1365</td>\n",
       "    </tr>\n",
       "  </tbody>\n",
       "</table>\n",
       "</div>"
      ],
      "text/plain": [
       "    1    2    3    4    5    6    7    8    9    10    11    12    13    14  \\\n",
       "17  17   34   51   68   85  102  119  136  153  170   187   204   221   238   \n",
       "23  23   46   69   92  115  138  161  184  207  230   253   276   299   322   \n",
       "29  29   58   87  116  145  174  203  232  261  290   319   348   377   406   \n",
       "31  31   62   93  124  155  186  217  248  279  310   341   372   403   434   \n",
       "33  33   66   99  132  165  198  231  264  297  330   363   396   429   462   \n",
       "77  77  154  231  308  385  462  539  616  693  770   847   924  1001  1078   \n",
       "91  91  182  273  364  455  546  637  728  819  910  1001  1092  1183  1274   \n",
       "\n",
       "      15  \n",
       "17   255  \n",
       "23   345  \n",
       "29   435  \n",
       "31   465  \n",
       "33   495  \n",
       "77  1155  \n",
       "91  1365  "
      ]
     },
     "execution_count": 387,
     "metadata": {},
     "output_type": "execute_result"
    }
   ],
   "source": [
    "reihen()"
   ]
  },
  {
   "cell_type": "code",
   "execution_count": null,
   "metadata": {},
   "outputs": [],
   "source": []
  }
 ],
 "metadata": {
  "kernelspec": {
   "display_name": "Python 3",
   "language": "python",
   "name": "python3"
  },
  "language_info": {
   "codemirror_mode": {
    "name": "ipython",
    "version": 3
   },
   "file_extension": ".py",
   "mimetype": "text/x-python",
   "name": "python",
   "nbconvert_exporter": "python",
   "pygments_lexer": "ipython3",
   "version": "3.7.9"
  }
 },
 "nbformat": 4,
 "nbformat_minor": 4
}

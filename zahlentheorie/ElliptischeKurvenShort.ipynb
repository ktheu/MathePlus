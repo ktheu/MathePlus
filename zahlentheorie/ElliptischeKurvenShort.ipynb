{
 "cells": [
  {
   "cell_type": "markdown",
   "id": "african-laugh",
   "metadata": {},
   "source": [
    "## Elliptische Kurven\n",
    "\n",
    "Das Diffie-Hellman Verfahren zum Schlüsselaustausch kann auch mit elliptischen Kurven durchgeführt werden. Elliptische Kurven sind Punktmengen in der Ebene, die eine Gleichung der Form $y^2 = x^3 + ax + b$ erfüllen, zusammen mit einem unendlich fernen Punkt $\\{\\infty\\}$, der die Rolle der Null übernimmt.\n",
    "\n",
    "Das Verfahren ist mathematisch aufwendiger, führt aber dazu, dass dieselbe Sicherheit mit einer deutlich kürzeren Schlüssellänge erreicht wird.\n",
    "\n",
    "<img src= \"elliptic1.png\" width=\"600\">\n",
    "\n",
    "Beim klassischen Diffie-Hellman vereinbart Alice und Bob öffentlich eine Primzahl p und eine Primitivwurzel g als Generatorzahl. Alice und Bob behalten als ihr Geheimnis, wie oft sie die Generatorzahl mit sich selbst multiplizieren, veröffentlichen dann aber die Ergebnisse A und B. Daraus können beide den gemeinsamen Schlüssel K berechnen.\n",
    "\n",
    "Beim Diffie-Hellman Verfahren mit elliptischen Kurven vereinbart Alice und Bob öffentlich die Parameter a und b der elliptischen Kurve, einen Generatorpunkt G auf der Kurve und eine Primzahl modulo der gerechnet wird. Alice und Bob behalten dann wieder als ihr Geheimnis, wie oft sie diesem Generatorpunkt G zu sich selbst addieren, veröffentlichen dann aber die Ergebnisse A und B. Ganz analog können dann beide wieder den gemeinsamen Schlüssel K berechnen. \n",
    "\n",
    "Die Abbildung zeigt, was es bedeutet, zwei Punkte P und Q auf einer elliptischen Kurve zu \"addieren\".\n",
    "\n",
    "<img src= \"elliptic2.png\" width=\"400\">\n",
    "\n",
    "Zu Beginn ist nur der Punkt G gegeben. Um zu 2G zu gelangen, wird als Gerade die Tangente an G genommen. 3G = 2G + G findet man dann wie in der Abbildung angedeutet. -G ist die Spiegelung an der x-Achse. G - G = 0 ist der unendlich ferne Punkt. Für den gilt dann auch G + 0 = G. Diese Definition der Addition zweier Punkte erfüllt alle Gesetze, die wir von der Addition von Zahlen kennen (Gruppenoperation).  \n",
    "\n",
    "Aus den Koordinaten von P und Q lassen sich die Koordinaten von P+Q mit einer Formel berechnen. Alle Operationen dieser Formel werden modulo der vereinbarten Primzahl durchgeführt. Ausgehend von dem Generatorpunkt G ergeben sich so Punkte in der Ebene: G, 2G, 3G, ... . Wie beim klassischen Diffie-Hellman ist es bei geeigneter Wahl der Ausgangsparameter extrem aufwendig zurückzuverfolgen, wie oft ein bekannter Punkt G zu sich selbst addiert wurde, damit ein gegebener Punkt A erreicht wird. \n",
    "\n",
    "\n",
    "[Elliptic curves](https://graui.de/code/elliptic2/)  \n",
    "\n",
    "\n",
    "### Beispiel:\n",
    "\n",
    "$y^2 = x^3 + 2x + 2$, $p = 17, G = (5,1)$\n",
    "\n",
    "\n",
    "<img src= \"elliptic3.png\" width=\"800\">\n",
    "\n",
    "<img src= \"elliptic4.png\" width=\"800\">"
   ]
  },
  {
   "cell_type": "markdown",
   "id": "hairy-sleeping",
   "metadata": {},
   "source": [
    "So wie im klassischen Diffie-Hellman der Punkt auf dem Restklassenring herumspringt, so springt er hier wie zufällig in der Ebene herum.\n",
    "\n",
    "Beispiel einer tatsächlich genutzten Kurve:  [Curve25519](https://en.wikipedia.org/wiki/Curve25519)\n",
    "\n",
    "$y^{2}=x^{3}+486662x^{2}+x$ mit $p = 2^{255}-19$, der x-Wert des Generatorpunkts ist $x = 9$. Dadurch wird eine Gruppe von \n",
    "$ 2^{252}+27742317777372353535851937790883648493$ Punkten erzeugt."
   ]
  },
  {
   "cell_type": "code",
   "execution_count": null,
   "id": "exact-class",
   "metadata": {},
   "outputs": [],
   "source": []
  }
 ],
 "metadata": {
  "kernelspec": {
   "display_name": "Python 3",
   "language": "python",
   "name": "python3"
  },
  "language_info": {
   "codemirror_mode": {
    "name": "ipython",
    "version": 3
   },
   "file_extension": ".py",
   "mimetype": "text/x-python",
   "name": "python",
   "nbconvert_exporter": "python",
   "pygments_lexer": "ipython3",
   "version": "3.7.9"
  }
 },
 "nbformat": 4,
 "nbformat_minor": 5
}

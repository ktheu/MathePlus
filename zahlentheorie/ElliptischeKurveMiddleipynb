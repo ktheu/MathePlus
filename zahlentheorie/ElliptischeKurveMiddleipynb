{
 "cells": [
  {
   "cell_type": "markdown",
   "id": "applicable-symbol",
   "metadata": {},
   "source": [
    "## Elliptische Kurven\n",
    "\n",
    "Das Diffie-Hellman Verfahren zum Schlüsselaustausch kann auch mit elliptischen Kurven durchgeführt werden. Elliptische Kurven sind Punktmengen in der Ebene, die eine Gleichung der Form $y^2 = x^3 + ax + b$ erfüllen, zusammen mit einem unendlich fernen Punkt $\\{\\infty\\}$, der die Rolle der Null übernimmt.\n",
    "\n",
    "Das Verfahren ist mathematisch aufwendiger, führt aber dazu, dass dieselbe Sicherheit mit einer deutlich kürzeren Schlüssellänge erreicht wird.\n",
    "\n",
    "<img src= \"elliptic1.png\" width=\"600\">\n",
    "\n",
    "Beim klassischen Diffie-Hellman vereinbart Alice und Bob öffentlich eine Primzahl p und eine Primitivwurzel g als Generatorzahl. Alice und Bob behalten als ihr Geheimnis, wie oft sie die Generatorzahl mit sich selbst multiplizieren, veröffentlichen dann aber die Ergebnisse A und B. Daraus können beide den gemeinsamen Schlüssel K berechnen.\n",
    "\n",
    "Beim Diffie-Hellman Verfahren mit elliptischen Kurven vereinbart Alice und Bob öffentlich die Parameter a und b der elliptischen Kurve, einen Generatorpunkt G auf der Kurve und eine Primzahl modulo der gerechnet wird. Alice und Bob behalten dann wieder als ihr Geheimnis, wie oft sie diesem Generatorpunkt G zu sich selbst addieren, veröffentlichen dann aber die Ergebnisse A und B. Ganz analog können dann beide wieder den gemeinsamen Schlüssel K berechnen. \n",
    "\n",
    "Die Abbildung zeigt, was es bedeutet, zwei Punkte P und Q auf einer elliptischen Kurve zu \"addieren\".\n",
    "\n",
    "<img src= \"elliptic2.png\" width=\"400\">\n",
    "\n",
    "Zu Beginn ist nur der Punkt G gegeben. Um zu 2G zu gelangen, wird als Gerade die Tangente an G genommen. 3G = 2G + G findet man dann wie in der Abbildung angedeutet. -G ist die Spiegelung an der x-Achse. G - G = 0 ist der unendlich ferne Punkt. Für den gilt dann auch G + 0 = G. Diese Definition der Addition zweier Punkte erfüllt alle Gesetze, die wir von der Addition von Zahlen kennen (Gruppenoperation).  \n",
    "\n",
    "Aus den Koordinaten von P und Q lassen sich die Koordinaten von P+Q mit einer Formel berechnen. Alle Operationen dieser Formel werden modulo der vereinbarten Primzahl durchgeführt. Ausgehend von dem Generatorpunkt G ergeben sich so Punkte in der Ebene: G, 2G, 3G, ... . Wie beim klassischen Diffie-Hellman ist es extrem schwierig zurückzuverfolgen, wie oft ein bekannter Punkt G zu sich selbst addiert wurde, damit ein gegebener Punkt A erreicht wird. \n",
    "\n",
    "\n",
    "[Elliptic curves](https://graui.de/code/elliptic2/)  \n",
    "\n",
    "\n",
    "### Beispiel:\n",
    "\n",
    "$y^2 = x^3 + 2x + 2$, $p = 17, G = (5,1)$"
   ]
  },
  {
   "cell_type": "code",
   "execution_count": 3,
   "id": "thorough-spelling",
   "metadata": {},
   "outputs": [
    {
     "data": {
      "text/plain": [
       "1"
      ]
     },
     "execution_count": 3,
     "metadata": {},
     "output_type": "execute_result"
    }
   ],
   "source": [
    "def f(x):\n",
    "    return (x**3 + 2*x + 2) % 17\n",
    "f(5)"
   ]
  },
  {
   "cell_type": "code",
   "execution_count": 2,
   "id": "assisted-preliminary",
   "metadata": {},
   "outputs": [
    {
     "data": {
      "text/plain": [
       "1"
      ]
     },
     "execution_count": 2,
     "metadata": {},
     "output_type": "execute_result"
    }
   ],
   "source": []
  },
  {
   "cell_type": "code",
   "execution_count": null,
   "id": "exact-northern",
   "metadata": {},
   "outputs": [],
   "source": []
  },
  {
   "cell_type": "code",
   "execution_count": null,
   "id": "owned-acrylic",
   "metadata": {},
   "outputs": [],
   "source": []
  },
  {
   "cell_type": "code",
   "execution_count": 4,
   "id": "embedded-speaking",
   "metadata": {},
   "outputs": [
    {
     "data": {
      "image/png": "[encoded data removed]",
      "text/plain": [
       "<Figure size 432x288 with 1 Axes>"
      ]
     },
     "metadata": {
      "needs_background": "light"
     },
     "output_type": "display_data"
    }
   ],
   "source": [
    "import numpy as np\n",
    "import matplotlib.pyplot as plt\n",
    "a, b = 2, 2\n",
    "y, x = np.ogrid[-5:5:100j, -5:5:100j]\n",
    "plt.contour(x.ravel(), y.ravel(), pow(y, 2) - pow(x, 3) - x * a - b, [0])\n",
    "plt.grid()\n",
    "plt.show()\n"
   ]
  },
  {
   "cell_type": "code",
   "execution_count": null,
   "id": "opposed-exercise",
   "metadata": {},
   "outputs": [],
   "source": []
  }
 ],
 "metadata": {
  "kernelspec": {
   "display_name": "Python 3",
   "language": "python",
   "name": "python3"
  },
  "language_info": {
   "codemirror_mode": {
    "name": "ipython",
    "version": 3
   },
   "file_extension": ".py",
   "mimetype": "text/x-python",
   "name": "python",
   "nbconvert_exporter": "python",
   "pygments_lexer": "ipython3",
   "version": "3.7.9"
  }
 },
 "nbformat": 4,
 "nbformat_minor": 5
}

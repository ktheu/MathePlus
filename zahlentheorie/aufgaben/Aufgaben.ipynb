{
 "cells": [
  {
   "cell_type": "markdown",
   "metadata": {},
   "source": [
    "### Aufgaben zur Zahlentheorie/Kryptologie"
   ]
  },
  {
   "cell_type": "markdown",
   "metadata": {},
   "source": [
    "Wende die Teilbarkeitsregeln für 2-12 auf folgende Zahlen an:  \n",
    "$a.1540 \\quad b.1623272 \\quad   c.13678500 \\quad  d.123456789 $"
   ]
  },
  {
   "cell_type": "code",
   "execution_count": 1,
   "metadata": {},
   "outputs": [],
   "source": [
    "def quersumme(n):\n",
    "    return sum([int(x) for x in str(n)])\n",
    "\n",
    "def altquersumme(n):\n",
    "    tmp = 0\n",
    "    s = str(n)\n",
    "    for k in range(len(s)-1,-1,-1):\n",
    "        tmp += (-1)**k*int(s[k])\n",
    "    return tmp\n",
    "\n",
    "def siebenertest(n):\n",
    "    tmp = ''\n",
    "    s = str(n)\n",
    "    while len(s) > 2:\n",
    "        tmp += s + ' '\n",
    "        m = int(s[:-1])-2*int(s[-1])\n",
    "        \n",
    "        s = str(m)\n",
    "    tmp += s  \n",
    "    return tmp\n",
    "        "
   ]
  },
  {
   "cell_type": "code",
   "execution_count": 2,
   "metadata": {},
   "outputs": [],
   "source": [
    "def tregeln(n):\n",
    "    print('n =',n)\n",
    "    print('Quersumme:',quersumme(n))\n",
    "    print('Alternierende Quersumme:',altquersumme(n) )\n",
    "    print('Siebener Test:',siebenertest(n) )"
   ]
  },
  {
   "cell_type": "code",
   "execution_count": 6,
   "metadata": {},
   "outputs": [],
   "source": [
    "def eggT_tab(a,b):\n",
    "    zeile = []\n",
    "    zeile.append([a,b,a//b,a%b])\n",
    "    i = 1\n",
    "\n",
    "    while a%b != 0:\n",
    "        a = zeile[i-1][1]\n",
    "        b = zeile[i-1][3]\n",
    "        zeile.append([a,b,a//b,a%b])\n",
    "        i = i+1\n",
    "\n",
    "    k = len(zeile)-1\n",
    "    zeile[k]+=[0,1]\n",
    "    k=k-1\n",
    "\n",
    "    while k >=0:\n",
    "        x = zeile[k+1][5]\n",
    "        y = zeile[k+1][4]-zeile[k][2]*zeile[k+1][5]\n",
    "        zeile[k]+=[x,y]\n",
    "        k = k-1\n",
    "    \n",
    "    print('    a    b    q    r    x    y')\n",
    "    for k in range(len(zeile)):\n",
    "        print(f'{zeile[k][0]:>{5}}{zeile[k][1]:>{5}}{zeile[k][2]:>{5}}{zeile[k][3]:>{5}}{zeile[k][4]:>{5}}{zeile[k][5]:>{5}}')\n",
    "    print()\n",
    "    print(f'{zeile[0][0]} * {zeile[0][4]} + {zeile[0][1]} * {zeile[0][5]} = {zeile[-1][1]}')\n",
    "    \n",
    "def ggT(a,b):\n",
    "    print(f'{a:6} {b:6}')  \n",
    "    while b != 0:\n",
    "        a, b = b, a% b\n",
    "        print(f'{a:6} {b:6}') "
   ]
  },
  {
   "cell_type": "code",
   "execution_count": 45,
   "metadata": {},
   "outputs": [
    {
     "name": "stdout",
     "output_type": "stream",
     "text": [
      "n = 1540\n",
      "Quersumme: 10\n",
      "Alternierende Quersumme: 0\n",
      "Siebener Test: 1540 154 7\n"
     ]
    }
   ],
   "source": [
    "tregeln(1540)"
   ]
  },
  {
   "cell_type": "code",
   "execution_count": 46,
   "metadata": {},
   "outputs": [
    {
     "name": "stdout",
     "output_type": "stream",
     "text": [
      "n = 1623272\n",
      "Quersumme: 23\n",
      "Alternierende Quersumme: -9\n",
      "Siebener Test: 1623272 162323 16226 1610 161 14\n"
     ]
    }
   ],
   "source": [
    "tregeln(1623272)"
   ]
  },
  {
   "cell_type": "code",
   "execution_count": 47,
   "metadata": {},
   "outputs": [
    {
     "name": "stdout",
     "output_type": "stream",
     "text": [
      "n = 13678500\n",
      "Quersumme: 30\n",
      "Alternierende Quersumme: 0\n",
      "Siebener Test: 13678500 1367850 136785 13668 1350 135 3\n"
     ]
    }
   ],
   "source": [
    "tregeln(13678500)"
   ]
  },
  {
   "cell_type": "code",
   "execution_count": 48,
   "metadata": {},
   "outputs": [
    {
     "name": "stdout",
     "output_type": "stream",
     "text": [
      "n = 123456789\n",
      "Quersumme: 45\n",
      "Alternierende Quersumme: 5\n",
      "Siebener Test: 123456789 12345660 1234566 123444 12336 1221 120 12\n"
     ]
    }
   ],
   "source": [
    "tregeln(123456789)"
   ]
  },
  {
   "cell_type": "code",
   "execution_count": 70,
   "metadata": {},
   "outputs": [],
   "source": [
    "n = 123456789\n",
    "def teilbarkeit(n):\n",
    "    res = f'{n} teilbar durch'\n",
    "    for k in range(2,13):\n",
    "        if n % k == 0:\n",
    "            res = res + ' ' + str(k)\n",
    "    return res"
   ]
  },
  {
   "cell_type": "code",
   "execution_count": 71,
   "metadata": {},
   "outputs": [
    {
     "name": "stdout",
     "output_type": "stream",
     "text": [
      "123456789 teilbar durch 3 9\n"
     ]
    }
   ],
   "source": [
    "print(teilbarkeit(n))"
   ]
  },
  {
   "cell_type": "markdown",
   "metadata": {},
   "source": [
    "---\n",
    "\n",
    "Bestimme mit dem erweiterten Euklidschen Algorithmus: \n",
    " a.  $\\dfrac{\\overline{5}}{\\overline{33}}$ in  $\\mathbb{Z}_{37}$. \n",
    " b.  $\\dfrac{\\overline{7}}{\\overline{20}}$ in  $\\mathbb{Z}_{89}$.\n"
   ]
  },
  {
   "cell_type": "code",
   "execution_count": 79,
   "metadata": {},
   "outputs": [
    {
     "name": "stdout",
     "output_type": "stream",
     "text": [
      "    a    b    q    r    x    y\n",
      "   37   33    1    4   -8    9\n",
      "   33    4    8    1    1   -8\n",
      "    4    1    4    0    0    1\n",
      "\n",
      "37 * -8 + 33 * 9 = 1\n"
     ]
    }
   ],
   "source": [
    "eggT_tab(37,33)"
   ]
  },
  {
   "cell_type": "code",
   "execution_count": 15,
   "metadata": {},
   "outputs": [
    {
     "name": "stdout",
     "output_type": "stream",
     "text": [
      "    a    b    q    r    x    y\n",
      "  143  119    1   24    5   -6\n",
      "  119   24    4   23   -1    5\n",
      "   24   23    1    1    1   -1\n",
      "   23    1   23    0    0    1\n",
      "\n",
      "143 * 5 + 119 * -6 = 1\n"
     ]
    }
   ],
   "source": [
    "eggT_tab(143,119)"
   ]
  },
  {
   "cell_type": "code",
   "execution_count": 12,
   "metadata": {},
   "outputs": [
    {
     "name": "stdout",
     "output_type": "stream",
     "text": [
      "   999    992\n",
      "   992      7\n",
      "     7      5\n",
      "     5      2\n",
      "     2      1\n",
      "     1      0\n"
     ]
    }
   ],
   "source": [
    "ggT(999,992)"
   ]
  },
  {
   "cell_type": "code",
   "execution_count": null,
   "metadata": {},
   "outputs": [],
   "source": []
  }
 ],
 "metadata": {
  "kernelspec": {
   "display_name": "SageMath 9.2",
   "language": "sage",
   "name": "sagemath"
  },
  "language_info": {
   "codemirror_mode": {
    "name": "ipython",
    "version": 3
   },
   "file_extension": ".py",
   "mimetype": "text/x-python",
   "name": "python",
   "nbconvert_exporter": "python",
   "pygments_lexer": "ipython3",
   "version": "3.7.7"
  }
 },
 "nbformat": 4,
 "nbformat_minor": 4
}

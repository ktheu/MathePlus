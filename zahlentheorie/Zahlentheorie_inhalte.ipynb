{
 "cells": [
  {
   "cell_type": "markdown",
   "metadata": {},
   "source": [
    "## Zahlentheorie\n",
    "\n",
    "### Diophantische Gleichungen"
   ]
  },
  {
   "cell_type": "code",
   "execution_count": 131,
   "metadata": {},
   "outputs": [
    {
     "data": {
      "text/plain": [
       "[1, 2, 3, 5, 6, 9, 10, 15, 18, 30, 45, 90]"
      ]
     },
     "execution_count": 131,
     "metadata": {},
     "output_type": "execute_result"
    }
   ],
   "source": [
    "divisors(90)           # alle Teiler       "
   ]
  },
  {
   "cell_type": "code",
   "execution_count": 132,
   "metadata": {},
   "outputs": [
    {
     "data": {
      "text/plain": [
       "True"
      ]
     },
     "execution_count": 132,
     "metadata": {},
     "output_type": "execute_result"
    }
   ],
   "source": [
    "18.divides(90)         # Test ob 8 Teiler von 24 ist"
   ]
  },
  {
   "cell_type": "code",
   "execution_count": 133,
   "metadata": {},
   "outputs": [
    {
     "data": {
      "text/plain": [
       "2 * 3^2 * 5"
      ]
     },
     "execution_count": 133,
     "metadata": {},
     "output_type": "execute_result"
    }
   ],
   "source": [
    "factor(90)             # Primfaktorzerlegung"
   ]
  },
  {
   "cell_type": "code",
   "execution_count": 134,
   "metadata": {},
   "outputs": [
    {
     "data": {
      "text/plain": [
       "14"
      ]
     },
     "execution_count": 134,
     "metadata": {},
     "output_type": "execute_result"
    }
   ],
   "source": [
    "# ggT = gcd = greates common divisor\n",
    "gcd(70,98) "
   ]
  },
  {
   "cell_type": "code",
   "execution_count": 135,
   "metadata": {},
   "outputs": [
    {
     "data": {
      "text/plain": [
       "True"
      ]
     },
     "execution_count": 135,
     "metadata": {},
     "output_type": "execute_result"
    }
   ],
   "source": [
    "is_prime(31)     # Test, ob Primzahl"
   ]
  },
  {
   "cell_type": "code",
   "execution_count": 136,
   "metadata": {},
   "outputs": [
    {
     "data": {
      "text/plain": [
       "[2, 3, 5, 7, 11, 13, 17, 19, 23, 29]"
      ]
     },
     "execution_count": 136,
     "metadata": {},
     "output_type": "execute_result"
    }
   ],
   "source": [
    "prime_range(30)  # alle Primzahlen bis 30"
   ]
  },
  {
   "cell_type": "code",
   "execution_count": 137,
   "metadata": {},
   "outputs": [
    {
     "data": {
      "text/plain": [
       "(2, 7, -24)"
      ]
     },
     "execution_count": 137,
     "metadata": {},
     "output_type": "execute_result"
    }
   ],
   "source": [
    "xgcd(110,32)     # erweiterter Euklidscher Algorithmus"
   ]
  },
  {
   "cell_type": "code",
   "execution_count": 138,
   "metadata": {},
   "outputs": [
    {
     "data": {
      "text/plain": [
       "3"
      ]
     },
     "execution_count": 138,
     "metadata": {},
     "output_type": "execute_result"
    }
   ],
   "source": [
    "110 // 32        # 110 geteilt durch 32 ohne Rest (ganzzahlige Division)"
   ]
  },
  {
   "cell_type": "code",
   "execution_count": 139,
   "metadata": {},
   "outputs": [
    {
     "data": {
      "text/plain": [
       "14"
      ]
     },
     "execution_count": 139,
     "metadata": {},
     "output_type": "execute_result"
    }
   ],
   "source": [
    "110 % 32         # Rest bei 110 geteilt durch 32  (Modulo-Operator) "
   ]
  },
  {
   "cell_type": "markdown",
   "metadata": {},
   "source": [
    "### Kongruenzen und Restklassen\n"
   ]
  },
  {
   "cell_type": "code",
   "execution_count": 140,
   "metadata": {},
   "outputs": [
    {
     "data": {
      "text/plain": [
       "4"
      ]
     },
     "execution_count": 140,
     "metadata": {},
     "output_type": "execute_result"
    }
   ],
   "source": [
    "mod(73+155,7)    # Rechnen mit Kongruenzen"
   ]
  },
  {
   "cell_type": "code",
   "execution_count": 141,
   "metadata": {},
   "outputs": [
    {
     "data": {
      "text/plain": [
       "3"
      ]
     },
     "execution_count": 141,
     "metadata": {},
     "output_type": "execute_result"
    }
   ],
   "source": [
    "mod(73*155,7)"
   ]
  },
  {
   "cell_type": "code",
   "execution_count": 142,
   "metadata": {},
   "outputs": [
    {
     "data": {
      "text/plain": [
       "5"
      ]
     },
     "execution_count": 142,
     "metadata": {},
     "output_type": "execute_result"
    }
   ],
   "source": [
    "mod(73^155,7)"
   ]
  },
  {
   "cell_type": "code",
   "execution_count": 143,
   "metadata": {},
   "outputs": [
    {
     "data": {
      "text/plain": [
       "'Wednesday'"
      ]
     },
     "execution_count": 143,
     "metadata": {},
     "output_type": "execute_result"
    }
   ],
   "source": [
    "# Wochentag berechnen\n",
    "import datetime  \n",
    "datetime.date(2021,11,3).strftime(\"%A\")            "
   ]
  },
  {
   "cell_type": "code",
   "execution_count": 144,
   "metadata": {},
   "outputs": [
    {
     "data": {
      "text/plain": [
       "41"
      ]
     },
     "execution_count": 144,
     "metadata": {},
     "output_type": "execute_result"
    }
   ],
   "source": [
    "# Quersumme berechnen\n",
    "n = 12387129143\n",
    "sum([int(x) for x in list(str(n))])"
   ]
  },
  {
   "cell_type": "code",
   "execution_count": 14,
   "metadata": {},
   "outputs": [
    {
     "name": "stdout",
     "output_type": "stream",
     "text": [
      "     0   1   2   3   4  \n",
      "-----------------------\n",
      "0 |  0   1   2   3   4 \n",
      "1 |  1   2   3   4   0 \n",
      "2 |  2   3   4   0   1 \n",
      "3 |  3   4   0   1   2 \n",
      "4 |  4   0   1   2   3 \n"
     ]
    }
   ],
   "source": [
    "# Verknüpfungstabelle für Addition\n",
    "m = 5\n",
    "zeile = '    '\n",
    "for i in range(m):\n",
    "    zeile+=f' {i}  '\n",
    "print(zeile)\n",
    "zeile = '---'\n",
    "for i in range(m):\n",
    "    zeile+=f'----'\n",
    "print(zeile)\n",
    "for i in range(m):\n",
    "    print(f'{i} |',end='')\n",
    "    for j in range(m):\n",
    "        print(f'{(i+j)%m:3d}',end=' ')\n",
    "    print()"
   ]
  },
  {
   "cell_type": "code",
   "execution_count": 40,
   "metadata": {},
   "outputs": [
    {
     "data": {
      "text/plain": [
       "\\begin{tabular}{llllll}\n",
       "+ & $0$ & $1$ & $2$ & $3$ & $4$ \\\\ \\hline\n",
       "$0$ & $0$ & $1$ & $2$ & $3$ & $4$ \\\\\n",
       "$1$ & $1$ & $2$ & $3$ & $4$ & $0$ \\\\\n",
       "$2$ & $2$ & $3$ & $4$ & $0$ & $1$ \\\\\n",
       "$3$ & $3$ & $4$ & $0$ & $1$ & $2$ \\\\\n",
       "$4$ & $4$ & $0$ & $1$ & $2$ & $3$ \\\\\n",
       "\\end{tabular}"
      ]
     },
     "execution_count": 40,
     "metadata": {},
     "output_type": "execute_result"
    }
   ],
   "source": [
    "# Die Latex-Version\n",
    "m = 5\n",
    "header = ['+']+[i for i in range(m)]\n",
    "a = [[j]+[(i+j)%m for i in range(m)] for j in range(m)]\n",
    "a.insert(0,header)\n",
    "latex(table(a,header_row=True))"
   ]
  },
  {
   "cell_type": "code",
   "execution_count": 16,
   "metadata": {},
   "outputs": [
    {
     "name": "stdout",
     "output_type": "stream",
     "text": [
      "     0   1   2   3   4   5   6  \n",
      "-------------------------------\n",
      "0 |  0   0   0   0   0   0   0 \n",
      "1 |  0   1   2   3   4   5   6 \n",
      "2 |  0   2   4   6   1   3   5 \n",
      "3 |  0   3   6   2   5   1   4 \n",
      "4 |  0   4   1   5   2   6   3 \n",
      "5 |  0   5   3   1   6   4   2 \n",
      "6 |  0   6   5   4   3   2   1 \n"
     ]
    }
   ],
   "source": [
    "# Verknüpfungstabelle für Multiplikation\n",
    "m = 7\n",
    " \n",
    "zeile = '    '\n",
    "for i in range(m):\n",
    "    zeile+=f' {i}  '\n",
    "print(zeile)\n",
    "zeile = '---'\n",
    "for i in range(m):\n",
    "    zeile+=f'----'\n",
    "print(zeile)\n",
    "for i in range(m):\n",
    "    print(f'{i} |',end='')\n",
    "    for j in range(m):\n",
    "        print(f'{(i*j)%m:3d}',end=' ')\n",
    "    print()"
   ]
  },
  {
   "cell_type": "code",
   "execution_count": 42,
   "metadata": {},
   "outputs": [
    {
     "data": {
      "text/plain": [
       "\\begin{tabular}{lllll}\n",
       "* & $0$ & $1$ & $2$ & $3$ \\\\ \\hline\n",
       "$0$ & $0$ & $0$ & $0$ & $0$ \\\\\n",
       "$1$ & $0$ & $1$ & $2$ & $3$ \\\\\n",
       "$2$ & $0$ & $2$ & $0$ & $2$ \\\\\n",
       "$3$ & $0$ & $3$ & $2$ & $1$ \\\\\n",
       "\\end{tabular}"
      ]
     },
     "execution_count": 42,
     "metadata": {},
     "output_type": "execute_result"
    }
   ],
   "source": [
    "# Die Latex-Version\n",
    "m = 4\n",
    "header = ['*']+[i for i in range(m)]\n",
    "a = [[j]+[(i*j)%m for i in range(m)] for j in range(m)]\n",
    "a.insert(0,header)\n",
    "latex(table(a,header_row=True))"
   ]
  },
  {
   "cell_type": "code",
   "execution_count": 147,
   "metadata": {},
   "outputs": [
    {
     "data": {
      "text/plain": [
       "3"
      ]
     },
     "execution_count": 147,
     "metadata": {},
     "output_type": "execute_result"
    }
   ],
   "source": [
    "#  1/7  Modulo 5\n",
    "inverse_mod(7,5)"
   ]
  },
  {
   "cell_type": "code",
   "execution_count": 148,
   "metadata": {},
   "outputs": [
    {
     "data": {
      "text/plain": [
       "1"
      ]
     },
     "execution_count": 148,
     "metadata": {},
     "output_type": "execute_result"
    }
   ],
   "source": [
    "# 3^4 mod 5 mit dem Powermod-Algorithmus\n",
    "power_mod(3, 4, 5)    "
   ]
  },
  {
   "cell_type": "code",
   "execution_count": 149,
   "metadata": {},
   "outputs": [
    {
     "data": {
      "text/plain": [
       "3"
      ]
     },
     "execution_count": 149,
     "metadata": {},
     "output_type": "execute_result"
    }
   ],
   "source": [
    "# die kleinste Primitivwurzel\n",
    "primitive_root(7)"
   ]
  },
  {
   "cell_type": "markdown",
   "metadata": {},
   "source": [
    "### Kryptographie\n",
    "\n",
    "#### Diffie-Hellman"
   ]
  },
  {
   "cell_type": "code",
   "execution_count": 150,
   "metadata": {},
   "outputs": [
    {
     "data": {
      "text/plain": [
       "(26534984080783117721, 3)"
      ]
     },
     "execution_count": 150,
     "metadata": {},
     "output_type": "execute_result"
    }
   ],
   "source": [
    "p = random_prime(10^20,10^30)    # Eine zufällige Primzahl zwischen den angegebenen Grenzen\n",
    "g = mod(primitive_root(p),p)     # die kleinste Primitivwurzel in Zp - mit mod geeigneter Datentyp für große Zahlen\n",
    "p, g"
   ]
  },
  {
   "cell_type": "code",
   "execution_count": 151,
   "metadata": {},
   "outputs": [
    {
     "data": {
      "text/plain": [
       "(13731212069303346249, 246255861896250582)"
      ]
     },
     "execution_count": 151,
     "metadata": {},
     "output_type": "execute_result"
    }
   ],
   "source": [
    "a = randint(1,p)    # Alice's geheime Zahl\n",
    "b = randint(1,p)    # Bob's   geheime Zahl\n",
    "a,b"
   ]
  },
  {
   "cell_type": "code",
   "execution_count": 152,
   "metadata": {},
   "outputs": [
    {
     "data": {
      "text/plain": [
       "(2126922052760109800, 1349556689238236121)"
      ]
     },
     "execution_count": 152,
     "metadata": {},
     "output_type": "execute_result"
    }
   ],
   "source": [
    "A=g^a               # Alice's öffentliche Zahl\n",
    "B=g^b               # Bob's   öffentliche Zahl\n",
    "A, B"
   ]
  },
  {
   "cell_type": "code",
   "execution_count": 153,
   "metadata": {},
   "outputs": [
    {
     "data": {
      "text/plain": [
       "(6813077269210899119, 6813077269210899119)"
      ]
     },
     "execution_count": 153,
     "metadata": {},
     "output_type": "execute_result"
    }
   ],
   "source": [
    "B^a, A^b            # der gemeinsame Schlüssel"
   ]
  },
  {
   "cell_type": "markdown",
   "metadata": {},
   "source": [
    "#### Berechnung des diskreten Logarithmus\n",
    "für nicht zu große Zahlen"
   ]
  },
  {
   "cell_type": "code",
   "execution_count": 154,
   "metadata": {},
   "outputs": [
    {
     "name": "stdout",
     "output_type": "stream",
     "text": [
      "6753744422 ist geheim\n"
     ]
    },
    {
     "data": {
      "text/plain": [
       "4009571266090"
      ]
     },
     "execution_count": 154,
     "metadata": {},
     "output_type": "execute_result"
    }
   ],
   "source": [
    "p = random_prime(10^13)   # 10^13 dauert schon ein bisschen\n",
    "g = mod(primitive_root(p),p) \n",
    "a = randint(1,p)          # Alice's geheime Zahl\n",
    "print(a,'ist geheim')\n",
    "A=g^a                     # Alice's öffentliche Zahl\n",
    "A"
   ]
  },
  {
   "cell_type": "code",
   "execution_count": 155,
   "metadata": {},
   "outputs": [
    {
     "data": {
      "text/plain": [
       "6753744422"
      ]
     },
     "execution_count": 155,
     "metadata": {},
     "output_type": "execute_result"
    }
   ],
   "source": [
    "# diskreter Logarithmus\n",
    "bsgs(g, A, (0,p-1))"
   ]
  },
  {
   "cell_type": "markdown",
   "metadata": {},
   "source": [
    "#### RSA-Verfahren"
   ]
  },
  {
   "cell_type": "code",
   "execution_count": 156,
   "metadata": {},
   "outputs": [
    {
     "data": {
      "text/plain": [
       "(6711997660619,\n",
       " 5647564981511,\n",
       " 37906442944095617987815309,\n",
       " 37906442944083258425173180)"
      ]
     },
     "execution_count": 156,
     "metadata": {},
     "output_type": "execute_result"
    }
   ],
   "source": [
    "p = random_prime(10^13)    \n",
    "q = random_prime(10^13)   \n",
    "m = p*q\n",
    "m_schlange = (p-1)*(q-1)\n",
    "p, q, m, m_schlange"
   ]
  },
  {
   "cell_type": "code",
   "execution_count": 157,
   "metadata": {},
   "outputs": [],
   "source": [
    "e = randint(2,m_schlange)\n",
    "while (gcd(e,m_schlange) != 1):\n",
    "    e = randint(2,m_schlange)"
   ]
  },
  {
   "cell_type": "code",
   "execution_count": 158,
   "metadata": {},
   "outputs": [
    {
     "data": {
      "text/plain": [
       "(36684063763203073552792147, 1, True)"
      ]
     },
     "execution_count": 158,
     "metadata": {},
     "output_type": "execute_result"
    }
   ],
   "source": [
    "e, gcd(e,m_schlange), e < m_schlange"
   ]
  },
  {
   "cell_type": "code",
   "execution_count": 159,
   "metadata": {},
   "outputs": [
    {
     "data": {
      "text/plain": [
       "25052678461046071634633523"
      ]
     },
     "execution_count": 159,
     "metadata": {},
     "output_type": "execute_result"
    }
   ],
   "source": [
    "d = inverse_mod(e,m_schlange)\n",
    "d"
   ]
  },
  {
   "cell_type": "code",
   "execution_count": 160,
   "metadata": {},
   "outputs": [
    {
     "data": {
      "text/plain": [
       "1"
      ]
     },
     "execution_count": 160,
     "metadata": {},
     "output_type": "execute_result"
    }
   ],
   "source": [
    "mod(e*d,m_schlange)          # Kontrolle"
   ]
  },
  {
   "cell_type": "code",
   "execution_count": 161,
   "metadata": {},
   "outputs": [
    {
     "data": {
      "text/plain": [
       "['72', '69', '76', '76', '79', '87', '79', '82', '76', '68']"
      ]
     },
     "execution_count": 161,
     "metadata": {},
     "output_type": "execute_result"
    }
   ],
   "source": [
    "nachricht = \"HELLOWORLD\"\n",
    "na = [str(ord(x)) for x in nachricht]\n",
    "na\n"
   ]
  },
  {
   "cell_type": "code",
   "execution_count": 162,
   "metadata": {},
   "outputs": [
    {
     "data": {
      "text/plain": [
       "(72697676798779827668, True)"
      ]
     },
     "execution_count": 162,
     "metadata": {},
     "output_type": "execute_result"
    }
   ],
   "source": [
    "N = int(''.join(na))\n",
    "N, N < m"
   ]
  },
  {
   "cell_type": "code",
   "execution_count": 163,
   "metadata": {},
   "outputs": [
    {
     "data": {
      "text/plain": [
       "6613295752134797281860354"
      ]
     },
     "execution_count": 163,
     "metadata": {},
     "output_type": "execute_result"
    }
   ],
   "source": [
    "# Die verschlüsselte Nachricht\n",
    "n = int(power_mod(N,e,m))\n",
    "n"
   ]
  },
  {
   "cell_type": "code",
   "execution_count": 164,
   "metadata": {},
   "outputs": [
    {
     "data": {
      "text/plain": [
       "72697676798779827668"
      ]
     },
     "execution_count": 164,
     "metadata": {},
     "output_type": "execute_result"
    }
   ],
   "source": [
    "# Entschlüsseln\n",
    "N1 = power_mod(n,d,m)\n",
    "N1"
   ]
  },
  {
   "cell_type": "code",
   "execution_count": 165,
   "metadata": {},
   "outputs": [
    {
     "data": {
      "text/plain": [
       "['H', 'E', 'L', 'L', 'O', 'W', 'O', 'R', 'L', 'D']"
      ]
     },
     "execution_count": 165,
     "metadata": {},
     "output_type": "execute_result"
    }
   ],
   "source": [
    "n1a = [chr(int(str(N1)[i:i+2])) for i in range(0,len(str(N1))-1,2)]\n",
    "n1a"
   ]
  },
  {
   "cell_type": "code",
   "execution_count": 166,
   "metadata": {},
   "outputs": [
    {
     "data": {
      "text/plain": [
       "'HELLOWORLD'"
      ]
     },
     "execution_count": 166,
     "metadata": {},
     "output_type": "execute_result"
    }
   ],
   "source": [
    "n1 = ''.join(n1a)\n",
    "n1"
   ]
  },
  {
   "cell_type": "markdown",
   "metadata": {},
   "source": [
    "#### Angriff auf das RSA-Verfahren\n",
    "durch Faktorisierung bei nicht so großen Zahlen"
   ]
  },
  {
   "cell_type": "code",
   "execution_count": 167,
   "metadata": {},
   "outputs": [
    {
     "data": {
      "text/plain": [
       "(37906442944095617987815309, 5647564981511 * 6711997660619)"
      ]
     },
     "execution_count": 167,
     "metadata": {},
     "output_type": "execute_result"
    }
   ],
   "source": [
    "m, factor(m)"
   ]
  },
  {
   "cell_type": "code",
   "execution_count": 168,
   "metadata": {},
   "outputs": [
    {
     "data": {
      "text/plain": [
       "[(5647564981511, 1), (6711997660619, 1)]"
      ]
     },
     "execution_count": 168,
     "metadata": {},
     "output_type": "execute_result"
    }
   ],
   "source": [
    "lf = list(factor(m))\n",
    "lf"
   ]
  },
  {
   "cell_type": "code",
   "execution_count": 169,
   "metadata": {},
   "outputs": [
    {
     "data": {
      "text/plain": [
       "37906442944083258425173180"
      ]
     },
     "execution_count": 169,
     "metadata": {},
     "output_type": "execute_result"
    }
   ],
   "source": [
    "m_schlange_geknackt = (lf[0][0]-1)*(lf[1][0]-1)\n",
    "m_schlange_geknackt"
   ]
  },
  {
   "cell_type": "code",
   "execution_count": 170,
   "metadata": {},
   "outputs": [
    {
     "data": {
      "text/plain": [
       "25052678461046071634633523"
      ]
     },
     "execution_count": 170,
     "metadata": {},
     "output_type": "execute_result"
    }
   ],
   "source": [
    "d_geknackt = inverse_mod(e,m_schlange_geknackt)\n",
    "d_geknackt"
   ]
  },
  {
   "cell_type": "markdown",
   "metadata": {},
   "source": [
    "#### Kryptographische Hashfunktion"
   ]
  },
  {
   "cell_type": "code",
   "execution_count": 171,
   "metadata": {},
   "outputs": [
    {
     "data": {
      "text/plain": [
       "'2d6c0b3ebb96aa2247bf55ffef038b13f9b0988d5102f2a0041f93fca45a7961'"
      ]
     },
     "execution_count": 171,
     "metadata": {},
     "output_type": "execute_result"
    }
   ],
   "source": [
    "from hashlib import sha256 \n",
    "# der hexadezimaler Hashwert hat länge 64\n",
    "N = \"Ihr naht euch wieder, schwankende Gestalten\"\n",
    "hash = sha256(N.encode(encoding='UTF-8')).hexdigest()\n",
    "hash"
   ]
  },
  {
   "cell_type": "code",
   "execution_count": 172,
   "metadata": {},
   "outputs": [
    {
     "data": {
      "text/plain": [
       "20544975279724939401503875837159357512740848033098927352566785086870504765793"
      ]
     },
     "execution_count": 172,
     "metadata": {},
     "output_type": "execute_result"
    }
   ],
   "source": [
    "# als ganze Zahl\n",
    "int(hash,16)"
   ]
  },
  {
   "cell_type": "code",
   "execution_count": 173,
   "metadata": {},
   "outputs": [
    {
     "data": {
      "text/plain": [
       "'0010110101101100000010110011111010111011100101101010101000100010010001111011111101010101111111111110111100000011100010110001001111111001101100001001100010001101010100010000001011110010101000000000010000011111100100111111110010100100010110100111100101100001'"
      ]
     },
     "execution_count": 173,
     "metadata": {},
     "output_type": "execute_result"
    }
   ],
   "source": [
    "# als Binärzahl hat der Hashwert die Länge 256\n",
    "bin(int(hash,16))[2:].zfill(256)"
   ]
  },
  {
   "cell_type": "markdown",
   "metadata": {},
   "source": [
    "#### Digitale Signatur"
   ]
  },
  {
   "cell_type": "code",
   "execution_count": 174,
   "metadata": {},
   "outputs": [
    {
     "data": {
      "text/plain": [
       "(6855504638702667761577145104860931273773,\n",
       " 8070895326753953555690975744708373517739,\n",
       " 55330060351045412039049717185150136044196902459249262836998348276902098080959247,\n",
       " 55330060351045412039049717185150136044181976059283806215681080156052528776167736)"
      ]
     },
     "execution_count": 174,
     "metadata": {},
     "output_type": "execute_result"
    }
   ],
   "source": [
    "# N < m, d.h. das Produkt der Primzahlen muss größer als die Nachricht (256 Bit) sein\n",
    "set_random_seed(1)\n",
    "p = random_prime(10^40,10^50)    \n",
    "q = random_prime(10^40,10^50)   \n",
    "m = p*q\n",
    "m_schlange = (p-1)*(q-1)\n",
    "p, q, m, m_schlange"
   ]
  },
  {
   "cell_type": "code",
   "execution_count": 175,
   "metadata": {},
   "outputs": [
    {
     "data": {
      "text/plain": [
       "(11194402530276847150148909456325150875706602713735053809835833154079468115092027,\n",
       " 1,\n",
       " True)"
      ]
     },
     "execution_count": 175,
     "metadata": {},
     "output_type": "execute_result"
    }
   ],
   "source": [
    "e = randint(2,m_schlange)\n",
    "while (gcd(e,m_schlange) != 1):\n",
    "    e = randint(2,m_schlange)\n",
    "e, gcd(e,m_schlange), e < m_schlange"
   ]
  },
  {
   "cell_type": "code",
   "execution_count": 176,
   "metadata": {},
   "outputs": [
    {
     "data": {
      "text/plain": [
       "29995867328936021596576648631981781154205775092275198127632624983463028700793187"
      ]
     },
     "execution_count": 176,
     "metadata": {},
     "output_type": "execute_result"
    }
   ],
   "source": [
    "d = inverse_mod(e,m_schlange)\n",
    "d"
   ]
  },
  {
   "cell_type": "code",
   "execution_count": 177,
   "metadata": {},
   "outputs": [
    {
     "data": {
      "text/plain": [
       "('Morgen um 20 Uhr im Kino.',\n",
       " 30464498792877144073775125929480657191019321544018570542374640939473216161487439)"
      ]
     },
     "execution_count": 177,
     "metadata": {},
     "output_type": "execute_result"
    }
   ],
   "source": [
    "# Alice signiert eine Nachricht\n",
    "N = \"Morgen um 20 Uhr im Kino.\"\n",
    "hash = sha256(N.encode(encoding='UTF-8')).hexdigest()\n",
    "hash = int(hash,16)\n",
    "sig = power_mod(hash,d,m)\n",
    "N, sig\n"
   ]
  },
  {
   "cell_type": "code",
   "execution_count": 178,
   "metadata": {},
   "outputs": [
    {
     "data": {
      "text/plain": [
       "True"
      ]
     },
     "execution_count": 178,
     "metadata": {},
     "output_type": "execute_result"
    }
   ],
   "source": [
    "# Bob prüft, ob die Nachricht von Alice stammt\n",
    "hash = sha256(N.encode(encoding='UTF-8')).hexdigest()\n",
    "hash = int(hash,16)\n",
    "power_mod(sig,e,m) == hash"
   ]
  }
 ],
 "metadata": {
  "kernelspec": {
   "display_name": "SageMath 9.2",
   "language": "sage",
   "name": "sagemath"
  },
  "language_info": {
   "codemirror_mode": {
    "name": "ipython",
    "version": 3
   },
   "file_extension": ".py",
   "mimetype": "text/x-python",
   "name": "python",
   "nbconvert_exporter": "python",
   "pygments_lexer": "ipython3",
   "version": "3.7.7"
  }
 },
 "nbformat": 4,
 "nbformat_minor": 4
}

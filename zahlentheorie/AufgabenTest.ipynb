{
 "cells": [
  {
   "cell_type": "markdown",
   "metadata": {},
   "source": [
    "## Aufgaben"
   ]
  },
  {
   "cell_type": "code",
   "execution_count": 1,
   "metadata": {},
   "outputs": [],
   "source": [
    "import pandas as pd\n",
    "import numpy as np\n",
    "\n",
    "from sympy import *\n",
    "from sympy.solvers.diophantine import diophantine\n",
    "x, y, z = symbols(\"x, y, z\", integer=True)\n",
    "from IPython.display import display, HTML\n",
    "\n",
    "def ggT(a,b):\n",
    "    print(f'{a:6} {b:6}')  \n",
    "    while b != 0:\n",
    "        a, b = b, a% b\n",
    "        print(f'{a:6} {b:6}') \n",
    "\n",
    "\n",
    "def egcd_tab(a,b):\n",
    "    zeile = []\n",
    "    zeile.append([a,b,a//b,a%b])\n",
    "    i = 1\n",
    "\n",
    "    while a%b != 0:\n",
    "        a = zeile[i-1][1]\n",
    "        b = zeile[i-1][3]\n",
    "        zeile.append([a,b,a//b,a%b])\n",
    "        i = i+1\n",
    "\n",
    "    k = len(zeile)-1\n",
    "    zeile[k]+=[0,1]\n",
    "    k=k-1\n",
    "\n",
    "    while k >=0:\n",
    "        x = zeile[k+1][5]\n",
    "        y = zeile[k+1][4]-zeile[k][2]*zeile[k+1][5]\n",
    "        zeile[k]+=[x,y]\n",
    "        k = k-1\n",
    "    \n",
    "    df =  pd.DataFrame(zeile,columns=['a', 'b', 'q', 'r', 'x', 'y'])\n",
    "    satz = f'{df.iloc[0,4]} * {df.iloc[0,0]}  + {df.iloc[0,5]} * {df.iloc[0,1]} = {df.iloc[-1,1]}'\n",
    "    print(satz)\n",
    "    return df\n",
    "\n",
    "def egcd(a, b):\n",
    "    if a == 0:\n",
    "        return (b, 0, 1)\n",
    "    else:\n",
    "        g, y, x = egcd(b % a, a)\n",
    "        return (g, x - (b // a) * y, y)\n",
    "\n",
    "def modinv(a, m):\n",
    "    g, x, y = egcd(a, m)\n",
    "    if g != 1:\n",
    "        raise Exception('modular inverse does not exist')\n",
    "    else:\n",
    "        return x % m\n",
    "\n",
    "def ggTr(a,b):\n",
    "    while b!= 0:\n",
    "        a, b = b, a% b\n",
    "    return a\n",
    "    \n",
    "def rsa(p,q,e,n):\n",
    "    print(f'p={p}, q={q}, e={e}')\n",
    "    m = p*q\n",
    "    ms = (p-1)*(q-1)\n",
    "    print(f'RSA-Modul m={m}, m_schlange={ms}')\n",
    "    print(f'ggT von v und m_schlange ist {ggTr(e,ms)}')\n",
    "\n",
    "    d = modinv(e,ms)\n",
    "    print(f'Öffentlicher Schlüssel:  ({m},{e})')\n",
    "    print(f'Privater Schlüssel: ({m},{d})' )\n",
    "    N = (n ** e) % m\n",
    "    print(f'Nachricht: {n}')\n",
    "    print(f'Verschlüsselte Nachricht: {N}')\n",
    "    print()\n",
    "    print('Hilfsmittel:')\n",
    "    reihe(m)\n",
    "    print()\n",
    "    binaer(e)\n",
    "    print()\n",
    "    potenzen(n,m)\n",
    "    \n",
    "def reihe(m):\n",
    "    print(f'Die {m}er-Reihe')\n",
    "    for i in range(1,10):\n",
    "        print(i,i*m)\n",
    "        \n",
    "def binaer(x):\n",
    "    x1 = x\n",
    "    print(f'Binärdarstellung von {x}')\n",
    "   \n",
    "    if x == 0: return '0'\n",
    "    s = \"\"  \n",
    "    print(f'{x:4}')\n",
    "    while x != 0:\n",
    "        s = str(x%2) + s\n",
    "        print(f'{x//2:4}{x%2:4}')\n",
    "        x = x // 2\n",
    "    print(f'{x1} binär: {s}')\n",
    "    \n",
    "def potenzen(n, m):\n",
    "    print('Nützliche Potenzen')\n",
    "    for i in range(0,10):\n",
    "        pot = n**(2**i) % m\n",
    "        print(f'{i} - {n}^{2**i} mod {m} = {pot} = {pot-m}')\n",
    "\n",
    "def diffie_uebung(p,g,a,b):\n",
    "    print(f'p = {p}, g = {g}, a = {a}, b = {b}')\n",
    "    print('Berechne A, B und den gemeinsamen Schlüssel K.\\n')\n",
    "    print(f'Die {p}er-Reihe')\n",
    "    for i in range(1,11):\n",
    "        print(f'{i} * {p} = {i*p}')\n",
    "    \n",
    "    print(f'\\nPotenzen von {g}')\n",
    "    for i in range(0,10):\n",
    "        x = g**(2**i) % p\n",
    "        print(f'{i} - {g}^{2**i} mod {p} = {x} = {x-p}')\n",
    "        \n",
    "def diffie(p,g,a,b):\n",
    "    print(f'p = {p}, g = {g}, a = {a}, b = {b}')\n",
    "    A = (g ** a) % p\n",
    "    B = (g ** b) % p\n",
    "    K = (B ** a) % p\n",
    "\n",
    "    print(f'Öffentlich: A={A}, B={B}, p={p}, g={g}')\n",
    "    print(f'Gemeinsamer Schlüssel: K={K}')\n",
    "    \n",
    "\n",
    "    \n",
    "def pliste(p,g):\n",
    "    ''' die Potenzen g hoch x mod p  '''\n",
    " \n",
    "    print(f'Die Potenzen von {g} mod {p}')\n",
    "    \n",
    "    df = pd.DataFrame(columns=list(range(1,p)))\n",
    "    a = [(g ** x) % p for x in range(1,p) ]\n",
    "    df.loc[f'{g}^x mod {p}'] = a\n",
    "\n",
    "\n",
    "    display(HTML(df.to_html()))\n",
    "\n",
    "def diffie_knack(p,g,A,B):\n",
    "    print(f'p = {p}, g = {g}, A = {A}, B = {B}.')\n",
    "    print('Knacke Diffie-Hellman. Wie heißen die Geheimnisse von Alice und Bob und der gemeinsame Schlüssel K?')\n",
    "    print(f'\\nPotenzen von {g}')\n",
    "    for i in range(0,10):\n",
    "        x = g**(2**i) % p\n",
    "        print(f'{i} - {g}^{2**i} mod {p} = {x} = {x-p}')\n",
    "    print()\n",
    "    reihe(p)\n",
    "    print()\n",
    "    pliste(p,g)\n",
    "    \n",
    "def quadratzahlen():\n",
    "    tmp = \"Quadratzahlen\\n\"\n",
    "    for i in range(11,21):\n",
    "        tmp += f'{i}-{i*i} '\n",
    "    tmp +='\\n'\n",
    "    for i in range(21,31):\n",
    "        tmp += f'{i}-{i*i} '\n",
    "    return tmp  \n",
    "\n",
    "\n",
    "def rsa_uebung(p, q, e, n):\n",
    "    print(f'p = {p}, q = {q}, e = {e}, n = {n}')\n",
    "    \n",
    "    print(f'Berechne den öffentlichen Schlüssel und prüfe dessen Zulässigkeit.')\n",
    "    print(f'Berechne den privaten Schlüssel.')\n",
    "    print(f'Verschlüssele die Nachricht n und teste den privaten Schlüssel.')\n",
    "    print()\n",
    "    reihe(p*q)\n",
    "    print()\n",
    "    print(quadratzahlen())\n",
    "    \n",
    "def rsa_loesung(p,q,e,n):\n",
    "    print(f'p = {p}, q = {q}, e = {e}, n = {n}')\n",
    "    m = p * q\n",
    "    m_schlange = (p-1)*(q-1)\n",
    "    print(f'm = {m}, m_schlange = {m_schlange}')\n",
    "    print(f'ggT({e},{m_schlange}) = {ggTr(e,m_schlange)}')\n",
    "    df = egcd_tab(m_schlange,e)\n",
    "    display(HTML(df.to_html()))\n",
    "    d = modinv(e,m_schlange)\n",
    "    print(f'd = {d}')\n",
    "    print(f'oeffentlicher Schlüssel: ({m},{e})')\n",
    "    print(f'privater Schlüssel: ({m},{d})')\n",
    "    print()\n",
    "    print(f'Verschlüsselung der Nachricht: {n}')\n",
    "    print(f'\\nPotenzen von {n}')\n",
    "    for i in range(0,10):\n",
    "        x = n**(2**i) % m\n",
    "        print(f'{i} - {n}^{2**i} mod {m} = {x} = {x-m}')\n",
    "    N = (n**e) % m\n",
    "    print(f'N = {N}')\n",
    "    print()\n",
    "    print(f'Entschlüsseln der Nachricht: {N}')\n",
    "    print(f'\\nPotenzen von {N}')\n",
    "    for i in range(0,10):\n",
    "        x = N**(2**i) % m\n",
    "        print(f'{i} - {N}^{2**i} mod {m} = {x} = {x-m}')\n",
    "    n1 = (N**d) % m\n",
    "    print(f'n = {n1}')   \n",
    "    \n",
    "def reihen():\n",
    "    ''' Multiplikationsreihen für ausgewählte Zahlen '''       \n",
    "    df = pd.DataFrame(columns=range(1,16))\n",
    "    for x in sorted([13,17,23,29,31,33,77,91]):\n",
    "        df.loc[x] =  [i*x for i in range(1,16)]   \n",
    "    return df"
   ]
  },
  {
   "cell_type": "markdown",
   "metadata": {},
   "source": [
    "----\n",
    "\n",
    "#### A2"
   ]
  },
  {
   "cell_type": "code",
   "execution_count": 2,
   "metadata": {},
   "outputs": [
    {
     "name": "stdout",
     "output_type": "stream",
     "text": [
      "1 * 39  + -1 * 26 = 13\n"
     ]
    },
    {
     "data": {
      "text/html": [
       "<div>\n",
       "<style scoped>\n",
       "    .dataframe tbody tr th:only-of-type {\n",
       "        vertical-align: middle;\n",
       "    }\n",
       "\n",
       "    .dataframe tbody tr th {\n",
       "        vertical-align: top;\n",
       "    }\n",
       "\n",
       "    .dataframe thead th {\n",
       "        text-align: right;\n",
       "    }\n",
       "</style>\n",
       "<table border=\"1\" class=\"dataframe\">\n",
       "  <thead>\n",
       "    <tr style=\"text-align: right;\">\n",
       "      <th></th>\n",
       "      <th>a</th>\n",
       "      <th>b</th>\n",
       "      <th>q</th>\n",
       "      <th>r</th>\n",
       "      <th>x</th>\n",
       "      <th>y</th>\n",
       "    </tr>\n",
       "  </thead>\n",
       "  <tbody>\n",
       "    <tr>\n",
       "      <th>0</th>\n",
       "      <td>39</td>\n",
       "      <td>26</td>\n",
       "      <td>1</td>\n",
       "      <td>13</td>\n",
       "      <td>1</td>\n",
       "      <td>-1</td>\n",
       "    </tr>\n",
       "    <tr>\n",
       "      <th>1</th>\n",
       "      <td>26</td>\n",
       "      <td>13</td>\n",
       "      <td>2</td>\n",
       "      <td>0</td>\n",
       "      <td>0</td>\n",
       "      <td>1</td>\n",
       "    </tr>\n",
       "  </tbody>\n",
       "</table>\n",
       "</div>"
      ],
      "text/plain": [
       "    a   b  q   r  x  y\n",
       "0  39  26  1  13  1 -1\n",
       "1  26  13  2   0  0  1"
      ]
     },
     "execution_count": 2,
     "metadata": {},
     "output_type": "execute_result"
    }
   ],
   "source": [
    "# a.\n",
    "egcd_tab(39,26)"
   ]
  },
  {
   "cell_type": "code",
   "execution_count": 8,
   "metadata": {},
   "outputs": [
    {
     "name": "stdout",
     "output_type": "stream",
     "text": [
      "17 * 753  + -200 * 64 = 1\n"
     ]
    },
    {
     "data": {
      "text/html": [
       "<div>\n",
       "<style scoped>\n",
       "    .dataframe tbody tr th:only-of-type {\n",
       "        vertical-align: middle;\n",
       "    }\n",
       "\n",
       "    .dataframe tbody tr th {\n",
       "        vertical-align: top;\n",
       "    }\n",
       "\n",
       "    .dataframe thead th {\n",
       "        text-align: right;\n",
       "    }\n",
       "</style>\n",
       "<table border=\"1\" class=\"dataframe\">\n",
       "  <thead>\n",
       "    <tr style=\"text-align: right;\">\n",
       "      <th></th>\n",
       "      <th>a</th>\n",
       "      <th>b</th>\n",
       "      <th>q</th>\n",
       "      <th>r</th>\n",
       "      <th>x</th>\n",
       "      <th>y</th>\n",
       "    </tr>\n",
       "  </thead>\n",
       "  <tbody>\n",
       "    <tr>\n",
       "      <th>0</th>\n",
       "      <td>753</td>\n",
       "      <td>64</td>\n",
       "      <td>11</td>\n",
       "      <td>49</td>\n",
       "      <td>17</td>\n",
       "      <td>-200</td>\n",
       "    </tr>\n",
       "    <tr>\n",
       "      <th>1</th>\n",
       "      <td>64</td>\n",
       "      <td>49</td>\n",
       "      <td>1</td>\n",
       "      <td>15</td>\n",
       "      <td>-13</td>\n",
       "      <td>17</td>\n",
       "    </tr>\n",
       "    <tr>\n",
       "      <th>2</th>\n",
       "      <td>49</td>\n",
       "      <td>15</td>\n",
       "      <td>3</td>\n",
       "      <td>4</td>\n",
       "      <td>4</td>\n",
       "      <td>-13</td>\n",
       "    </tr>\n",
       "    <tr>\n",
       "      <th>3</th>\n",
       "      <td>15</td>\n",
       "      <td>4</td>\n",
       "      <td>3</td>\n",
       "      <td>3</td>\n",
       "      <td>-1</td>\n",
       "      <td>4</td>\n",
       "    </tr>\n",
       "    <tr>\n",
       "      <th>4</th>\n",
       "      <td>4</td>\n",
       "      <td>3</td>\n",
       "      <td>1</td>\n",
       "      <td>1</td>\n",
       "      <td>1</td>\n",
       "      <td>-1</td>\n",
       "    </tr>\n",
       "    <tr>\n",
       "      <th>5</th>\n",
       "      <td>3</td>\n",
       "      <td>1</td>\n",
       "      <td>3</td>\n",
       "      <td>0</td>\n",
       "      <td>0</td>\n",
       "      <td>1</td>\n",
       "    </tr>\n",
       "  </tbody>\n",
       "</table>\n",
       "</div>"
      ],
      "text/plain": [
       "     a   b   q   r   x    y\n",
       "0  753  64  11  49  17 -200\n",
       "1   64  49   1  15 -13   17\n",
       "2   49  15   3   4   4  -13\n",
       "3   15   4   3   3  -1    4\n",
       "4    4   3   1   1   1   -1\n",
       "5    3   1   3   0   0    1"
      ]
     },
     "execution_count": 8,
     "metadata": {},
     "output_type": "execute_result"
    }
   ],
   "source": [
    "# b.\n",
    "egcd_tab(753,64)"
   ]
  },
  {
   "cell_type": "code",
   "execution_count": null,
   "metadata": {},
   "outputs": [],
   "source": []
  },
  {
   "cell_type": "markdown",
   "metadata": {},
   "source": [
    "------\n",
    "#### A3"
   ]
  },
  {
   "cell_type": "code",
   "execution_count": 9,
   "metadata": {},
   "outputs": [
    {
     "name": "stdout",
     "output_type": "stream",
     "text": [
      "-2 * 96  + 3 * 66 = 6\n"
     ]
    },
    {
     "data": {
      "text/html": [
       "<div>\n",
       "<style scoped>\n",
       "    .dataframe tbody tr th:only-of-type {\n",
       "        vertical-align: middle;\n",
       "    }\n",
       "\n",
       "    .dataframe tbody tr th {\n",
       "        vertical-align: top;\n",
       "    }\n",
       "\n",
       "    .dataframe thead th {\n",
       "        text-align: right;\n",
       "    }\n",
       "</style>\n",
       "<table border=\"1\" class=\"dataframe\">\n",
       "  <thead>\n",
       "    <tr style=\"text-align: right;\">\n",
       "      <th></th>\n",
       "      <th>a</th>\n",
       "      <th>b</th>\n",
       "      <th>q</th>\n",
       "      <th>r</th>\n",
       "      <th>x</th>\n",
       "      <th>y</th>\n",
       "    </tr>\n",
       "  </thead>\n",
       "  <tbody>\n",
       "    <tr>\n",
       "      <th>0</th>\n",
       "      <td>96</td>\n",
       "      <td>66</td>\n",
       "      <td>1</td>\n",
       "      <td>30</td>\n",
       "      <td>-2</td>\n",
       "      <td>3</td>\n",
       "    </tr>\n",
       "    <tr>\n",
       "      <th>1</th>\n",
       "      <td>66</td>\n",
       "      <td>30</td>\n",
       "      <td>2</td>\n",
       "      <td>6</td>\n",
       "      <td>1</td>\n",
       "      <td>-2</td>\n",
       "    </tr>\n",
       "    <tr>\n",
       "      <th>2</th>\n",
       "      <td>30</td>\n",
       "      <td>6</td>\n",
       "      <td>5</td>\n",
       "      <td>0</td>\n",
       "      <td>0</td>\n",
       "      <td>1</td>\n",
       "    </tr>\n",
       "  </tbody>\n",
       "</table>\n",
       "</div>"
      ],
      "text/plain": [
       "    a   b  q   r  x  y\n",
       "0  96  66  1  30 -2  3\n",
       "1  66  30  2   6  1 -2\n",
       "2  30   6  5   0  0  1"
      ]
     },
     "execution_count": 9,
     "metadata": {},
     "output_type": "execute_result"
    }
   ],
   "source": [
    "# a.\n",
    "egcd_tab(96,66)\n"
   ]
  },
  {
   "cell_type": "code",
   "execution_count": 10,
   "metadata": {},
   "outputs": [
    {
     "name": "stdout",
     "output_type": "stream",
     "text": [
      "-6 * 119  + 5 * 143 = 1\n"
     ]
    },
    {
     "data": {
      "text/html": [
       "<div>\n",
       "<style scoped>\n",
       "    .dataframe tbody tr th:only-of-type {\n",
       "        vertical-align: middle;\n",
       "    }\n",
       "\n",
       "    .dataframe tbody tr th {\n",
       "        vertical-align: top;\n",
       "    }\n",
       "\n",
       "    .dataframe thead th {\n",
       "        text-align: right;\n",
       "    }\n",
       "</style>\n",
       "<table border=\"1\" class=\"dataframe\">\n",
       "  <thead>\n",
       "    <tr style=\"text-align: right;\">\n",
       "      <th></th>\n",
       "      <th>a</th>\n",
       "      <th>b</th>\n",
       "      <th>q</th>\n",
       "      <th>r</th>\n",
       "      <th>x</th>\n",
       "      <th>y</th>\n",
       "    </tr>\n",
       "  </thead>\n",
       "  <tbody>\n",
       "    <tr>\n",
       "      <th>0</th>\n",
       "      <td>119</td>\n",
       "      <td>143</td>\n",
       "      <td>0</td>\n",
       "      <td>119</td>\n",
       "      <td>-6</td>\n",
       "      <td>5</td>\n",
       "    </tr>\n",
       "    <tr>\n",
       "      <th>1</th>\n",
       "      <td>143</td>\n",
       "      <td>119</td>\n",
       "      <td>1</td>\n",
       "      <td>24</td>\n",
       "      <td>5</td>\n",
       "      <td>-6</td>\n",
       "    </tr>\n",
       "    <tr>\n",
       "      <th>2</th>\n",
       "      <td>119</td>\n",
       "      <td>24</td>\n",
       "      <td>4</td>\n",
       "      <td>23</td>\n",
       "      <td>-1</td>\n",
       "      <td>5</td>\n",
       "    </tr>\n",
       "    <tr>\n",
       "      <th>3</th>\n",
       "      <td>24</td>\n",
       "      <td>23</td>\n",
       "      <td>1</td>\n",
       "      <td>1</td>\n",
       "      <td>1</td>\n",
       "      <td>-1</td>\n",
       "    </tr>\n",
       "    <tr>\n",
       "      <th>4</th>\n",
       "      <td>23</td>\n",
       "      <td>1</td>\n",
       "      <td>23</td>\n",
       "      <td>0</td>\n",
       "      <td>0</td>\n",
       "      <td>1</td>\n",
       "    </tr>\n",
       "  </tbody>\n",
       "</table>\n",
       "</div>"
      ],
      "text/plain": [
       "     a    b   q    r  x  y\n",
       "0  119  143   0  119 -6  5\n",
       "1  143  119   1   24  5 -6\n",
       "2  119   24   4   23 -1  5\n",
       "3   24   23   1    1  1 -1\n",
       "4   23    1  23    0  0  1"
      ]
     },
     "execution_count": 10,
     "metadata": {},
     "output_type": "execute_result"
    }
   ],
   "source": [
    "# c.\n",
    "egcd_tab(119,143)"
   ]
  },
  {
   "cell_type": "markdown",
   "metadata": {},
   "source": [
    "----\n",
    "\n",
    "#### A4"
   ]
  },
  {
   "cell_type": "code",
   "execution_count": 11,
   "metadata": {},
   "outputs": [
    {
     "data": {
      "text/plain": [
       "{(3*t_0 + 2, -t_0)}"
      ]
     },
     "execution_count": 11,
     "metadata": {},
     "output_type": "execute_result"
    }
   ],
   "source": [
    "# a.\n",
    "diophantine(42*x + 126*y - 84)"
   ]
  },
  {
   "cell_type": "code",
   "execution_count": 12,
   "metadata": {},
   "outputs": [
    {
     "data": {
      "text/plain": [
       "{(2*t_0 + 1, -3*t_0 - 1)}"
      ]
     },
     "execution_count": 12,
     "metadata": {},
     "output_type": "execute_result"
    }
   ],
   "source": [
    "# b.\n",
    "diophantine(81*x + 54*y - 27)"
   ]
  },
  {
   "cell_type": "code",
   "execution_count": 13,
   "metadata": {},
   "outputs": [
    {
     "data": {
      "text/plain": [
       "{(11*t_0 - 12, 8 - 7*t_0)}"
      ]
     },
     "execution_count": 13,
     "metadata": {},
     "output_type": "execute_result"
    }
   ],
   "source": [
    "# c.\n",
    "diophantine(77*x + 121*y - 44)"
   ]
  },
  {
   "cell_type": "markdown",
   "metadata": {},
   "source": [
    "----\n",
    "\n",
    "#### A5"
   ]
  },
  {
   "cell_type": "code",
   "execution_count": 15,
   "metadata": {},
   "outputs": [
    {
     "data": {
      "text/plain": [
       "([7*k - 3], {(t_0, 7*t_0 - 3)})"
      ]
     },
     "execution_count": 15,
     "metadata": {},
     "output_type": "execute_result"
    }
   ],
   "source": [
    "\n",
    "k = symbols(\"k\", integer=True)\n",
    "# a\n",
    "solve(3 + x - 7*k, x), diophantine(3 + x - 7*k) "
   ]
  },
  {
   "cell_type": "code",
   "execution_count": 16,
   "metadata": {},
   "outputs": [
    {
     "data": {
      "text/plain": [
       "{(5*t_0 + 4, 7*t_0 + 6)}"
      ]
     },
     "execution_count": 16,
     "metadata": {},
     "output_type": "execute_result"
    }
   ],
   "source": [
    "# b\n",
    "diophantine(5*x - 2 - 7*k)    # In der Lösung wird in alphabetischer Reihenfolge ausgegeben"
   ]
  },
  {
   "cell_type": "code",
   "execution_count": 17,
   "metadata": {},
   "outputs": [
    {
     "data": {
      "text/plain": [
       "set()"
      ]
     },
     "execution_count": 17,
     "metadata": {},
     "output_type": "execute_result"
    }
   ],
   "source": [
    "# c\n",
    "diophantine(5*x - 10*k -2 )   # Lösung: leere Menge"
   ]
  },
  {
   "cell_type": "code",
   "execution_count": 18,
   "metadata": {},
   "outputs": [
    {
     "data": {
      "text/plain": [
       "{(t_0, 5*t_0 - 34)}"
      ]
     },
     "execution_count": 18,
     "metadata": {},
     "output_type": "execute_result"
    }
   ],
   "source": [
    "# d\n",
    "diophantine(x+34-k*5) "
   ]
  },
  {
   "cell_type": "markdown",
   "metadata": {},
   "source": [
    "----- \n",
    "\n",
    "#### A7"
   ]
  },
  {
   "cell_type": "code",
   "execution_count": null,
   "metadata": {},
   "outputs": [],
   "source": [
    "# .a\n",
    "egcd_tab(37,33)"
   ]
  },
  {
   "cell_type": "code",
   "execution_count": null,
   "metadata": {},
   "outputs": [],
   "source": [
    "(9 * 5) % 37"
   ]
  },
  {
   "cell_type": "code",
   "execution_count": null,
   "metadata": {},
   "outputs": [],
   "source": [
    "# .b\n",
    "egcd_tab(89,20)"
   ]
  },
  {
   "cell_type": "code",
   "execution_count": null,
   "metadata": {},
   "outputs": [],
   "source": [
    "(-40 * 7) % 89"
   ]
  },
  {
   "cell_type": "markdown",
   "metadata": {},
   "source": [
    "----\n",
    "\n",
    "#### A8"
   ]
  },
  {
   "cell_type": "code",
   "execution_count": null,
   "metadata": {},
   "outputs": [],
   "source": [
    "# a.\n",
    "modinv(4**11,13) "
   ]
  },
  {
   "cell_type": "code",
   "execution_count": null,
   "metadata": {},
   "outputs": [],
   "source": [
    "# b.\n",
    "(6 ** 31) % 29"
   ]
  },
  {
   "cell_type": "code",
   "execution_count": null,
   "metadata": {},
   "outputs": [],
   "source": [
    "# c.\n",
    "(6 ** 32) % 29"
   ]
  },
  {
   "cell_type": "markdown",
   "metadata": {},
   "source": [
    "-----\n",
    "\n",
    "#### A9"
   ]
  },
  {
   "cell_type": "code",
   "execution_count": null,
   "metadata": {},
   "outputs": [],
   "source": [
    "# a.\n",
    "modinv(5**21, 23) "
   ]
  },
  {
   "cell_type": "code",
   "execution_count": null,
   "metadata": {},
   "outputs": [],
   "source": [
    "# b.\n",
    "modinv(10**13, 23)"
   ]
  },
  {
   "cell_type": "code",
   "execution_count": null,
   "metadata": {},
   "outputs": [],
   "source": [
    "# c.\n",
    "(7 * modinv(10 ** 12, 23)) % 23"
   ]
  },
  {
   "cell_type": "code",
   "execution_count": null,
   "metadata": {},
   "outputs": [],
   "source": [
    "# d.\n",
    "(7 * modinv(22,23)) % 23"
   ]
  },
  {
   "cell_type": "markdown",
   "metadata": {},
   "source": [
    "-----\n",
    "\n",
    "#### A10"
   ]
  },
  {
   "cell_type": "code",
   "execution_count": null,
   "metadata": {},
   "outputs": [],
   "source": [
    "# a.\n",
    "diffie(7,3,3,4)"
   ]
  },
  {
   "cell_type": "code",
   "execution_count": null,
   "metadata": {},
   "outputs": [],
   "source": [
    "# b.\n",
    "diffie(23,7,15,17)"
   ]
  },
  {
   "cell_type": "markdown",
   "metadata": {},
   "source": [
    "------\n",
    "\n",
    "#### A12"
   ]
  },
  {
   "cell_type": "code",
   "execution_count": null,
   "metadata": {},
   "outputs": [],
   "source": [
    "rsa(3,11,7,6)"
   ]
  },
  {
   "cell_type": "code",
   "execution_count": null,
   "metadata": {},
   "outputs": [],
   "source": [
    "rsa(7,11,47,2)"
   ]
  },
  {
   "cell_type": "markdown",
   "metadata": {},
   "source": [
    "### Weitere Übungen"
   ]
  },
  {
   "cell_type": "code",
   "execution_count": null,
   "metadata": {},
   "outputs": [],
   "source": [
    "# Diffie-Hellman 1\n",
    "p, g, a, b = 23, 11, 5, 10\n",
    "diffie_uebung(p,g,a,b)"
   ]
  },
  {
   "cell_type": "code",
   "execution_count": null,
   "metadata": {},
   "outputs": [],
   "source": [
    "diffie(p,b,a,b)"
   ]
  },
  {
   "cell_type": "code",
   "execution_count": null,
   "metadata": {},
   "outputs": [],
   "source": [
    "# Diffie-Hellman 2\n",
    "p, g, a, b = 29, 13, 12, 9\n",
    "diffie_uebung(p,g,a,b)"
   ]
  },
  {
   "cell_type": "code",
   "execution_count": null,
   "metadata": {},
   "outputs": [],
   "source": [
    "diffie(p,g,a,b)"
   ]
  },
  {
   "cell_type": "code",
   "execution_count": null,
   "metadata": {},
   "outputs": [],
   "source": [
    "# Diffie-Hellman 3\n",
    "p, g, a, b = 31, 11, 17, 22\n",
    "diffie_uebung(p,g,a,b)"
   ]
  },
  {
   "cell_type": "code",
   "execution_count": null,
   "metadata": {},
   "outputs": [],
   "source": [
    "diffie(p,g,a,b)"
   ]
  },
  {
   "cell_type": "code",
   "execution_count": null,
   "metadata": {},
   "outputs": [],
   "source": [
    "p, g, A, B = 11, 2, 5, 8\n",
    "diffie_knack(p,g,A,B)\n",
    " "
   ]
  },
  {
   "cell_type": "code",
   "execution_count": null,
   "metadata": {},
   "outputs": [],
   "source": [
    "diffie(11,2,4,3)"
   ]
  },
  {
   "cell_type": "code",
   "execution_count": null,
   "metadata": {},
   "outputs": [],
   "source": [
    "# Diffie-Hellman knacken 2\n",
    "p, g, A, B = 17, 7, 11, 13\n",
    "diffie_knack(p,g,A,B)"
   ]
  },
  {
   "cell_type": "code",
   "execution_count": null,
   "metadata": {},
   "outputs": [],
   "source": [
    "diffie(p,g,5,12)"
   ]
  },
  {
   "cell_type": "code",
   "execution_count": null,
   "metadata": {},
   "outputs": [],
   "source": []
  },
  {
   "cell_type": "code",
   "execution_count": null,
   "metadata": {},
   "outputs": [],
   "source": [
    "# rsa_1\n",
    "rsa_uebung(7,13,11,10)"
   ]
  },
  {
   "cell_type": "code",
   "execution_count": null,
   "metadata": {},
   "outputs": [],
   "source": [
    "rsa_loesung(7,13,11,10)"
   ]
  },
  {
   "cell_type": "code",
   "execution_count": null,
   "metadata": {},
   "outputs": [],
   "source": [
    "# rsa_2\n",
    "p, q, e, n = 3, 11, 7, 6\n",
    "rsa_uebung(p,q,e,n)"
   ]
  },
  {
   "cell_type": "code",
   "execution_count": null,
   "metadata": {},
   "outputs": [],
   "source": [
    "rsa_loesung(p,q,e,n)"
   ]
  },
  {
   "cell_type": "code",
   "execution_count": null,
   "metadata": {},
   "outputs": [],
   "source": [
    "# rsa_3\n",
    "p, q, e, n = 7, 11, 47, 2\n",
    "rsa_uebung(p,q,e,n)"
   ]
  },
  {
   "cell_type": "code",
   "execution_count": null,
   "metadata": {},
   "outputs": [],
   "source": [
    "rsa_loesung(p,q,e,n)"
   ]
  },
  {
   "cell_type": "code",
   "execution_count": null,
   "metadata": {},
   "outputs": [],
   "source": [
    "reihen()"
   ]
  },
  {
   "cell_type": "code",
   "execution_count": null,
   "metadata": {},
   "outputs": [],
   "source": [
    "pliste(13,6)"
   ]
  },
  {
   "cell_type": "code",
   "execution_count": null,
   "metadata": {},
   "outputs": [],
   "source": []
  }
 ],
 "metadata": {
  "kernelspec": {
   "display_name": "Python 3",
   "language": "python",
   "name": "python3"
  },
  "language_info": {
   "codemirror_mode": {
    "name": "ipython",
    "version": 3
   },
   "file_extension": ".py",
   "mimetype": "text/x-python",
   "name": "python",
   "nbconvert_exporter": "python",
   "pygments_lexer": "ipython3",
   "version": "3.8.5"
  }
 },
 "nbformat": 4,
 "nbformat_minor": 4
}

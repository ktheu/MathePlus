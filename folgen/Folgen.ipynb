{
 "cells": [
  {
   "cell_type": "code",
   "execution_count": 11,
   "metadata": {},
   "outputs": [],
   "source": [
    "def a(n):\n",
    "    if n <= 2:\n",
    "        return 1\n",
    "    else:\n",
    "        return a(n-1)+a(n-2)+a(n-3)\n",
    "    \n",
    "def b(n):\n",
    "    return a(n+1)/a(n)"
   ]
  },
  {
   "cell_type": "code",
   "execution_count": 15,
   "metadata": {},
   "outputs": [
    {
     "name": "stdout",
     "output_type": "stream",
     "text": [
      "1.00000000000000\n",
      "1.00000000000000\n",
      "3.00000000000000\n",
      "1.66666666666667\n",
      "1.80000000000000\n",
      "1.88888888888889\n",
      "1.82352941176471\n",
      "1.83870967741935\n",
      "1.84210526315789\n",
      "1.83809523809524\n",
      "1.83937823834197\n",
      "1.83943661971831\n",
      "1.83920367534456\n",
      "1.83930058284763\n",
      "1.83929379809869\n",
      "1.83928131922225\n",
      "1.83928810384049\n",
      "1.83928701345944\n",
      "1.83928642063210\n",
      "1.83928686638422\n"
     ]
    }
   ],
   "source": [
    "for i in range(20):\n",
    "    #print(f'b({i}) = {n(b(i))}')\n",
    "    print(n(b(i)))"
   ]
  },
  {
   "cell_type": "code",
   "execution_count": 20,
   "metadata": {},
   "outputs": [],
   "source": [
    "def a(k):\n",
    "    return n((6*k+2)/(3*k+3))"
   ]
  },
  {
   "cell_type": "code",
   "execution_count": 23,
   "metadata": {},
   "outputs": [
    {
     "data": {
      "text/plain": [
       "1.99999866666800"
      ]
     },
     "execution_count": 23,
     "metadata": {},
     "output_type": "execute_result"
    }
   ],
   "source": [
    "a(1000000)"
   ]
  },
  {
   "cell_type": "code",
   "execution_count": 24,
   "metadata": {},
   "outputs": [
    {
     "data": {
      "text/plain": [
       "6002.00000000000"
      ]
     },
     "execution_count": 24,
     "metadata": {},
     "output_type": "execute_result"
    }
   ],
   "source": [
    " "
   ]
  },
  {
   "cell_type": "code",
   "execution_count": null,
   "metadata": {},
   "outputs": [],
   "source": []
  }
 ],
 "metadata": {
  "kernelspec": {
   "display_name": "SageMath 9.2",
   "language": "sage",
   "name": "sagemath"
  },
  "language_info": {
   "codemirror_mode": {
    "name": "ipython",
    "version": 3
   },
   "file_extension": ".py",
   "mimetype": "text/x-python",
   "name": "python",
   "nbconvert_exporter": "python",
   "pygments_lexer": "ipython3",
   "version": "3.7.7"
  }
 },
 "nbformat": 4,
 "nbformat_minor": 4
}

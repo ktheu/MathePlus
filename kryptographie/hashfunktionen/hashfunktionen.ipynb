{
 "cells": [
  {
   "cell_type": "markdown",
   "metadata": {},
   "source": [
    "## Kryptographische Hashfunktionen\n",
    "\n"
   ]
  },
  {
   "cell_type": "code",
   "execution_count": 1,
   "metadata": {},
   "outputs": [
    {
     "data": {
      "text/plain": [
       "'031edd7d41651593c5fe5c006fa5752b37fddff7bc4e843aa6af0c950f4b9406'"
      ]
     },
     "execution_count": 1,
     "metadata": {},
     "output_type": "execute_result"
    }
   ],
   "source": [
    "from hashlib import sha256 \n",
    "hash = sha256(b\"Nobody inspects the spammish repetition\").hexdigest()\n",
    "hash"
   ]
  },
  {
   "cell_type": "code",
   "execution_count": null,
   "metadata": {},
   "outputs": [],
   "source": []
  },
  {
   "cell_type": "code",
   "execution_count": 2,
   "metadata": {},
   "outputs": [
    {
     "data": {
      "text/plain": [
       "64"
      ]
     },
     "execution_count": 2,
     "metadata": {},
     "output_type": "execute_result"
    }
   ],
   "source": [
    "len(hash)     # anzahl hex-zeichen für den hash"
   ]
  },
  {
   "cell_type": "code",
   "execution_count": 3,
   "metadata": {},
   "outputs": [
    {
     "data": {
      "text/plain": [
       "1411472620516007425250719682026719402032997015208023145599321643038070772742"
      ]
     },
     "execution_count": 3,
     "metadata": {},
     "output_type": "execute_result"
    }
   ],
   "source": [
    "int(hash,16)  # uwandeln in eine ganze Zahl"
   ]
  },
  {
   "cell_type": "code",
   "execution_count": 4,
   "metadata": {},
   "outputs": [
    {
     "data": {
      "text/plain": [
       "'0b1100011110110111010111110101000001011001010001010110010011110001011111111001011100000000000110111110100101011101010010101100110111111111011101111111110111101111000100111010000100001110101010011010101111000011001001010100001111010010111001010000000110'"
      ]
     },
     "execution_count": 4,
     "metadata": {},
     "output_type": "execute_result"
    }
   ],
   "source": [
    "bin(int(hash,16))      # umwandeln in einen String, der die Binärzahl darstellt"
   ]
  },
  {
   "cell_type": "code",
   "execution_count": 5,
   "metadata": {},
   "outputs": [
    {
     "data": {
      "text/plain": [
       "'1100011110110111010111110101000001011001010001010110010011110001011111111001011100000000000110111110100101011101010010101100110111111111011101111111110111101111000100111010000100001110101010011010101111000011001001010100001111010010111001010000000110'"
      ]
     },
     "execution_count": 5,
     "metadata": {},
     "output_type": "execute_result"
    }
   ],
   "source": [
    "bin(int(hash,16))[2:]  # entfernen des 0b am anfang"
   ]
  },
  {
   "cell_type": "code",
   "execution_count": 6,
   "metadata": {},
   "outputs": [
    {
     "data": {
      "text/plain": [
       "'0000001100011110110111010111110101000001011001010001010110010011110001011111111001011100000000000110111110100101011101010010101100110111111111011101111111110111101111000100111010000100001110101010011010101111000011001001010100001111010010111001010000000110'"
      ]
     },
     "execution_count": 6,
     "metadata": {},
     "output_type": "execute_result"
    }
   ],
   "source": [
    "bin(int(hash,16))[2:].zfill(256)   # links mit nullen auffüllen"
   ]
  },
  {
   "cell_type": "raw",
   "metadata": {},
   "source": [
    "Wir sehen, dass die Bitfolge mit 031E beginnt, wie der Hexcode."
   ]
  },
  {
   "cell_type": "code",
   "execution_count": 7,
   "metadata": {},
   "outputs": [],
   "source": [
    "def sha256bin(s):\n",
    "    by = s.encode(encoding='UTF-8')\n",
    "    h = sha256(by).hexdigest()\n",
    "    bi = bin(int(h,16))[2:].zfill(len(h)*4)\n",
    "    return bi"
   ]
  },
  {
   "cell_type": "code",
   "execution_count": 8,
   "metadata": {},
   "outputs": [
    {
     "data": {
      "text/plain": [
       "'0000001100011110110111010111110101000001011001010001010110010011110001011111111001011100000000000110111110100101011101010010101100110111111111011101111111110111101111000100111010000100001110101010011010101111000011001001010100001111010010111001010000000110'"
      ]
     },
     "execution_count": 8,
     "metadata": {},
     "output_type": "execute_result"
    }
   ],
   "source": [
    "s = \"Nobody inspects the spammish repetition\"\n",
    "sha256bin(s)"
   ]
  },
  {
   "cell_type": "code",
   "execution_count": 17,
   "metadata": {},
   "outputs": [],
   "source": [
    "def vergleich(s1, s2):\n",
    "    by1 = s1.encode(encoding='UTF-8')\n",
    "    by2 = s2.encode(encoding='UTF-8')\n",
    "    h1 = sha256(by1).hexdigest()\n",
    "    h2 = sha256(by2).hexdigest()\n",
    "    bin1 = bin(int(h1,16))[2:].zfill(len(h1)*4)\n",
    "    bin2 = bin(int(h2,16))[2:].zfill(len(h2)*4)\n",
    "    print(bin1)\n",
    "    print(bin2)\n",
    "    gleich = sum(a!=b for a,b in zip(bin1,bin2))\n",
    "    print(f'Anzahl ungleicher Bits = {gleich}, das sind {gleich/256*100:.1f} Prozent')\n",
    "    "
   ]
  },
  {
   "cell_type": "code",
   "execution_count": 18,
   "metadata": {},
   "outputs": [
    {
     "name": "stdout",
     "output_type": "stream",
     "text": [
      "0010110100101101101000011001011000000101101000110100111000000011011111011011111010000010000101110011111110011000101010011001001010100101001100001010010111111101110101010011110110101101100010000010111101010111000011010100101110100010000001001110111100110000\n",
      "1111101000110011011000011100001000011110110001111110001111110111001011001100010110100001101000111100000000010101011110100111000111100001000000111001101111100100101001111010101000110101111000111010100111000101001011000001011001000000011110011100110111011101\n",
      "Anzahl ungleicher Bits = 132, das sind 51.6 Prozent\n"
     ]
    }
   ],
   "source": [
    "vergleich('Hallo Welt', 'Hello Welt')"
   ]
  },
  {
   "cell_type": "code",
   "execution_count": 93,
   "metadata": {},
   "outputs": [
    {
     "name": "stdout",
     "output_type": "stream",
     "text": [
      "0010100011001011101111000111001011010110101001010010011000010111101001111010101110111111111111110110011101010110110100000100101110111010110100000001000001101010\n",
      "1010101001010100101010011001000101001110111110011101110100010011110110111011110110101010001001101111000101111001000101111111111101001100101100010011100100101100\n"
     ]
    },
    {
     "data": {
      "text/plain": [
       "80"
      ]
     },
     "execution_count": 93,
     "metadata": {},
     "output_type": "execute_result"
    }
   ],
   "source": [
    "s1 = \"Hallo Welt\"\n",
    "s2 = \"Hello Welt\"\n",
    "by1 = s1.encode(encoding='UTF-8')\n",
    "by2 = s2.encode(encoding='UTF-8')\n",
    "h1 = sha1(by1).hexdigest()\n",
    "h2 = sha1(by2).hexdigest()\n",
    "bin1 = bin(int(h1,16))[2:].zfill(len(h1)*4)\n",
    "bin2 = bin(int(h2,16))[2:].zfill(len(h2)*4)\n",
    "print(bin1)\n",
    "print(bin2)\n",
    "sum(a==b for a,b in zip(bin1,bin2))    # Anzahl Übereinstimmungen"
   ]
  },
  {
   "cell_type": "code",
   "execution_count": 27,
   "metadata": {},
   "outputs": [
    {
     "name": "stdout",
     "output_type": "stream",
     "text": [
      "1011111111000000110011011011100000100011010001110010001100101010001010011111011000111010011011000101010000100010000111010100001100100101110101001010110100101111110011101100101101110001010110010100000100101111101010110010000100110101101000101111110100111010\n",
      "1011111111101110110010111001101010010010000101000101111001100000101110100000111100001011000010110110001110100000001010101100011110111011000111010011001001001101001001110001111011000000000001011001001010010000110001000010101010001111010000101101011000001001\n",
      "Anzahl ungleicher Bits = 130, das sind 50.8 Prozent\n"
     ]
    }
   ],
   "source": [
    "# Die Datei faust1.txt hat 7005 Zeilen und besteht aus 199487 Zeichen\n",
    "# In Faust1-Copy.txt ist in Zeile 3220 ein Punkt durch einen Strichpunkt ersetzt.\n",
    "\n",
    "f1=open('faust1.txt',encoding='UTF-8')\n",
    "f2=open('faust1-Copy.txt',encoding='UTF-8') \n",
    "s1 = f1.read()\n",
    "s2 = f2.read()\n",
    "vergleich(s1,s2) \n",
    "f1.close()\n",
    "f2.close()"
   ]
  },
  {
   "cell_type": "code",
   "execution_count": 22,
   "metadata": {},
   "outputs": [],
   "source": [
    "#print(s1)"
   ]
  },
  {
   "cell_type": "code",
   "execution_count": 1,
   "metadata": {},
   "outputs": [
    {
     "name": "stdout",
     "output_type": "stream",
     "text": [
      "3\n"
     ]
    }
   ],
   "source": [
    "s = 'a    b    c'\n",
    "print(len(s.split()))"
   ]
  },
  {
   "cell_type": "code",
   "execution_count": 2,
   "metadata": {},
   "outputs": [],
   "source": [
    "s = 'afdas111111dafafads'\n",
    "s1 = s.replace('1','9',1)"
   ]
  },
  {
   "cell_type": "code",
   "execution_count": 3,
   "metadata": {},
   "outputs": [
    {
     "data": {
      "text/plain": [
       "'afdas911111dafafads'"
      ]
     },
     "execution_count": 3,
     "metadata": {},
     "output_type": "execute_result"
    }
   ],
   "source": [
    "s1"
   ]
  },
  {
   "cell_type": "code",
   "execution_count": null,
   "metadata": {},
   "outputs": [],
   "source": []
  }
 ],
 "metadata": {
  "kernelspec": {
   "display_name": "Python 3",
   "language": "python",
   "name": "python3"
  },
  "language_info": {
   "codemirror_mode": {
    "name": "ipython",
    "version": 3
   },
   "file_extension": ".py",
   "mimetype": "text/x-python",
   "name": "python",
   "nbconvert_exporter": "python",
   "pygments_lexer": "ipython3",
   "version": "3.8.5"
  }
 },
 "nbformat": 4,
 "nbformat_minor": 5
}

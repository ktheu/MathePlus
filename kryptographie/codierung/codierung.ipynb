{
 "cells": [
  {
   "cell_type": "markdown",
   "metadata": {},
   "source": [
    "## Codierung"
   ]
  },
  {
   "cell_type": "markdown",
   "metadata": {},
   "source": [
    "[Binärdarstellung](https://www.inf-schule.de/information/darstellunginformation/binaerdarstellungzahlen/konzept_dualsystem)\n",
    "\n",
    "[Hexadezimaldarstellung](https://www.inf-schule.de/information/darstellunginformation/binaerdarstellungzahlen/konzept_hexadezimalsystem)"
   ]
  },
  {
   "cell_type": "markdown",
   "metadata": {},
   "source": [
    "#### Stellenwertsysteme\n",
    "\n",
    "Dezimalzahlen: 10 Ziffern: $0,1,2, ... 9$ - Beispiel: $4719$  \n",
    "Dualzahlen:  2 Ziffern: $0,1$ - Beispiel: $10010$  \n",
    "Oktalzahlen: 8 Ziffern: $0,1,2, ... 7$ - Beispiel: $273$  \n",
    "Hexadezimalzahlen: 16 Ziffern: $0,1,2, ... 9, A, B, C, D, E, F$- Beispiel: $E52F$\n",
    "\n",
    "In einem Stellenwertsystem haben die Ziffern unterschiedliche Bedeutung, je nachdem an welcher Stelle sie stehen.\n",
    "\n",
    "$(4719)_{10} =   9 \\cdot 10^0 + 1 \\cdot 10^1 + 7 \\cdot 10^2 + 4 \\cdot 10^3$  <br>\n",
    "$(273)_{8} =  3 \\cdot 8^0 + 7 \\cdot 8^1 + 2 \\cdot 8^2 = (187)_{10}$  <br>\n",
    "$(10010)_{2} =   0 \\cdot 2^0 + 1 \\cdot 2^1 + 0 \\cdot 2^2 + 0 \\cdot 2^3 + 1 \\cdot 2^4 = (18)_{10}$   <br>\n",
    "$(E52F)_{16} =  15 \\cdot 16^0 + 2 \\cdot 16^1 + 5 \\cdot 16^2 + 14 \\cdot 16^3 = (58671)_{10}$"
   ]
  },
  {
   "cell_type": "markdown",
   "metadata": {},
   "source": [
    "#### Umrechnung Dezimal - Binär\n",
    "\n",
    "Die rechte Ziffer in der Binärdarstellung einer Zahl wegstreichen bedeutet: die Zahl ganzzahlig durch 2 teilen.\n",
    "\n",
    "$10110 / 2   =  ( 1 \\cdot 2^4 +  0 \\cdot 2^3 + 1 \\cdot 2^2 + 1 \\cdot 2^1 + 0 \\cdot 2^0 ) / 2 =\n",
    "(1 \\cdot 2^3 + 0 \\cdot 2^2 + 1 \\cdot 2^1 + 1 \\cdot 2^0 ) = 1011$  \n",
    "\n",
    "Wenn wir die 22 in ihre Binärdarstellung umwandeln wollen, erkennen wir sofort, wie das rechteste Bit aussieht. Für die übrigen Bits dividieren wir die 22 ganzzahlig durch 2 und wiederholen die Überlegung.\n",
    "\n",
    "<img src='bild1.png' width='300'>"
   ]
  },
  {
   "cell_type": "markdown",
   "metadata": {},
   "source": [
    "#### Bitfolgen als Folge von hexadezimalen Ziffern\n",
    "\n",
    "Je vier Bits einer Bitfolge fassen wir zu einer hexadezimalen Ziffer zusammen"
   ]
  },
  {
   "cell_type": "raw",
   "metadata": {},
   "source": [
    "0011 1110 1000\n",
    "3    E    8"
   ]
  },
  {
   "cell_type": "code",
   "execution_count": 28,
   "metadata": {},
   "outputs": [
    {
     "data": {
      "text/plain": [
       "(1000, 1000)"
      ]
     },
     "execution_count": 28,
     "metadata": {},
     "output_type": "execute_result"
    }
   ],
   "source": [
    "int('001111101000',2), int('3E8',16)"
   ]
  },
  {
   "cell_type": "markdown",
   "metadata": {},
   "source": [
    "Übung: Wandle die Bitfolge in eine Folge von Vierergruppen von hexadezimalen Ziffern um.\n",
    "\n"
   ]
  },
  {
   "cell_type": "raw",
   "metadata": {},
   "source": [
    "1011 1111 0010 1100 0111 0101 0011 1101 0100 0101 1111 1110"
   ]
  },
  {
   "cell_type": "markdown",
   "metadata": {},
   "source": [
    "#### Codierung von Zeichen"
   ]
  },
  {
   "cell_type": "code",
   "execution_count": null,
   "metadata": {},
   "outputs": [],
   "source": []
  }
 ],
 "metadata": {
  "kernelspec": {
   "display_name": "Python 3",
   "language": "python",
   "name": "python3"
  },
  "language_info": {
   "codemirror_mode": {
    "name": "ipython",
    "version": 3
   },
   "file_extension": ".py",
   "mimetype": "text/x-python",
   "name": "python",
   "nbconvert_exporter": "python",
   "pygments_lexer": "ipython3",
   "version": "3.8.5"
  }
 },
 "nbformat": 4,
 "nbformat_minor": 5
}

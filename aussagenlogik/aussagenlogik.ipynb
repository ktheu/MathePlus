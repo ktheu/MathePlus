{
 "cells": [
  {
   "cell_type": "markdown",
   "metadata": {},
   "source": [
    "### Aussagenlogik\n",
    "\n",
    "Eine Aussage ist entweder *wahr* oder *falsch*.\n",
    "Fragen, Befehle, Ausrufe sind keine Aussagen.\n",
    "\n",
    "*Wahr* und *falsch* heißen *Wahrheitswerte* (*w/*f, *true/*false, *1/*0).\n",
    "\n",
    "Mit *Junktoren* (logische Operatoren) können wir zusammengesetzte Aussagen (ausagenlogische Formeln) bilden.\n",
    "\n",
    "- Negation - $\\lnot$ - nicht\n",
    "- Konjunktion - $\\land$ - und\n",
    "- Disjunktion - $\\lor$ - oder (nicht ausschließend)\n",
    "- Kontravalenz - $\\oplus$ - xor - entweder...oder - ausschließendes oder - $\\dot \\lor$, $\\veebar$\n",
    "- Subjunktion -  $\\rightarrow$ - wenn...dann  \n",
    "- Bijunktion - $\\leftrightarrow$ - genau dann, wenn  \n",
    "\n",
    "\n",
    "\n",
    "$\\lnot$ bindet stärker als $\\lor$ und $\\land$ und diese binden stärker als $\\rightarrow$, $\\leftrightarrow$. \n",
    "\n",
    "Im amerikanischen Sprachraum werden für $\\lor$ und $\\land$\n",
    "meist + und $\\cdot$ verwendet, dann gilt die Punkt-vor-Strich Regel. Der Punkt kann auch weggelassen werden. Die Negation wird als Überstrich notiert.\n",
    "\n",
    "$a \\lor (\\lnot b \\land c)$ entspricht dann $a + \\overline{b} c$.\n",
    "\n",
    "Eine aussagenlogische *Tautologie* ist eine zusammengesetzte Aussage, die immer wahr ist.\n",
    "\n",
    "<!-- Zwei ausagenlogische Formeln $F$ und $G$ heißen aussagenlogisch äquivalent, wenn die Wahrheitswerte der Formeln in jedem Fall gleich sind, wir schreiben dann: $F \\Leftrightarrow G$ . \n",
    "Dies ist genau dann der Fall, wenn die Äquivalenz $F \\leftrightarrow G$ eine Tautologie ist. -->\n",
    "\n",
    "Eine Subjunktion, die für alle möglichen Einsetzungen wahr ist, heißt *Implikation*, man schreibt dann $A \\Rightarrow B$ <br>\n",
    "Eine Bijunktion, die für alle möglichen Einsetzungen wahr ist, heißt *Äquivalenz*, man schreibt dann $A \\Leftrightarrow B$\n",
    "\n",
    "Zu $a \\rightarrow b$ heißt $b \\rightarrow a$ die *Umkehrung* und $\\lnot b \\rightarrow \\lnot a$ die *Kontraposition*"
   ]
  },
  {
   "cell_type": "markdown",
   "metadata": {},
   "source": [
    "#### Logische Grundgesetze \n",
    "\n",
    "Doppelte Negation  $ \\quad a \\Leftrightarrow \\lnot (\\lnot a) $  \n",
    " \n",
    "Kommutativgesetze   <br>\n",
    "$a \\land b \\Leftrightarrow b \\land a$ <br>\n",
    "$a \\lor b   \\Leftrightarrow b \\lor a$\n",
    " \n",
    "Assoziativgesetze   <br>\n",
    "$(a \\land b) \\land c \\Leftrightarrow a \\land (b \\land c)$ <br>\n",
    "$(a \\lor b) \\lor c \\Leftrightarrow a \\lor (b \\lor c)$\n",
    "\n",
    "Distributivgesetze  <br>\n",
    "$(a \\land b) \\lor c \\Leftrightarrow (a \\lor c) \\land (b \\lor c)$ <br>\n",
    "$(a \\lor b) \\land c \\Leftrightarrow (a \\land c) \\lor (b \\land c)$\n",
    "\n",
    "Idempotenz <br>\n",
    "$a \\land a  \\Leftrightarrow a $ <br>\n",
    "$a \\lor a  \\Leftrightarrow a $ <br>\n",
    "\n",
    "Gesetze der Negation <br>\n",
    "$a \\land \\lnot a  \\Leftrightarrow 0 $ <br>\n",
    "$a \\lor \\lnot a  \\Leftrightarrow 1 $ <br>\n",
    "\n",
    "Absorptionsgesetze <br>\n",
    "$a \\land (a \\lor b)  \\Leftrightarrow a $ <br>\n",
    "$a \\lor (a \\land b)  \\Leftrightarrow a $ <br>\n",
    "\n",
    "Neutralität <br>\n",
    "$a \\lor 0 \\Leftrightarrow a $ <br>\n",
    "$a \\land 1 \\Leftrightarrow a $  \n",
    " \n",
    "\n",
    "DeMorgansche Regeln: <br>\n",
    "$\\lnot(a \\land b) \\Leftrightarrow \\lnot a \\lor \\lnot b$ <br>\n",
    "$\\lnot(a \\lor b) \\Leftrightarrow \\lnot a \\land \\lnot b$  \n",
    "\n",
    "Kontrapositionsregel: $a \\rightarrow b \\Leftrightarrow \\lnot b \\rightarrow \\lnot a$"
   ]
  },
  {
   "cell_type": "markdown",
   "metadata": {},
   "source": [
    "### Wahrheitstafeln"
   ]
  },
  {
   "cell_type": "code",
   "execution_count": 1,
   "metadata": {},
   "outputs": [
    {
     "name": "stdout",
     "output_type": "stream",
     "text": [
      "a b  a and b     a or b    a xor b     a -> b    a <-> b  \n",
      "0 0     0          0          0          1          1     \n",
      "0 1     0          1          1          1          0     \n",
      "1 0     0          1          1          0          0     \n",
      "1 1     1          1          0          1          1     \n"
     ]
    }
   ],
   "source": [
    "print(f\"a b {'a and b':^10} {'a or b':^10} {'a xor b':^10} {'a -> b':^10} {'a <-> b':^10}\")\n",
    "import itertools\n",
    "for p in itertools.product([0,1],repeat=2):\n",
    "    a, b = p\n",
    "    und = a and b\n",
    "    oder = a or b\n",
    "    xor = (a or b) and not (a and b)\n",
    "    impl = not a or b\n",
    "    aequi = (not a or b) and (not b or a)\n",
    "    print(f'{a} {b} {int(und):^10} {int(oder):^10} {int(xor):^10} {int(impl):^10} {int(aequi):^10}')"
   ]
  },
  {
   "cell_type": "markdown",
   "metadata": {},
   "source": [
    "### Aussagenlogik in Python\n",
    "\n",
    "Aufgabe: Für welche Belegungen für $a, b, c$ ist die folgende Formel wahr: <br>\n",
    "\n",
    "$(\\lnot c \\lor (a \\leftrightarrow \\lnot b)) \\rightarrow (a \\land \\lnot (b \\oplus c))$\n"
   ]
  },
  {
   "cell_type": "code",
   "execution_count": 4,
   "metadata": {},
   "outputs": [
    {
     "name": "stdout",
     "output_type": "stream",
     "text": [
      "0 0 0 0\n",
      "0 0 1 1\n",
      "0 1 0 0\n",
      "0 1 1 0\n",
      "1 0 0 1\n",
      "1 0 1 0\n",
      "1 1 0 0\n",
      "1 1 1 1\n"
     ]
    }
   ],
   "source": [
    "import itertools\n",
    "'''\n",
    "Muster für die Auswertung einer aussagenlogischen Formel\n",
    "'''\n",
    "def xor(a,b):\n",
    "    return (a or b) and not (a and b)\n",
    "\n",
    "def impl(a,b):\n",
    "    ''' Implikation a -> b '''\n",
    "    return not a or b\n",
    "\n",
    "def aequi(a,b):\n",
    "    ''' Aequivalenz a <-> b '''\n",
    "    return (a and b) or (not a and not b)\n",
    "\n",
    "for p in itertools.product([0,1],repeat=3):\n",
    "    a, b, c = p\n",
    "    f1 = not c or (aequi(a,not b))\n",
    "    f2 = a and not (xor(b,c))\n",
    "    formel = impl(f1,f2)\n",
    "    print(a,b,c,int(formel))"
   ]
  },
  {
   "cell_type": "markdown",
   "metadata": {},
   "source": [
    "### Prädikatenlogik\n",
    "\n",
    "Ein Prädikat ist eine Wortfolge mit einer oder mehreren Leerstellen,\n",
    "die zu einer Aussage wird, wenn in jede Leerstelle ein Eigenname eingesetzt wird.\n",
    "Wir verwenden Großbuchstaben als Symbole für Prädikate und Kleinbuchstaben als Symbole für Individuen.\n",
    "\n",
    " \n",
    "> Gustl ist satt <br>\n",
    "ist satt (Gustl) <br>\n",
    "S(g)\n",
    " \n",
    " \n",
    "> Obelix isst mehr Wildscheine als Asterix. <br>\n",
    "isst mehr Wildschweine als (Obelix, Asterix). <br>\n",
    "W(o,a)\n",
    "\n",
    " \n",
    ">f(x) = 2 <br>\n",
    "= (f(x),2) <br>\n",
    "G(f(x),2)\n",
    " \n",
    "\n",
    "#### Allquantor\n",
    "\n",
    "Um eine Aussage wie *Alle Dinge sind leer* prädikatenlogisch zu formulieren, nutzen wir den Allquantor.\n",
    " \n",
    "> Alle Dinge sind leer.   <br>\n",
    "Für jedes x gilt: x ist leer. <br>\n",
    "$\\forall x: L(x)$\n",
    "\n",
    "\n",
    "> Für alle reellen Zahlen gilt, dass ihr Quadrat größer gleich Null ist.  <br>\n",
    "Für alle Dinge gilt: Wenn das Ding eine reelle Zahl ist, dann ist ihr Quadrat größer gleich Null.  <br>\n",
    "Für alle x gilt: $R(x) \\rightarrow G(x^2,0)$. <br>\n",
    "$\\forall x: R(x) \\rightarrow G(x^2,0)$.\n",
    "\n",
    "Die letzte Zeile zeigt klar die prädikatenlogische Struktur der Aussage. Häufig schreibt man einfacher:\n",
    "\n",
    "> $\\forall x \\in \\mathbb{R}: x^2 \\ge 0$.\n",
    " \n",
    "#### Existenzquantor \n",
    "\n",
    "Um eine Aussage wie *Manche Dinge sind leer* prädikatenlogisch zu formulieren, nutzen wir den Existenzquantor.\n",
    "\n",
    "> Manche Dinge sind leer.   <br>\n",
    "> Es gibt (mindestens) ein Ding für das gilt: das Ding ist leer. <br>\n",
    "> Es gibt (mindestens) ein x für das gilt: x ist leer. <br>\n",
    "> $\\exists x: L(x)$\n",
    "\n",
    "\n",
    "> Es gibt eine Zahl, deren Quadrat negativ ist.   <br>\n",
    "> $\\exists x: Z(x) \\land K(x^2,0)$\n",
    "\n",
    "#### Prädikatenlogische Verneinungsregeln\n",
    "\n",
    "> $\\lnot \\forall x : F(x) \\Leftrightarrow \\exists x : \\lnot F(x)$  <br>\n",
    "  $\\lnot \\exists x : F(x) \\Leftrightarrow \\forall x : \\lnot F(x)$\n",
    "\n",
    "\n",
    "> Kein Schüler telefoniert während des Unterrichts.  <br>\n",
    "$\\lnot \\exists x: (S(x) \\land T(x))$ <br>\n",
    "$ \\forall x: \\lnot (S(x) \\land T(x))$ <br>\n",
    "$ \\forall x: \\lnot S(x) \\lor \\lnot T(x)$  <br>\n",
    "$ \\forall x: S(x) \\rightarrow \\lnot T(x)$  <br>\n",
    " "
   ]
  },
  {
   "cell_type": "code",
   "execution_count": null,
   "metadata": {},
   "outputs": [],
   "source": []
  }
 ],
 "metadata": {
  "kernelspec": {
   "display_name": "Python 3",
   "language": "python",
   "name": "python3"
  },
  "language_info": {
   "codemirror_mode": {
    "name": "ipython",
    "version": 3
   },
   "file_extension": ".py",
   "mimetype": "text/x-python",
   "name": "python",
   "nbconvert_exporter": "python",
   "pygments_lexer": "ipython3",
   "version": "3.7.9"
  }
 },
 "nbformat": 4,
 "nbformat_minor": 4
}

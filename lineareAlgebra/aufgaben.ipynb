{
 "cells": [
  {
   "cell_type": "markdown",
   "metadata": {},
   "source": [
    "### Aufgaben"
   ]
  },
  {
   "cell_type": "code",
   "execution_count": 10,
   "metadata": {},
   "outputs": [],
   "source": [
    "import numpy as np\n",
    "from sympy import Matrix,eye,linsolve\n",
    "from scipy import linalg\n",
    "np.set_printoptions(precision=2, suppress= True)"
   ]
  },
  {
   "cell_type": "markdown",
   "metadata": {},
   "source": [
    "### A1"
   ]
  },
  {
   "cell_type": "markdown",
   "metadata": {},
   "source": [
    "Löse Ax = b mit einer einfachen Linearkombination"
   ]
  },
  {
   "cell_type": "code",
   "execution_count": 3,
   "metadata": {},
   "outputs": [],
   "source": [
    "A = np.array([1,1,-2,1,-1,2,3,1,0]).reshape(3,3)"
   ]
  },
  {
   "cell_type": "code",
   "execution_count": 4,
   "metadata": {},
   "outputs": [
    {
     "data": {
      "text/plain": [
       "(array([[ 1,  1, -2],\n",
       "        [ 1, -1,  2],\n",
       "        [ 3,  1,  0]]),\n",
       " array([[0],\n",
       "        [2],\n",
       "        [2]]))"
      ]
     },
     "execution_count": 4,
     "metadata": {},
     "output_type": "execute_result"
    }
   ],
   "source": [
    "# a\n",
    "x = np.array([1,-1,0]).reshape(3,1)\n",
    "b = A.dot(x)\n",
    "A, b"
   ]
  },
  {
   "cell_type": "code",
   "execution_count": 6,
   "metadata": {},
   "outputs": [
    {
     "data": {
      "text/plain": [
       "(array([[ 1,  1, -2],\n",
       "        [ 1, -1,  2],\n",
       "        [ 3,  1,  0]]),\n",
       " array([[-1],\n",
       "        [ 1],\n",
       "        [ 1]]))"
      ]
     },
     "execution_count": 6,
     "metadata": {},
     "output_type": "execute_result"
    }
   ],
   "source": [
    "# b\n",
    "x = np.array([0,1,1]).reshape(3,1)\n",
    "b = A.dot(x)\n",
    "A, b"
   ]
  },
  {
   "cell_type": "code",
   "execution_count": 7,
   "metadata": {},
   "outputs": [
    {
     "data": {
      "text/plain": [
       "(array([[ 1,  1, -2],\n",
       "        [ 1, -1,  2],\n",
       "        [ 3,  1,  0]]),\n",
       " array([[-2],\n",
       "        [ 0],\n",
       "        [-2]]))"
      ]
     },
     "execution_count": 7,
     "metadata": {},
     "output_type": "execute_result"
    }
   ],
   "source": [
    "# c\n",
    "x = np.array([-1,1,1]).reshape(3,1)\n",
    "b = A.dot(x)\n",
    "A, b"
   ]
  },
  {
   "cell_type": "code",
   "execution_count": 111,
   "metadata": {},
   "outputs": [],
   "source": [
    "def ele(k,i,l,j,n=3):\n",
    "    # ändert nur zeile i: vom k fachen der zeile i wird das l-fache der zeile j abgezogen\n",
    "    tmp = np.eye(n)\n",
    "    tmp[i-1,i-1] = k\n",
    "    tmp[i-1,j-1] = -l\n",
    "    return tmp\n",
    "\n",
    "def permut(i,j,n): \n",
    "    tmp = np.identity(n)\n",
    "    tmp[i-1],tmp[j-1] = tmp[j-1].copy(),tmp[i-1].copy()\n",
    "    return tmp.astype(int)\n",
    "    "
   ]
  },
  {
   "cell_type": "code",
   "execution_count": 71,
   "metadata": {},
   "outputs": [
    {
     "data": {
      "text/plain": [
       "array([[4., 0., 0., 0.],\n",
       "       [0., 5., 0., 0.],\n",
       "       [0., 0., 6., 1.],\n",
       "       [0., 0., 1., 7.]])"
      ]
     },
     "execution_count": 71,
     "metadata": {},
     "output_type": "execute_result"
    }
   ],
   "source": []
  },
  {
   "cell_type": "markdown",
   "metadata": {},
   "source": [
    "### A2 \n",
    "Löse mit Elimination und Rücksubstitution"
   ]
  },
  {
   "cell_type": "code",
   "execution_count": null,
   "metadata": {},
   "outputs": [],
   "source": []
  },
  {
   "cell_type": "code",
   "execution_count": 40,
   "metadata": {},
   "outputs": [
    {
     "data": {
      "text/plain": [
       "(array([[ 2,  1, -2],\n",
       "        [-1, -2,  2],\n",
       "        [ 3,  0, -1]]),\n",
       " array([[-2],\n",
       "        [ 9],\n",
       "        [ 7]]))"
      ]
     },
     "execution_count": 40,
     "metadata": {},
     "output_type": "execute_result"
    }
   ],
   "source": [
    "A = np.array([2,1,-2,-1,-2,2,3,0,-1]).reshape(3,3)\n",
    "x = np.array([3,-4,2]).reshape(3,1)\n",
    "b = A @ x\n",
    "A, b\n"
   ]
  },
  {
   "cell_type": "code",
   "execution_count": 43,
   "metadata": {},
   "outputs": [
    {
     "data": {
      "text/plain": [
       "array([[  2.,   1.,  -2.,  -2.],\n",
       "       [  0.,   3.,  -2., -16.],\n",
       "       [  0.,   0.,   2.,   4.]])"
      ]
     },
     "execution_count": 43,
     "metadata": {},
     "output_type": "execute_result"
    }
   ],
   "source": [
    "t = np.append(A,b,axis=1)\n",
    "t = ele(-2,2,1,1) @ t\n",
    "t = ele(2,3,3,1) @ t\n",
    "t = ele(1,3,-1,2) @ t\n",
    "t"
   ]
  },
  {
   "cell_type": "code",
   "execution_count": 49,
   "metadata": {},
   "outputs": [
    {
     "data": {
      "text/plain": [
       "(array([[ 2, -4,  5],\n",
       "        [ 3,  3,  7],\n",
       "        [ 4, -2, -3]]),\n",
       " array([[-1],\n",
       "        [16],\n",
       "        [-3]]))"
      ]
     },
     "execution_count": 49,
     "metadata": {},
     "output_type": "execute_result"
    }
   ],
   "source": [
    "# b\n",
    "A = np.array([2,-4,5,3,3,7,4,-2,-3]).reshape(3,3)\n",
    "x = np.array([1,2,1]).reshape(3,1)\n",
    "b = A @ x\n",
    "A, b"
   ]
  },
  {
   "cell_type": "code",
   "execution_count": 51,
   "metadata": {},
   "outputs": [
    {
     "data": {
      "text/plain": [
       "array([[  2.,  -4.,   5.,  -1.],\n",
       "       [  0.,  18.,  -1.,  35.],\n",
       "       [  0.,   0., -38., -38.]])"
      ]
     },
     "execution_count": 51,
     "metadata": {},
     "output_type": "execute_result"
    }
   ],
   "source": [
    "t = np.append(A,b,axis=1)\n",
    "t = ele(2,2,3,1) @ t\n",
    "t = ele(1,3,2,1) @ t\n",
    "t = ele(3,3,1,2) @ t\n",
    "t"
   ]
  },
  {
   "cell_type": "markdown",
   "metadata": {},
   "source": [
    "### A3 Matrixmultiplikation"
   ]
  },
  {
   "cell_type": "code",
   "execution_count": 113,
   "metadata": {},
   "outputs": [],
   "source": [
    "a = np.array([1,2,3,4,3,2,1,4,2]).reshape(3,3)\n",
    "b = np.array([3,1,2,1,2,0,1,0,1,1,3,0]).reshape(3,4)\n",
    "A = Matrix(a)\n",
    "B = Matrix(b)\n",
    "C = A * B"
   ]
  },
  {
   "cell_type": "code",
   "execution_count": 114,
   "metadata": {},
   "outputs": [
    {
     "data": {
      "text/latex": [
       "$\\displaystyle \\left[\\begin{matrix}1 & 2 & 3\\\\4 & 3 & 2\\\\1 & 4 & 2\\end{matrix}\\right]$"
      ],
      "text/plain": [
       "Matrix([\n",
       "[1, 2, 3],\n",
       "[4, 3, 2],\n",
       "[1, 4, 2]])"
      ]
     },
     "execution_count": 114,
     "metadata": {},
     "output_type": "execute_result"
    }
   ],
   "source": [
    "A"
   ]
  },
  {
   "cell_type": "code",
   "execution_count": 115,
   "metadata": {},
   "outputs": [
    {
     "data": {
      "text/latex": [
       "$\\displaystyle \\left[\\begin{matrix}3 & 1 & 2 & 1\\\\2 & 0 & 1 & 0\\\\1 & 1 & 3 & 0\\end{matrix}\\right]$"
      ],
      "text/plain": [
       "Matrix([\n",
       "[3, 1, 2, 1],\n",
       "[2, 0, 1, 0],\n",
       "[1, 1, 3, 0]])"
      ]
     },
     "execution_count": 115,
     "metadata": {},
     "output_type": "execute_result"
    }
   ],
   "source": [
    "B"
   ]
  },
  {
   "cell_type": "code",
   "execution_count": 116,
   "metadata": {},
   "outputs": [
    {
     "data": {
      "text/latex": [
       "$\\displaystyle \\left[\\begin{matrix}10 & 4 & 13 & 1\\\\20 & 6 & 17 & 4\\\\13 & 3 & 12 & 1\\end{matrix}\\right]$"
      ],
      "text/plain": [
       "Matrix([\n",
       "[10, 4, 13, 1],\n",
       "[20, 6, 17, 4],\n",
       "[13, 3, 12, 1]])"
      ]
     },
     "execution_count": 116,
     "metadata": {},
     "output_type": "execute_result"
    }
   ],
   "source": [
    "C"
   ]
  },
  {
   "cell_type": "code",
   "execution_count": 9,
   "metadata": {},
   "outputs": [],
   "source": [
    "a = np.array([1,2,3,4,3,2,1,4]).reshape(4,2)\n",
    "b = np.array([3,1,2,1,2,0]).reshape(2,3)\n",
    "A = Matrix(a)\n",
    "B = Matrix(b)\n",
    "C = A * B"
   ]
  },
  {
   "cell_type": "code",
   "execution_count": 10,
   "metadata": {},
   "outputs": [
    {
     "data": {
      "text/latex": [
       "$\\displaystyle \\left[\\begin{matrix}1 & 2\\\\3 & 4\\\\3 & 2\\\\1 & 4\\end{matrix}\\right]$"
      ],
      "text/plain": [
       "Matrix([\n",
       "[1, 2],\n",
       "[3, 4],\n",
       "[3, 2],\n",
       "[1, 4]])"
      ]
     },
     "execution_count": 10,
     "metadata": {},
     "output_type": "execute_result"
    }
   ],
   "source": [
    "A"
   ]
  },
  {
   "cell_type": "code",
   "execution_count": 11,
   "metadata": {},
   "outputs": [
    {
     "data": {
      "text/latex": [
       "$\\displaystyle \\left[\\begin{matrix}3 & 1 & 2\\\\1 & 2 & 0\\end{matrix}\\right]$"
      ],
      "text/plain": [
       "Matrix([\n",
       "[3, 1, 2],\n",
       "[1, 2, 0]])"
      ]
     },
     "execution_count": 11,
     "metadata": {},
     "output_type": "execute_result"
    }
   ],
   "source": [
    "B"
   ]
  },
  {
   "cell_type": "code",
   "execution_count": 12,
   "metadata": {},
   "outputs": [
    {
     "data": {
      "text/latex": [
       "$\\displaystyle \\left[\\begin{matrix}5 & 5 & 2\\\\13 & 11 & 6\\\\11 & 7 & 6\\\\7 & 9 & 2\\end{matrix}\\right]$"
      ],
      "text/plain": [
       "Matrix([\n",
       "[ 5,  5, 2],\n",
       "[13, 11, 6],\n",
       "[11,  7, 6],\n",
       "[ 7,  9, 2]])"
      ]
     },
     "execution_count": 12,
     "metadata": {},
     "output_type": "execute_result"
    }
   ],
   "source": [
    "C"
   ]
  },
  {
   "cell_type": "markdown",
   "metadata": {},
   "source": [
    "### A4"
   ]
  },
  {
   "cell_type": "code",
   "execution_count": 133,
   "metadata": {},
   "outputs": [
    {
     "data": {
      "text/plain": [
       "(array([[ 1,  2,  3],\n",
       "        [ 0, -1,  0],\n",
       "        [ 0,  0, -1]]),\n",
       " array([[  3.,   5.,   9.],\n",
       "        [  1.,   2.,   3.],\n",
       "        [ -5.,  -9., -16.]]),\n",
       " array([[ 1.,  0.,  0.],\n",
       "        [-3.,  1.,  0.],\n",
       "        [ 0.,  0.,  1.]]),\n",
       " array([[1., 0., 0.],\n",
       "        [0., 1., 0.],\n",
       "        [2., 0., 1.]]),\n",
       " array([[1., 0., 0.],\n",
       "        [0., 1., 0.],\n",
       "        [0., 1., 1.]]),\n",
       " array([[0, 1, 0],\n",
       "        [1, 0, 0],\n",
       "        [0, 0, 1]]))"
      ]
     },
     "execution_count": 133,
     "metadata": {},
     "output_type": "execute_result"
    }
   ],
   "source": [
    "# Vertausche Zeile 1 und 2\n",
    "# Ziehe von Zeile 2 das 3-fache von Zeile 1 ab\n",
    "# Ziehe von Zeile 3 das -2-fache von Zeile 1 ab\n",
    "# Ziehe von Zeile 3 das -1-fache von Zeile 2 ab\n",
    "\n",
    "\n",
    "u = np.array([1,2,3,0,-1,0,0,0,-1]).reshape(3,3)\n",
    "e21 = ele(1,2,3,1)\n",
    "e31 = ele(1,3,-2,1)\n",
    "e32 = ele(1,3,-1,2) \n",
    "p =  permut(1,2,3)\n",
    "a = p @ np.linalg.inv(e32) @ np.linalg.inv(e31) @ np.linalg.inv(e21) @ u\n",
    "u, a, e21, e31, e32, p"
   ]
  },
  {
   "cell_type": "code",
   "execution_count": 134,
   "metadata": {},
   "outputs": [
    {
     "data": {
      "text/plain": [
       "(array([[2, 1, 5],\n",
       "        [0, 4, 3],\n",
       "        [0, 0, 6]]),\n",
       " array([[ 2.  ,  1.  ,  5.  ],\n",
       "        [16.5 , 15.25, 49.5 ],\n",
       "        [ 5.  ,  4.5 , 14.  ]]),\n",
       " array([[ 1.,  0.,  0.],\n",
       "        [-5.,  2.,  0.],\n",
       "        [ 0.,  0.,  1.]]),\n",
       " array([[1., 0., 0.],\n",
       "        [0., 1., 0.],\n",
       "        [1., 0., 1.]]),\n",
       " array([[ 1.,  0.,  0.],\n",
       "        [ 0.,  1.,  0.],\n",
       "        [ 0., -7.,  2.]]),\n",
       " array([[1, 0, 0],\n",
       "        [0, 0, 1],\n",
       "        [0, 1, 0]]))"
      ]
     },
     "execution_count": 134,
     "metadata": {},
     "output_type": "execute_result"
    }
   ],
   "source": [
    "# Vertausche Zeile 1 und 2\n",
    "# Ziehe von Zeile 2 das 3-fache von Zeile 1 ab\n",
    "# Ziehe von Zeile 3 das -2-fache von Zeile 1 ab\n",
    "# Ziehe von Zeile 3 das -1-fache von Zeile 2 ab\n",
    "\n",
    "u = np.array([2,1,5,0,4,3,0,0,6]).reshape(3,3)\n",
    "p = permut(2,3,3)\n",
    "e21 = ele(2,2,5,1)\n",
    "e31 = ele(1,3,-1,1)\n",
    "e32 = ele(2,3,7,2) \n",
    "a = p @ np.linalg.inv(e32) @ np.linalg.inv(e31) @ np.linalg.inv(e21) @ u\n",
    "u, a, e21, e31, e32, p"
   ]
  },
  {
   "cell_type": "markdown",
   "metadata": {},
   "source": [
    "### A5   \n",
    "LU - Faktorisierung an einfachen Beispielen\n",
    "\n"
   ]
  },
  {
   "cell_type": "code",
   "execution_count": 58,
   "metadata": {},
   "outputs": [
    {
     "data": {
      "text/plain": [
       "(array([[ 1,  3,  2],\n",
       "        [-2, -3, -5],\n",
       "        [ 0,  9,  1]]),\n",
       " array([[ 1,  0,  0],\n",
       "        [-2,  1,  0],\n",
       "        [ 0,  3,  1]]),\n",
       " array([[ 1,  3,  2],\n",
       "        [ 0,  3, -1],\n",
       "        [ 0,  0,  4]]))"
      ]
     },
     "execution_count": 58,
     "metadata": {},
     "output_type": "execute_result"
    }
   ],
   "source": [
    "# a.\n",
    "u = np.array([1,3,2,0,3,-1,0,0,4]).reshape(3,3)\n",
    "l = np.array([1,0,0,-2,1,0,0,3,1]).reshape(3,3)\n",
    "a = l@u.astype(int)\n",
    "a, l, u"
   ]
  },
  {
   "cell_type": "code",
   "execution_count": 59,
   "metadata": {},
   "outputs": [
    {
     "data": {
      "text/latex": [
       "$\\displaystyle \\left[\\begin{matrix}1 & 3 & 2\\\\-2 & -3 & -5\\\\0 & 9 & 1\\end{matrix}\\right]$"
      ],
      "text/plain": [
       "Matrix([\n",
       "[ 1,  3,  2],\n",
       "[-2, -3, -5],\n",
       "[ 0,  9,  1]])"
      ]
     },
     "execution_count": 59,
     "metadata": {},
     "output_type": "execute_result"
    }
   ],
   "source": [
    "Matrix(a)"
   ]
  },
  {
   "cell_type": "markdown",
   "metadata": {},
   "source": [
    "Die Berechnung"
   ]
  },
  {
   "cell_type": "code",
   "execution_count": 39,
   "metadata": {},
   "outputs": [
    {
     "data": {
      "text/latex": [
       "$\\displaystyle \\left[\\begin{matrix}1 & 3 & 2\\\\0 & 3 & -1\\\\0 & 9 & 1\\end{matrix}\\right]$"
      ],
      "text/plain": [
       "Matrix([\n",
       "[1, 3,  2],\n",
       "[0, 3, -1],\n",
       "[0, 9,  1]])"
      ]
     },
     "execution_count": 39,
     "metadata": {},
     "output_type": "execute_result"
    }
   ],
   "source": [
    "t = el(2,-2,1).dot(a)                    # von der 2.zeile ziehe ich das -2-fache der 1.zeile ab\n",
    "Matrix(t.astype(int))"
   ]
  },
  {
   "cell_type": "code",
   "execution_count": 40,
   "metadata": {},
   "outputs": [
    {
     "data": {
      "text/latex": [
       "$\\displaystyle \\left[\\begin{matrix}1 & 0 & 0\\\\2 & 1 & 0\\\\0 & 0 & 1\\end{matrix}\\right]$"
      ],
      "text/plain": [
       "Matrix([\n",
       "[1, 0, 0],\n",
       "[2, 1, 0],\n",
       "[0, 0, 1]])"
      ]
     },
     "execution_count": 40,
     "metadata": {},
     "output_type": "execute_result"
    }
   ],
   "source": [
    "Matrix(el(2,-2,1))"
   ]
  },
  {
   "cell_type": "code",
   "execution_count": 41,
   "metadata": {},
   "outputs": [
    {
     "data": {
      "text/latex": [
       "$\\displaystyle \\left[\\begin{matrix}1 & 3 & 2\\\\0 & 3 & -1\\\\0 & 0 & 4\\end{matrix}\\right]$"
      ],
      "text/plain": [
       "Matrix([\n",
       "[1, 3,  2],\n",
       "[0, 3, -1],\n",
       "[0, 0,  4]])"
      ]
     },
     "execution_count": 41,
     "metadata": {},
     "output_type": "execute_result"
    }
   ],
   "source": [
    "t = el(3,3,2).dot(el(2,-2,1).dot(A))     # von der 3.zeile ziehe ich das 3-fache der 2.zeile ab\n",
    "Matrix(t.astype(int))"
   ]
  },
  {
   "cell_type": "code",
   "execution_count": 42,
   "metadata": {},
   "outputs": [
    {
     "data": {
      "text/latex": [
       "$\\displaystyle \\left[\\begin{matrix}1 & 0 & 0\\\\0 & 1 & 0\\\\0 & -3 & 1\\end{matrix}\\right]$"
      ],
      "text/plain": [
       "Matrix([\n",
       "[1,  0, 0],\n",
       "[0,  1, 0],\n",
       "[0, -3, 1]])"
      ]
     },
     "execution_count": 42,
     "metadata": {},
     "output_type": "execute_result"
    }
   ],
   "source": [
    "Matrix(el(3,3,2))"
   ]
  },
  {
   "cell_type": "code",
   "execution_count": 43,
   "metadata": {},
   "outputs": [
    {
     "data": {
      "text/latex": [
       "$\\displaystyle \\left[\\begin{matrix}1 & 0 & 0\\\\-2 & 1 & 0\\\\0 & 3 & 1\\end{matrix}\\right]$"
      ],
      "text/plain": [
       "Matrix([\n",
       "[ 1, 0, 0],\n",
       "[-2, 1, 0],\n",
       "[ 0, 3, 1]])"
      ]
     },
     "execution_count": 43,
     "metadata": {},
     "output_type": "execute_result"
    }
   ],
   "source": [
    "L = np.linalg.inv((el(3,3,2).dot(el(2,-2,1))))\n",
    "Matrix(L.astype(int))"
   ]
  },
  {
   "cell_type": "markdown",
   "metadata": {},
   "source": [
    "Noch eine Kontrolle"
   ]
  },
  {
   "cell_type": "code",
   "execution_count": 44,
   "metadata": {},
   "outputs": [
    {
     "data": {
      "text/plain": [
       "(Matrix([\n",
       " [ 1, 0, 0],\n",
       " [-2, 1, 0],\n",
       " [ 0, 3, 1]]),\n",
       " Matrix([\n",
       " [1, 3,  2],\n",
       " [0, 3, -1],\n",
       " [0, 0,  4]]),\n",
       " [])"
      ]
     },
     "execution_count": 44,
     "metadata": {},
     "output_type": "execute_result"
    }
   ],
   "source": [
    "Matrix(A).LUdecomposition()\n"
   ]
  },
  {
   "cell_type": "code",
   "execution_count": 60,
   "metadata": {},
   "outputs": [
    {
     "data": {
      "text/plain": [
       "(array([[ 1, -1,  1],\n",
       "        [-1,  0,  0],\n",
       "        [ 1, -3,  5]]),\n",
       " array([[ 1,  0,  0],\n",
       "        [-1,  1,  0],\n",
       "        [ 1,  2,  1]]),\n",
       " array([[ 1, -1,  1],\n",
       "        [ 0, -1,  1],\n",
       "        [ 0,  0,  2]]))"
      ]
     },
     "execution_count": 60,
     "metadata": {},
     "output_type": "execute_result"
    }
   ],
   "source": [
    "# b.\n",
    " \n",
    "u = np.array([1,-1,1,0,-1,1,0,0,2]).reshape(3,3)\n",
    "l = np.array([1,0,0,-1,1,0,1,2,1]).reshape(3,3)\n",
    "a = l@u.astype(int)\n",
    "a, l, u"
   ]
  },
  {
   "cell_type": "code",
   "execution_count": 61,
   "metadata": {},
   "outputs": [
    {
     "data": {
      "text/latex": [
       "$\\displaystyle \\left[\\begin{matrix}1 & -1 & 1\\\\-1 & 0 & 0\\\\1 & -3 & 5\\end{matrix}\\right]$"
      ],
      "text/plain": [
       "Matrix([\n",
       "[ 1, -1, 1],\n",
       "[-1,  0, 0],\n",
       "[ 1, -3, 5]])"
      ]
     },
     "execution_count": 61,
     "metadata": {},
     "output_type": "execute_result"
    }
   ],
   "source": [
    "Matrix(a)"
   ]
  },
  {
   "cell_type": "code",
   "execution_count": 62,
   "metadata": {},
   "outputs": [
    {
     "data": {
      "text/latex": [
       "$\\displaystyle \\left[\\begin{matrix}1 & -1 & 1\\\\0 & -1 & 1\\\\1 & -3 & 5\\end{matrix}\\right]$"
      ],
      "text/plain": [
       "Matrix([\n",
       "[1, -1, 1],\n",
       "[0, -1, 1],\n",
       "[1, -3, 5]])"
      ]
     },
     "execution_count": 62,
     "metadata": {},
     "output_type": "execute_result"
    }
   ],
   "source": [
    "t = el(2,-1,1)@ a\n",
    "Matrix(t.astype(int))"
   ]
  },
  {
   "cell_type": "code",
   "execution_count": 63,
   "metadata": {},
   "outputs": [
    {
     "data": {
      "text/latex": [
       "$\\displaystyle \\left[\\begin{matrix}1 & -1 & 1\\\\0 & -1 & 1\\\\0 & -2 & 4\\end{matrix}\\right]$"
      ],
      "text/plain": [
       "Matrix([\n",
       "[1, -1, 1],\n",
       "[0, -1, 1],\n",
       "[0, -2, 4]])"
      ]
     },
     "execution_count": 63,
     "metadata": {},
     "output_type": "execute_result"
    }
   ],
   "source": [
    "t = el(3,1,1) @ t\n",
    "Matrix(t.astype(int))"
   ]
  },
  {
   "cell_type": "code",
   "execution_count": 64,
   "metadata": {},
   "outputs": [
    {
     "data": {
      "text/latex": [
       "$\\displaystyle \\left[\\begin{matrix}1 & -1 & 1\\\\0 & -1 & 1\\\\0 & 0 & 2\\end{matrix}\\right]$"
      ],
      "text/plain": [
       "Matrix([\n",
       "[1, -1, 1],\n",
       "[0, -1, 1],\n",
       "[0,  0, 2]])"
      ]
     },
     "execution_count": 64,
     "metadata": {},
     "output_type": "execute_result"
    }
   ],
   "source": [
    "t = el(3,2,2) @ t\n",
    "Matrix(t.astype(int))"
   ]
  },
  {
   "cell_type": "code",
   "execution_count": 67,
   "metadata": {},
   "outputs": [
    {
     "data": {
      "text/latex": [
       "$\\displaystyle \\left[\\begin{matrix}1 & 0 & 0\\\\-1 & 1 & 0\\\\1 & 2 & 1\\end{matrix}\\right]$"
      ],
      "text/plain": [
       "Matrix([\n",
       "[ 1, 0, 0],\n",
       "[-1, 1, 0],\n",
       "[ 1, 2, 1]])"
      ]
     },
     "execution_count": 67,
     "metadata": {},
     "output_type": "execute_result"
    }
   ],
   "source": [
    "Matrix(a).LUdecomposition()[0]"
   ]
  },
  {
   "cell_type": "markdown",
   "metadata": {},
   "source": [
    "### A6"
   ]
  },
  {
   "cell_type": "code",
   "execution_count": 2,
   "metadata": {},
   "outputs": [],
   "source": [
    "def intMatrix(A):\n",
    "    # true wenn alles ganzzahlig\n",
    "    return np.all(A - A.astype(int) == 0)\n",
    "\n",
    "def augment(a):\n",
    "    n = a.shape[0]\n",
    "    return np.append(a, np.eye(n), axis=1)\n",
    "\n",
    "def el(i,k,j,n=3):    # 3x3 Eliminations-Matrix \n",
    "    # von der i-ten Zeile, das k-fache der j-ten Zeile abziehen\n",
    "    tmp = np.eye(n)\n",
    "    tmp[i-1,j-1] = -k\n",
    "    return tmp.astype(int)\n",
    "\n",
    "def ele(k,i,l,j,n=3):\n",
    "    # ändert nur zeile i: vom k fachen der zeile i wird das l-fache der zeile j abgezogen\n",
    "    tmp = np.eye(n)\n",
    "    tmp[i-1,i-1] = k\n",
    "    tmp[i-1,j-1] = -l\n",
    "    return tmp\n",
    "\n",
    "def rm(r,k,n=3):\n",
    "    # returns Matrix which multiplies row r of a nxn Matrix with scalar k \n",
    "    tmp = np.eye(n)\n",
    "    tmp[r-1,r-1]= k\n",
    "    return tmp\n",
    "\n",
    "def permut(i,j,n): \n",
    "    tmp = np.identity(n)\n",
    "    tmp[i-1],tmp[j-1] = tmp[j-1].copy(),tmp[i-1].copy()\n",
    "    return tmp.astype(int)"
   ]
  },
  {
   "cell_type": "code",
   "execution_count": 23,
   "metadata": {},
   "outputs": [
    {
     "name": "stdout",
     "output_type": "stream",
     "text": [
      "[1, -3, 1, 2, 0, 1, -1, -4, 0]\n",
      "[-4, -2, 3, 1, 1, 1, 0, 1, 3]\n",
      "[-1, 2, -3, 1, -3, -4, 1, -2, 2]\n",
      "[-4, -3, 1, -1, 3, 3, -3, -2, 1]\n",
      "[-1, 0, 3, 1, -1, -3, -1, -4, 2]\n",
      "[-3, -2, 2, 1, -2, -1, 0, 1, 0]\n",
      "[3, 1, -1, -4, 0, 3, 0, 1, 1]\n",
      "[-1, 3, 3, 1, -2, 1, -1, 2, 0]\n",
      "[2, -2, 3, 0, 1, 1, 1, -2, 1]\n",
      "[-1, -2, 3, 0, 1, -1, 3, -2, 0]\n",
      "[1, 3, 1, -1, 3, -2, 1, 2, 1]\n",
      "[0, 1, -2, 1, -1, -1, -2, 3, -1]\n",
      "[3, 0, -2, -4, 0, 3, -2, 1, -3]\n",
      "[0, -1, -3, -1, 2, 1, -1, 1, -1]\n"
     ]
    }
   ],
   "source": [
    "for i in range(10000):\n",
    "    # ganzzahlige invertierbare 3x3 Matrizen\n",
    "    x = np.random.randint(-4,4,9) \n",
    "    x = x.reshape(3,3)\n",
    "    if abs(linalg.det(x)) > 1 and intMatrix(linalg.inv(x)):\n",
    "        print(list(x.flatten()))\n",
    "        \n"
   ]
  },
  {
   "cell_type": "code",
   "execution_count": 40,
   "metadata": {},
   "outputs": [
    {
     "data": {
      "text/latex": [
       "$\\displaystyle \\left[\\begin{matrix}1 & 3 & 1\\\\0 & 1 & 2\\\\1 & 3 & 2\\end{matrix}\\right]$"
      ],
      "text/plain": [
       "Matrix([\n",
       "[1, 3, 1],\n",
       "[0, 1, 2],\n",
       "[1, 3, 2]])"
      ]
     },
     "execution_count": 40,
     "metadata": {},
     "output_type": "execute_result"
    }
   ],
   "source": [
    "# a\n",
    "a = np.array([1, 3, 1, 0, 1, 2, 1, 3, 2]).reshape(3,3)\n",
    "Matrix(a)"
   ]
  },
  {
   "cell_type": "code",
   "execution_count": 24,
   "metadata": {},
   "outputs": [
    {
     "data": {
      "text/latex": [
       "$\\displaystyle \\left[\\begin{matrix}-4 & -3 & 5\\\\2 & 1 & -2\\\\-1 & 0 & 1\\end{matrix}\\right]$"
      ],
      "text/plain": [
       "Matrix([\n",
       "[-4, -3,  5],\n",
       "[ 2,  1, -2],\n",
       "[-1,  0,  1]])"
      ]
     },
     "execution_count": 24,
     "metadata": {},
     "output_type": "execute_result"
    }
   ],
   "source": [
    "Matrix(linalg.inv(a).astype(int))"
   ]
  },
  {
   "cell_type": "code",
   "execution_count": 29,
   "metadata": {},
   "outputs": [
    {
     "data": {
      "text/latex": [
       "$\\displaystyle \\left[\\begin{matrix}1 & 3 & 1 & 1 & 0 & 0\\\\0 & 1 & 2 & 0 & 1 & 0\\\\1 & 3 & 2 & 0 & 0 & 1\\end{matrix}\\right]$"
      ],
      "text/plain": [
       "Matrix([\n",
       "[1, 3, 1, 1, 0, 0],\n",
       "[0, 1, 2, 0, 1, 0],\n",
       "[1, 3, 2, 0, 0, 1]])"
      ]
     },
     "execution_count": 29,
     "metadata": {},
     "output_type": "execute_result"
    }
   ],
   "source": [
    "t = augment(a)\n",
    "Matrix(t.astype(int))"
   ]
  },
  {
   "cell_type": "code",
   "execution_count": 30,
   "metadata": {},
   "outputs": [
    {
     "data": {
      "text/latex": [
       "$\\displaystyle \\left[\\begin{matrix}1 & 3 & 1 & 1 & 0 & 0\\\\0 & 1 & 2 & 0 & 1 & 0\\\\0 & 0 & 1 & -1 & 0 & 1\\end{matrix}\\right]$"
      ],
      "text/plain": [
       "Matrix([\n",
       "[1, 3, 1,  1, 0, 0],\n",
       "[0, 1, 2,  0, 1, 0],\n",
       "[0, 0, 1, -1, 0, 1]])"
      ]
     },
     "execution_count": 30,
     "metadata": {},
     "output_type": "execute_result"
    }
   ],
   "source": [
    "t = el(3,1,1) @ t\n",
    "Matrix(t.astype(int))"
   ]
  },
  {
   "cell_type": "code",
   "execution_count": 31,
   "metadata": {},
   "outputs": [
    {
     "data": {
      "text/latex": [
       "$\\displaystyle \\left[\\begin{matrix}1 & 3 & 1 & 1 & 0 & 0\\\\0 & 1 & 0 & 2 & 1 & -2\\\\0 & 0 & 1 & -1 & 0 & 1\\end{matrix}\\right]$"
      ],
      "text/plain": [
       "Matrix([\n",
       "[1, 3, 1,  1, 0,  0],\n",
       "[0, 1, 0,  2, 1, -2],\n",
       "[0, 0, 1, -1, 0,  1]])"
      ]
     },
     "execution_count": 31,
     "metadata": {},
     "output_type": "execute_result"
    }
   ],
   "source": [
    "t = el(2,2,3) @ t\n",
    "Matrix(t.astype(int))"
   ]
  },
  {
   "cell_type": "code",
   "execution_count": 32,
   "metadata": {},
   "outputs": [
    {
     "data": {
      "text/latex": [
       "$\\displaystyle \\left[\\begin{matrix}1 & 3 & 0 & 2 & 0 & -1\\\\0 & 1 & 0 & 2 & 1 & -2\\\\0 & 0 & 1 & -1 & 0 & 1\\end{matrix}\\right]$"
      ],
      "text/plain": [
       "Matrix([\n",
       "[1, 3, 0,  2, 0, -1],\n",
       "[0, 1, 0,  2, 1, -2],\n",
       "[0, 0, 1, -1, 0,  1]])"
      ]
     },
     "execution_count": 32,
     "metadata": {},
     "output_type": "execute_result"
    }
   ],
   "source": [
    "t = el(1,1,3) @ t\n",
    "Matrix(t.astype(int))"
   ]
  },
  {
   "cell_type": "code",
   "execution_count": 33,
   "metadata": {},
   "outputs": [
    {
     "data": {
      "text/latex": [
       "$\\displaystyle \\left[\\begin{matrix}1 & 0 & 0 & -4 & -3 & 5\\\\0 & 1 & 0 & 2 & 1 & -2\\\\0 & 0 & 1 & -1 & 0 & 1\\end{matrix}\\right]$"
      ],
      "text/plain": [
       "Matrix([\n",
       "[1, 0, 0, -4, -3,  5],\n",
       "[0, 1, 0,  2,  1, -2],\n",
       "[0, 0, 1, -1,  0,  1]])"
      ]
     },
     "execution_count": 33,
     "metadata": {},
     "output_type": "execute_result"
    }
   ],
   "source": [
    "t = el(1,3,2) @ t\n",
    "Matrix(t.astype(int))"
   ]
  },
  {
   "cell_type": "code",
   "execution_count": 51,
   "metadata": {},
   "outputs": [
    {
     "data": {
      "text/latex": [
       "$\\displaystyle \\left[\\begin{matrix}3 & 2 & 2\\\\-3 & -4 & -3\\\\-4 & -3 & -3\\end{matrix}\\right]$"
      ],
      "text/plain": [
       "Matrix([\n",
       "[ 3,  2,  2],\n",
       "[-3, -4, -3],\n",
       "[-4, -3, -3]])"
      ]
     },
     "execution_count": 51,
     "metadata": {},
     "output_type": "execute_result"
    }
   ],
   "source": [
    "# b\n",
    "\n",
    "a = np.array([3, 2, 2, -3, -4, -3, -4, -3, -3]).reshape(3,3)\n",
    "Matrix(a)"
   ]
  },
  {
   "cell_type": "code",
   "execution_count": 52,
   "metadata": {},
   "outputs": [
    {
     "data": {
      "text/latex": [
       "$\\displaystyle \\left[\\begin{matrix}3 & 0 & 2\\\\3 & -1 & 3\\\\-7 & 1 & -6\\end{matrix}\\right]$"
      ],
      "text/plain": [
       "Matrix([\n",
       "[ 3,  0,  2],\n",
       "[ 3, -1,  3],\n",
       "[-7,  1, -6]])"
      ]
     },
     "execution_count": 52,
     "metadata": {},
     "output_type": "execute_result"
    }
   ],
   "source": [
    "Matrix(linalg.inv(a).astype(int))"
   ]
  },
  {
   "cell_type": "code",
   "execution_count": 53,
   "metadata": {},
   "outputs": [
    {
     "data": {
      "text/latex": [
       "$\\displaystyle \\left[\\begin{matrix}3 & 2 & 2 & 1 & 0 & 0\\\\-3 & -4 & -3 & 0 & 1 & 0\\\\-4 & -3 & -3 & 0 & 0 & 1\\end{matrix}\\right]$"
      ],
      "text/plain": [
       "Matrix([\n",
       "[ 3,  2,  2, 1, 0, 0],\n",
       "[-3, -4, -3, 0, 1, 0],\n",
       "[-4, -3, -3, 0, 0, 1]])"
      ]
     },
     "execution_count": 53,
     "metadata": {},
     "output_type": "execute_result"
    }
   ],
   "source": [
    "t = augment(a)\n",
    "Matrix(t.astype(int))"
   ]
  },
  {
   "cell_type": "code",
   "execution_count": 54,
   "metadata": {},
   "outputs": [
    {
     "data": {
      "text/latex": [
       "$\\displaystyle \\left[\\begin{matrix}3 & 2 & 2 & 1 & 0 & 0\\\\0 & -2 & -1 & 1 & 1 & 0\\\\-4 & -3 & -3 & 0 & 0 & 1\\end{matrix}\\right]$"
      ],
      "text/plain": [
       "Matrix([\n",
       "[ 3,  2,  2, 1, 0, 0],\n",
       "[ 0, -2, -1, 1, 1, 0],\n",
       "[-4, -3, -3, 0, 0, 1]])"
      ]
     },
     "execution_count": 54,
     "metadata": {},
     "output_type": "execute_result"
    }
   ],
   "source": [
    "t = el(2,-1,1) @ t\n",
    "Matrix(t.astype(int))"
   ]
  },
  {
   "cell_type": "code",
   "execution_count": 55,
   "metadata": {},
   "outputs": [
    {
     "data": {
      "text/latex": [
       "$\\displaystyle \\left[\\begin{matrix}3 & 2 & 2 & 1 & 0 & 0\\\\0 & -2 & -1 & 1 & 1 & 0\\\\0 & -1 & -1 & 4 & 0 & 3\\end{matrix}\\right]$"
      ],
      "text/plain": [
       "Matrix([\n",
       "[3,  2,  2, 1, 0, 0],\n",
       "[0, -2, -1, 1, 1, 0],\n",
       "[0, -1, -1, 4, 0, 3]])"
      ]
     },
     "execution_count": 55,
     "metadata": {},
     "output_type": "execute_result"
    }
   ],
   "source": [
    "t = ele(3,3,-4,1) @ t\n",
    "Matrix(t.astype(int))"
   ]
  },
  {
   "cell_type": "code",
   "execution_count": 56,
   "metadata": {},
   "outputs": [
    {
     "data": {
      "text/latex": [
       "$\\displaystyle \\left[\\begin{matrix}3 & 2 & 2 & 1 & 0 & 0\\\\0 & -2 & -1 & 1 & 1 & 0\\\\0 & 0 & -1 & 7 & -1 & 6\\end{matrix}\\right]$"
      ],
      "text/plain": [
       "Matrix([\n",
       "[3,  2,  2, 1,  0, 0],\n",
       "[0, -2, -1, 1,  1, 0],\n",
       "[0,  0, -1, 7, -1, 6]])"
      ]
     },
     "execution_count": 56,
     "metadata": {},
     "output_type": "execute_result"
    }
   ],
   "source": [
    "t = ele(2,3,1,2) @ t\n",
    "Matrix(t.astype(int))"
   ]
  },
  {
   "cell_type": "code",
   "execution_count": 57,
   "metadata": {},
   "outputs": [
    {
     "data": {
      "text/latex": [
       "$\\displaystyle \\left[\\begin{matrix}3 & 2 & 2 & 1 & 0 & 0\\\\0 & -2 & 0 & -6 & 2 & -6\\\\0 & 0 & -1 & 7 & -1 & 6\\end{matrix}\\right]$"
      ],
      "text/plain": [
       "Matrix([\n",
       "[3,  2,  2,  1,  0,  0],\n",
       "[0, -2,  0, -6,  2, -6],\n",
       "[0,  0, -1,  7, -1,  6]])"
      ]
     },
     "execution_count": 57,
     "metadata": {},
     "output_type": "execute_result"
    }
   ],
   "source": [
    "t = el(2,1,3) @ t\n",
    "Matrix(t.astype(int))"
   ]
  },
  {
   "cell_type": "code",
   "execution_count": 58,
   "metadata": {},
   "outputs": [
    {
     "data": {
      "text/latex": [
       "$\\displaystyle \\left[\\begin{matrix}3 & 2 & 0 & 15 & -2 & 12\\\\0 & -2 & 0 & -6 & 2 & -6\\\\0 & 0 & -1 & 7 & -1 & 6\\end{matrix}\\right]$"
      ],
      "text/plain": [
       "Matrix([\n",
       "[3,  2,  0, 15, -2, 12],\n",
       "[0, -2,  0, -6,  2, -6],\n",
       "[0,  0, -1,  7, -1,  6]])"
      ]
     },
     "execution_count": 58,
     "metadata": {},
     "output_type": "execute_result"
    }
   ],
   "source": [
    "t = el(1,-2,3) @ t\n",
    "Matrix(t.astype(int))"
   ]
  },
  {
   "cell_type": "code",
   "execution_count": 59,
   "metadata": {},
   "outputs": [
    {
     "data": {
      "text/latex": [
       "$\\displaystyle \\left[\\begin{matrix}3 & 0 & 0 & 9 & 0 & 6\\\\0 & -2 & 0 & -6 & 2 & -6\\\\0 & 0 & -1 & 7 & -1 & 6\\end{matrix}\\right]$"
      ],
      "text/plain": [
       "Matrix([\n",
       "[3,  0,  0,  9,  0,  6],\n",
       "[0, -2,  0, -6,  2, -6],\n",
       "[0,  0, -1,  7, -1,  6]])"
      ]
     },
     "execution_count": 59,
     "metadata": {},
     "output_type": "execute_result"
    }
   ],
   "source": [
    "t = el(1,-1,2) @ t\n",
    "Matrix(t.astype(int))"
   ]
  },
  {
   "cell_type": "code",
   "execution_count": 60,
   "metadata": {},
   "outputs": [
    {
     "data": {
      "text/latex": [
       "$\\displaystyle \\left[\\begin{matrix}1 & 0 & 0 & 3 & 0 & 2\\\\0 & 1 & 0 & 3 & -1 & 3\\\\0 & 0 & 1 & -7 & 1 & -6\\end{matrix}\\right]$"
      ],
      "text/plain": [
       "Matrix([\n",
       "[1, 0, 0,  3,  0,  2],\n",
       "[0, 1, 0,  3, -1,  3],\n",
       "[0, 0, 1, -7,  1, -6]])"
      ]
     },
     "execution_count": 60,
     "metadata": {},
     "output_type": "execute_result"
    }
   ],
   "source": [
    "t = rm(1,1/3) @ t\n",
    "t = rm(2,-1/2) @ t \n",
    "t = rm(3,-1) @ t \n",
    "Matrix(t.astype(int))"
   ]
  },
  {
   "cell_type": "markdown",
   "metadata": {},
   "source": [
    "### A7\n",
    "Permutationen"
   ]
  },
  {
   "cell_type": "code",
   "execution_count": 73,
   "metadata": {},
   "outputs": [
    {
     "data": {
      "text/latex": [
       "$\\displaystyle \\left[\\begin{matrix}1 & 0 & 0 & 0 & 0\\\\0 & 1 & 0 & 0 & 0\\\\0 & 0 & 1 & 0 & 0\\\\0 & 0 & 0 & 1 & 0\\\\0 & 0 & 0 & 0 & 1\\end{matrix}\\right]$"
      ],
      "text/plain": [
       "Matrix([\n",
       "[1, 0, 0, 0, 0],\n",
       "[0, 1, 0, 0, 0],\n",
       "[0, 0, 1, 0, 0],\n",
       "[0, 0, 0, 1, 0],\n",
       "[0, 0, 0, 0, 1]])"
      ]
     },
     "execution_count": 73,
     "metadata": {},
     "output_type": "execute_result"
    }
   ],
   "source": [
    "a = np.identity(5).astype(int)\n",
    "Matrix(a)"
   ]
  },
  {
   "cell_type": "code",
   "execution_count": 76,
   "metadata": {},
   "outputs": [
    {
     "data": {
      "text/latex": [
       "$\\displaystyle \\left[\\begin{matrix}0 & 0 & 0 & 1 & 0\\\\0 & 0 & 1 & 0 & 0\\\\0 & 0 & 0 & 0 & 1\\\\1 & 0 & 0 & 0 & 0\\\\0 & 1 & 0 & 0 & 0\\end{matrix}\\right]$"
      ],
      "text/plain": [
       "Matrix([\n",
       "[0, 0, 0, 1, 0],\n",
       "[0, 0, 1, 0, 0],\n",
       "[0, 0, 0, 0, 1],\n",
       "[1, 0, 0, 0, 0],\n",
       "[0, 1, 0, 0, 0]])"
      ]
     },
     "execution_count": 76,
     "metadata": {},
     "output_type": "execute_result"
    }
   ],
   "source": [
    "# a.\n",
    "Matrix(permut(2,3,5) @ permut(5,2,5) @ permut(1,4,5))"
   ]
  },
  {
   "cell_type": "code",
   "execution_count": 78,
   "metadata": {},
   "outputs": [
    {
     "data": {
      "text/latex": [
       "$\\displaystyle \\left[\\begin{matrix}0 & 0 & 1 & 0 & 0\\\\0 & 1 & 0 & 0 & 0\\\\1 & 0 & 0 & 0 & 0\\\\0 & 0 & 0 & 0 & 1\\\\0 & 0 & 0 & 1 & 0\\end{matrix}\\right]$"
      ],
      "text/plain": [
       "Matrix([\n",
       "[0, 0, 1, 0, 0],\n",
       "[0, 1, 0, 0, 0],\n",
       "[1, 0, 0, 0, 0],\n",
       "[0, 0, 0, 0, 1],\n",
       "[0, 0, 0, 1, 0]])"
      ]
     },
     "execution_count": 78,
     "metadata": {},
     "output_type": "execute_result"
    }
   ],
   "source": [
    "# b.\n",
    "Matrix(permut(4,5,5) @ permut(1,3,5)) "
   ]
  },
  {
   "cell_type": "markdown",
   "metadata": {},
   "source": [
    "### A8\n",
    "\n",
    "Alle Lösungen von Ax = b"
   ]
  },
  {
   "cell_type": "code",
   "execution_count": 48,
   "metadata": {},
   "outputs": [
    {
     "data": {
      "text/plain": [
       "(array([[1, 3, 0, 2],\n",
       "        [0, 0, 1, 4],\n",
       "        [1, 3, 1, 6]]),\n",
       " array([[1],\n",
       "        [6],\n",
       "        [7]]))"
      ]
     },
     "execution_count": 48,
     "metadata": {},
     "output_type": "execute_result"
    }
   ],
   "source": [
    "# a.\n",
    "a = np.array([1,3,0,2,0,0,1,4,1,3,1,6]).reshape(3,4)\n",
    "Matrix(a)\n",
    "b = np.array([1,6,7]).reshape(3,1)\n",
    "a, b"
   ]
  },
  {
   "cell_type": "code",
   "execution_count": 49,
   "metadata": {},
   "outputs": [
    {
     "data": {
      "text/plain": [
       "[Matrix([\n",
       " [-3],\n",
       " [ 1],\n",
       " [ 0],\n",
       " [ 0]]),\n",
       " Matrix([\n",
       " [-2],\n",
       " [ 0],\n",
       " [-4],\n",
       " [ 1]])]"
      ]
     },
     "execution_count": 49,
     "metadata": {},
     "output_type": "execute_result"
    }
   ],
   "source": [
    "Matrix(a).nullspace()"
   ]
  },
  {
   "cell_type": "code",
   "execution_count": 34,
   "metadata": {},
   "outputs": [
    {
     "data": {
      "text/latex": [
       "$\\displaystyle \\left\\{\\left( - 3 \\tau_{0} - 2 \\tau_{1} + 1, \\  \\tau_{0}, \\  6 - 4 \\tau_{1}, \\  \\tau_{1}\\right)\\right\\}$"
      ],
      "text/plain": [
       "FiniteSet((-3*tau0 - 2*tau1 + 1, tau0, 6 - 4*tau1, tau1))"
      ]
     },
     "execution_count": 34,
     "metadata": {},
     "output_type": "execute_result"
    }
   ],
   "source": [
    "linsolve((Matrix(a),Matrix(b)))"
   ]
  },
  {
   "cell_type": "code",
   "execution_count": 51,
   "metadata": {},
   "outputs": [
    {
     "data": {
      "text/latex": [
       "$\\displaystyle \\left[\\begin{matrix}1 & 3 & 0 & 2 & 1\\\\0 & 0 & 1 & 4 & 6\\\\1 & 3 & 1 & 6 & 7\\end{matrix}\\right]$"
      ],
      "text/plain": [
       "Matrix([\n",
       "[1, 3, 0, 2, 1],\n",
       "[0, 0, 1, 4, 6],\n",
       "[1, 3, 1, 6, 7]])"
      ]
     },
     "execution_count": 51,
     "metadata": {},
     "output_type": "execute_result"
    }
   ],
   "source": [
    "t = np.append(a,b,axis=1)\n",
    "Matrix(t)"
   ]
  },
  {
   "cell_type": "code",
   "execution_count": 52,
   "metadata": {},
   "outputs": [
    {
     "data": {
      "text/latex": [
       "$\\displaystyle \\left[\\begin{matrix}1 & 3 & 0 & 2 & 1\\\\0 & 0 & 1 & 4 & 6\\\\0 & 0 & 1 & 4 & 6\\end{matrix}\\right]$"
      ],
      "text/plain": [
       "Matrix([\n",
       "[1, 3, 0, 2, 1],\n",
       "[0, 0, 1, 4, 6],\n",
       "[0, 0, 1, 4, 6]])"
      ]
     },
     "execution_count": 52,
     "metadata": {},
     "output_type": "execute_result"
    }
   ],
   "source": [
    "t = el(3,1,1) @ t\n",
    "Matrix(t)"
   ]
  },
  {
   "cell_type": "code",
   "execution_count": 53,
   "metadata": {},
   "outputs": [
    {
     "data": {
      "text/latex": [
       "$\\displaystyle \\left[\\begin{matrix}1 & 3 & 0 & 2 & 1\\\\0 & 0 & 1 & 4 & 6\\\\0 & 0 & 0 & 0 & 0\\end{matrix}\\right]$"
      ],
      "text/plain": [
       "Matrix([\n",
       "[1, 3, 0, 2, 1],\n",
       "[0, 0, 1, 4, 6],\n",
       "[0, 0, 0, 0, 0]])"
      ]
     },
     "execution_count": 53,
     "metadata": {},
     "output_type": "execute_result"
    }
   ],
   "source": [
    "t = el(3,1,2) @ t\n",
    "Matrix(t)"
   ]
  },
  {
   "cell_type": "code",
   "execution_count": 39,
   "metadata": {},
   "outputs": [
    {
     "data": {
      "text/plain": [
       "[Matrix([\n",
       " [-2],\n",
       " [ 1],\n",
       " [ 0],\n",
       " [ 0]]),\n",
       " Matrix([\n",
       " [-2],\n",
       " [ 0],\n",
       " [-1],\n",
       " [ 1]])]"
      ]
     },
     "execution_count": 39,
     "metadata": {},
     "output_type": "execute_result"
    }
   ],
   "source": [
    "# b. \n",
    "a = np.array([1,2,3,5,2,4,8,12,3,6,7,13]).reshape(3,4)\n",
    "b = np.array([0,6,-6]).reshape(3,1)\n",
    "\n",
    "Matrix(a).nullspace()"
   ]
  },
  {
   "cell_type": "code",
   "execution_count": 44,
   "metadata": {},
   "outputs": [
    {
     "data": {
      "text/latex": [
       "$\\displaystyle \\left[\\begin{matrix}1 & 2 & 3 & 5 & 0\\\\2 & 4 & 8 & 12 & 6\\\\3 & 6 & 7 & 13 & -6\\end{matrix}\\right]$"
      ],
      "text/plain": [
       "Matrix([\n",
       "[1, 2, 3,  5,  0],\n",
       "[2, 4, 8, 12,  6],\n",
       "[3, 6, 7, 13, -6]])"
      ]
     },
     "execution_count": 44,
     "metadata": {},
     "output_type": "execute_result"
    }
   ],
   "source": [
    "t = np.append(a,b,axis=1)\n",
    "Matrix(t)"
   ]
  },
  {
   "cell_type": "code",
   "execution_count": 45,
   "metadata": {},
   "outputs": [
    {
     "data": {
      "text/latex": [
       "$\\displaystyle \\left[\\begin{matrix}1 & 2 & 3 & 5 & 0\\\\0 & 0 & 2 & 2 & 6\\\\3 & 6 & 7 & 13 & -6\\end{matrix}\\right]$"
      ],
      "text/plain": [
       "Matrix([\n",
       "[1, 2, 3,  5,  0],\n",
       "[0, 0, 2,  2,  6],\n",
       "[3, 6, 7, 13, -6]])"
      ]
     },
     "execution_count": 45,
     "metadata": {},
     "output_type": "execute_result"
    }
   ],
   "source": [
    "t = el(2,2,1) @ t\n",
    "Matrix(t)"
   ]
  },
  {
   "cell_type": "code",
   "execution_count": 46,
   "metadata": {},
   "outputs": [
    {
     "data": {
      "text/latex": [
       "$\\displaystyle \\left[\\begin{matrix}1 & 2 & 3 & 5 & 0\\\\0 & 0 & 2 & 2 & 6\\\\0 & 0 & -2 & -2 & -6\\end{matrix}\\right]$"
      ],
      "text/plain": [
       "Matrix([\n",
       "[1, 2,  3,  5,  0],\n",
       "[0, 0,  2,  2,  6],\n",
       "[0, 0, -2, -2, -6]])"
      ]
     },
     "execution_count": 46,
     "metadata": {},
     "output_type": "execute_result"
    }
   ],
   "source": [
    "t = el(3,3,1) @ t\n",
    "Matrix(t)"
   ]
  },
  {
   "cell_type": "code",
   "execution_count": 47,
   "metadata": {},
   "outputs": [
    {
     "data": {
      "text/latex": [
       "$\\displaystyle \\left[\\begin{matrix}1 & 2 & 3 & 5 & 0\\\\0 & 0 & 2 & 2 & 6\\\\0 & 0 & 0 & 0 & 0\\end{matrix}\\right]$"
      ],
      "text/plain": [
       "Matrix([\n",
       "[1, 2, 3, 5, 0],\n",
       "[0, 0, 2, 2, 6],\n",
       "[0, 0, 0, 0, 0]])"
      ]
     },
     "execution_count": 47,
     "metadata": {},
     "output_type": "execute_result"
    }
   ],
   "source": [
    "t = el(3,-1,2) @ t\n",
    "Matrix(t)"
   ]
  },
  {
   "cell_type": "code",
   "execution_count": 15,
   "metadata": {},
   "outputs": [
    {
     "data": {
      "text/latex": [
       "$\\displaystyle \\left\\{\\left( - 2 \\tau_{0} - 2 \\tau_{1} - 9, \\  \\tau_{0}, \\  3 - \\tau_{1}, \\  \\tau_{1}\\right)\\right\\}$"
      ],
      "text/plain": [
       "FiniteSet((-2*tau0 - 2*tau1 - 9, tau0, 3 - tau1, tau1))"
      ]
     },
     "execution_count": 15,
     "metadata": {},
     "output_type": "execute_result"
    }
   ],
   "source": [
    "linsolve((Matrix(a),Matrix(b)))"
   ]
  },
  {
   "cell_type": "markdown",
   "metadata": {},
   "source": [
    "### A9\n",
    "\n",
    "Dimension von Kern und Bild bestimmen"
   ]
  },
  {
   "cell_type": "code",
   "execution_count": 63,
   "metadata": {},
   "outputs": [
    {
     "data": {
      "text/latex": [
       "$\\displaystyle \\left[\\begin{matrix}3 & 1 & 4 & 3 & -4\\\\1 & 1 & 0 & -1 & 2\\\\2 & -1 & 6 & 7 & -11\\\\-1 & 2 & -6 & -8 & 13\\end{matrix}\\right]$"
      ],
      "text/plain": [
       "Matrix([\n",
       "[ 3,  1,  4,  3,  -4],\n",
       "[ 1,  1,  0, -1,   2],\n",
       "[ 2, -1,  6,  7, -11],\n",
       "[-1,  2, -6, -8,  13]])"
      ]
     },
     "execution_count": 63,
     "metadata": {},
     "output_type": "execute_result"
    }
   ],
   "source": [
    "#a.\n",
    "\n",
    "v1 = np.array([3,1,2,-1])\n",
    "v2 = np.array([1,1,-1,2])\n",
    "v3 = 2*v1-2*v2\n",
    "v4 = 2*v3+v2-2*v1\n",
    "v5 = 2*v2-v4-v1\n",
    "a = np.array([v1,v2,v3,v4,v5])\n",
    "a = a.T\n",
    "Matrix(a)"
   ]
  },
  {
   "cell_type": "code",
   "execution_count": 64,
   "metadata": {},
   "outputs": [
    {
     "data": {
      "text/latex": [
       "$\\displaystyle \\left[\\begin{matrix}1 & 0 & 2 & 2 & -3\\\\0 & 1 & -2 & -3 & 5\\\\0 & 0 & 0 & 0 & 0\\\\0 & 0 & 0 & 0 & 0\\end{matrix}\\right]$"
      ],
      "text/plain": [
       "Matrix([\n",
       "[1, 0,  2,  2, -3],\n",
       "[0, 1, -2, -3,  5],\n",
       "[0, 0,  0,  0,  0],\n",
       "[0, 0,  0,  0,  0]])"
      ]
     },
     "execution_count": 64,
     "metadata": {},
     "output_type": "execute_result"
    }
   ],
   "source": [
    "Matrix(a).rref()[0]"
   ]
  },
  {
   "cell_type": "code",
   "execution_count": 65,
   "metadata": {},
   "outputs": [
    {
     "data": {
      "text/plain": [
       "[Matrix([\n",
       " [-2],\n",
       " [ 2],\n",
       " [ 1],\n",
       " [ 0],\n",
       " [ 0]]),\n",
       " Matrix([\n",
       " [-2],\n",
       " [ 3],\n",
       " [ 0],\n",
       " [ 1],\n",
       " [ 0]]),\n",
       " Matrix([\n",
       " [ 3],\n",
       " [-5],\n",
       " [ 0],\n",
       " [ 0],\n",
       " [ 1]])]"
      ]
     },
     "execution_count": 65,
     "metadata": {},
     "output_type": "execute_result"
    }
   ],
   "source": [
    "Matrix(a).nullspace()"
   ]
  },
  {
   "cell_type": "code",
   "execution_count": 76,
   "metadata": {},
   "outputs": [
    {
     "data": {
      "text/latex": [
       "$\\displaystyle \\left[\\begin{matrix}2 & 3 & -4 & 2\\\\1 & 0 & 1 & 1\\\\2 & -1 & 4 & -1\\\\-1 & -2 & 3 & 2\\end{matrix}\\right]$"
      ],
      "text/plain": [
       "Matrix([\n",
       "[ 2,  3, -4,  2],\n",
       "[ 1,  0,  1,  1],\n",
       "[ 2, -1,  4, -1],\n",
       "[-1, -2,  3,  2]])"
      ]
     },
     "execution_count": 76,
     "metadata": {},
     "output_type": "execute_result"
    }
   ],
   "source": [
    "# b\n",
    "\n",
    "v1 = np.array([2,1,2,-1])\n",
    "v2 = np.array([3,0,-1,-2])\n",
    "v3 = v1 -2*v2\n",
    "v4 = np.array([2,1,-1,2])\n",
    " \n",
    "a = np.array([v1,v2,v3,v4])\n",
    "a = a.T\n",
    "Matrix(a)"
   ]
  },
  {
   "cell_type": "code",
   "execution_count": 77,
   "metadata": {},
   "outputs": [
    {
     "data": {
      "text/latex": [
       "$\\displaystyle \\left[\\begin{matrix}1 & 0 & 1 & 0\\\\0 & 1 & -2 & 0\\\\0 & 0 & 0 & 1\\\\0 & 0 & 0 & 0\\end{matrix}\\right]$"
      ],
      "text/plain": [
       "Matrix([\n",
       "[1, 0,  1, 0],\n",
       "[0, 1, -2, 0],\n",
       "[0, 0,  0, 1],\n",
       "[0, 0,  0, 0]])"
      ]
     },
     "execution_count": 77,
     "metadata": {},
     "output_type": "execute_result"
    }
   ],
   "source": [
    "Matrix(a).rref()[0]"
   ]
  },
  {
   "cell_type": "code",
   "execution_count": 78,
   "metadata": {},
   "outputs": [
    {
     "data": {
      "text/plain": [
       "[Matrix([\n",
       " [-1],\n",
       " [ 2],\n",
       " [ 1],\n",
       " [ 0]])]"
      ]
     },
     "execution_count": 78,
     "metadata": {},
     "output_type": "execute_result"
    }
   ],
   "source": [
    "Matrix(a).nullspace()"
   ]
  },
  {
   "cell_type": "markdown",
   "metadata": {},
   "source": [
    "### Elimination als Matrixoperationen"
   ]
  },
  {
   "cell_type": "code",
   "execution_count": 112,
   "metadata": {},
   "outputs": [
    {
     "data": {
      "text/latex": [
       "$\\displaystyle \\left[\\begin{matrix}1 & 0 & 0\\\\0 & 0 & 1\\\\0 & 1 & 0\\end{matrix}\\right]$"
      ],
      "text/plain": [
       "Matrix([\n",
       "[1, 0, 0],\n",
       "[0, 0, 1],\n",
       "[0, 1, 0]])"
      ]
     },
     "execution_count": 112,
     "metadata": {},
     "output_type": "execute_result"
    }
   ],
   "source": [
    "t = Matrix(permut(2,3,3))\n",
    "t"
   ]
  },
  {
   "cell_type": "code",
   "execution_count": null,
   "metadata": {},
   "outputs": [],
   "source": [
    "t = per"
   ]
  },
  {
   "cell_type": "code",
   "execution_count": 27,
   "metadata": {},
   "outputs": [
    {
     "data": {
      "text/latex": [
       "$\\displaystyle \\left[\\begin{matrix}1 & 2 & 1 & 3\\\\0 & 3 & 2 & 1\\\\0 & 0 & 1 & 2\\\\0 & 0 & 0 & 3\\end{matrix}\\right]$"
      ],
      "text/plain": [
       "Matrix([\n",
       "[1, 2, 1, 3],\n",
       "[0, 3, 2, 1],\n",
       "[0, 0, 1, 2],\n",
       "[0, 0, 0, 3]])"
      ]
     },
     "execution_count": 27,
     "metadata": {},
     "output_type": "execute_result"
    }
   ],
   "source": [
    "l = np.array([1,2,1,3,0,3,2,1,0,0,1,2,0,0,0,3]).reshape(4,4)\n",
    "L = Matrix(l)\n",
    "L"
   ]
  },
  {
   "cell_type": "code",
   "execution_count": 28,
   "metadata": {},
   "outputs": [
    {
     "data": {
      "text/latex": [
       "$\\displaystyle \\left[\\begin{matrix}1 & 0 & 0 & 0\\\\-2 & 1 & 0 & 0\\\\0 & 0 & 1 & 0\\\\0 & 0 & 0 & 1\\end{matrix}\\right]$"
      ],
      "text/plain": [
       "Matrix([\n",
       "[ 1, 0, 0, 0],\n",
       "[-2, 1, 0, 0],\n",
       "[ 0, 0, 1, 0],\n",
       "[ 0, 0, 0, 1]])"
      ]
     },
     "execution_count": 28,
     "metadata": {},
     "output_type": "execute_result"
    }
   ],
   "source": [
    "e21 = np.identity(4)\n",
    "e21[1,0]=-2\n",
    "e21 = e21.astype(int)\n",
    "E21 = Matrix(e21)\n",
    "E21"
   ]
  },
  {
   "cell_type": "code",
   "execution_count": 29,
   "metadata": {},
   "outputs": [
    {
     "data": {
      "text/latex": [
       "$\\displaystyle \\left[\\begin{matrix}1 & 0 & 0 & 0\\\\0 & 1 & 0 & 0\\\\0 & 0 & 0 & 1\\\\0 & 0 & 1 & 0\\end{matrix}\\right]$"
      ],
      "text/plain": [
       "Matrix([\n",
       "[1, 0, 0, 0],\n",
       "[0, 1, 0, 0],\n",
       "[0, 0, 0, 1],\n",
       "[0, 0, 1, 0]])"
      ]
     },
     "execution_count": 29,
     "metadata": {},
     "output_type": "execute_result"
    }
   ],
   "source": [
    "p34 = np.array([1,0,0,0,0,1,0,0,0,0,0,1,0,0,1,0]).reshape(4,4)\n",
    "P34 = Matrix(p34)\n",
    "P34"
   ]
  },
  {
   "cell_type": "code",
   "execution_count": 30,
   "metadata": {},
   "outputs": [
    {
     "data": {
      "text/latex": [
       "$\\displaystyle \\left[\\begin{matrix}1 & 0 & 0 & 0\\\\0 & 1 & 0 & 0\\\\0 & 3 & 1 & 0\\\\0 & 0 & 0 & 1\\end{matrix}\\right]$"
      ],
      "text/plain": [
       "Matrix([\n",
       "[1, 0, 0, 0],\n",
       "[0, 1, 0, 0],\n",
       "[0, 3, 1, 0],\n",
       "[0, 0, 0, 1]])"
      ]
     },
     "execution_count": 30,
     "metadata": {},
     "output_type": "execute_result"
    }
   ],
   "source": [
    "e32 = np.identity(4)\n",
    "e32[2,1]= 3\n",
    "e32 = e32.astype(int)\n",
    "E32 = Matrix(e32)\n",
    "E32"
   ]
  },
  {
   "cell_type": "code",
   "execution_count": 75,
   "metadata": {},
   "outputs": [
    {
     "data": {
      "text/latex": [
       "$\\displaystyle \\left[\\begin{matrix}1 & 2 & 1 & 3\\\\2 & 7 & 4 & 7\\\\0 & -9 & -6 & 0\\\\0 & 0 & 1 & 2\\end{matrix}\\right]$"
      ],
      "text/plain": [
       "Matrix([\n",
       "[1,  2,  1, 3],\n",
       "[2,  7,  4, 7],\n",
       "[0, -9, -6, 0],\n",
       "[0,  0,  1, 2]])"
      ]
     },
     "execution_count": 75,
     "metadata": {},
     "output_type": "execute_result"
    }
   ],
   "source": [
    "A = E21.inv() * E32.inv() * P34.inv() * L\n",
    "A"
   ]
  },
  {
   "cell_type": "code",
   "execution_count": 91,
   "metadata": {},
   "outputs": [
    {
     "data": {
      "text/plain": [
       "array([[ 1,  2,  1,  3],\n",
       "       [ 2,  7,  4,  7],\n",
       "       [ 0, -9, -6,  0],\n",
       "       [ 0,  0,  1,  2]])"
      ]
     },
     "execution_count": 91,
     "metadata": {},
     "output_type": "execute_result"
    }
   ],
   "source": [
    "t = np.array(A).astype(int)\n",
    "t"
   ]
  },
  {
   "cell_type": "code",
   "execution_count": 92,
   "metadata": {},
   "outputs": [
    {
     "data": {
      "text/plain": [
       "array([[ 1.,  2.,  1.,  3.],\n",
       "       [ 0.,  3.,  2.,  1.],\n",
       "       [ 0., -9., -6.,  0.],\n",
       "       [ 0.,  0.,  1.,  2.]])"
      ]
     },
     "execution_count": 92,
     "metadata": {},
     "output_type": "execute_result"
    }
   ],
   "source": [
    "t = ele(1,2,2,1,n=4) @ t\n",
    "t"
   ]
  },
  {
   "cell_type": "code",
   "execution_count": 93,
   "metadata": {},
   "outputs": [
    {
     "data": {
      "text/plain": [
       "array([[1., 2., 1., 3.],\n",
       "       [0., 3., 2., 1.],\n",
       "       [0., 0., 0., 3.],\n",
       "       [0., 0., 1., 2.]])"
      ]
     },
     "execution_count": 93,
     "metadata": {},
     "output_type": "execute_result"
    }
   ],
   "source": [
    "t = ele(1,3,-3,2,n=4) @ t\n",
    "t"
   ]
  },
  {
   "cell_type": "code",
   "execution_count": 95,
   "metadata": {},
   "outputs": [
    {
     "data": {
      "text/plain": [
       "array([[1., 2., 1., 3.],\n",
       "       [0., 3., 2., 1.],\n",
       "       [0., 0., 1., 2.],\n",
       "       [0., 0., 0., 3.]])"
      ]
     },
     "execution_count": 95,
     "metadata": {},
     "output_type": "execute_result"
    }
   ],
   "source": [
    "t = permut(3,4,4) @ t\n",
    "t"
   ]
  },
  {
   "cell_type": "code",
   "execution_count": 100,
   "metadata": {},
   "outputs": [
    {
     "data": {
      "text/plain": [
       "array([[ 1,  2,  1,  3],\n",
       "       [ 2,  7,  4,  7],\n",
       "       [ 0, -9, -6,  0],\n",
       "       [ 0,  0,  1,  2]])"
      ]
     },
     "execution_count": 100,
     "metadata": {},
     "output_type": "execute_result"
    }
   ],
   "source": [
    "t = np.array(A).astype(int)\n",
    "t"
   ]
  },
  {
   "cell_type": "code",
   "execution_count": 101,
   "metadata": {},
   "outputs": [
    {
     "data": {
      "text/plain": [
       "array([[ 1.,  2.,  1.,  3.],\n",
       "       [ 0.,  3.,  2.,  1.],\n",
       "       [ 0., -9., -6.,  0.],\n",
       "       [ 0.,  0.,  1.,  2.]])"
      ]
     },
     "execution_count": 101,
     "metadata": {},
     "output_type": "execute_result"
    }
   ],
   "source": [
    "t = ele(1,2,2,1,n=4) @ t\n",
    "t"
   ]
  },
  {
   "cell_type": "code",
   "execution_count": 99,
   "metadata": {},
   "outputs": [
    {
     "data": {
      "text/plain": [
       "array([[ 1.,  2.,  1.,  3.],\n",
       "       [ 0.,  3.,  2.,  1.],\n",
       "       [ 0.,  9.,  7.,  5.],\n",
       "       [ 0., -9., -6.,  0.]])"
      ]
     },
     "execution_count": 99,
     "metadata": {},
     "output_type": "execute_result"
    }
   ],
   "source": [
    "t = ele(1,3,-3,2,n=4) @ t\n",
    "t"
   ]
  },
  {
   "cell_type": "markdown",
   "metadata": {},
   "source": [
    "### A?\n",
    "\n",
    "LU - Faktorisierung an einfachen Beispielen"
   ]
  },
  {
   "cell_type": "code",
   "execution_count": 66,
   "metadata": {},
   "outputs": [
    {
     "data": {
      "text/plain": [
       "(array([[ 1,  3,  2],\n",
       "        [-2, -3, -5],\n",
       "        [ 0,  9,  1]]),\n",
       " array([[ 1,  0,  0],\n",
       "        [-2,  1,  0],\n",
       "        [ 0,  3,  1]]),\n",
       " array([[ 1,  3,  2],\n",
       "        [ 0,  3, -1],\n",
       "        [ 0,  0,  4]]))"
      ]
     },
     "execution_count": 66,
     "metadata": {},
     "output_type": "execute_result"
    }
   ],
   "source": [
    "A, L, U"
   ]
  },
  {
   "cell_type": "code",
   "execution_count": 71,
   "metadata": {},
   "outputs": [
    {
     "data": {
      "text/plain": [
       "(array([[  1,   4,  -1],\n",
       "        [ -3, -10,   1],\n",
       "        [  2,   6,   3]]),\n",
       " array([[ 1,  0,  0],\n",
       "        [-3,  1,  0],\n",
       "        [ 2, -1,  1]]),\n",
       " array([[ 1,  4, -1],\n",
       "        [ 0,  2, -2],\n",
       "        [ 0,  0,  3]]))"
      ]
     },
     "execution_count": 71,
     "metadata": {},
     "output_type": "execute_result"
    }
   ],
   "source": [
    "# b\n",
    "U = np.array([1,4,-1,0,2,-2,0,0,3]).reshape(3,3)\n",
    "L = np.array([1,0,0,-3,1,0,2,-1,1]).reshape(3,3)\n",
    "A = L.dot(U)\n",
    "A, L, U"
   ]
  },
  {
   "cell_type": "code",
   "execution_count": 72,
   "metadata": {},
   "outputs": [
    {
     "data": {
      "text/plain": [
       "(Matrix([\n",
       " [ 1,  0, 0],\n",
       " [-3,  1, 0],\n",
       " [ 2, -1, 1]]),\n",
       " Matrix([\n",
       " [1, 4, -1],\n",
       " [0, 2, -2],\n",
       " [0, 0,  3]]),\n",
       " [])"
      ]
     },
     "execution_count": 72,
     "metadata": {},
     "output_type": "execute_result"
    }
   ],
   "source": [
    "Matrix(A).LUdecomposition()"
   ]
  },
  {
   "cell_type": "markdown",
   "metadata": {},
   "source": [
    "### A4\n",
    "\n",
    "Gegeben die Matrix A und die Matrix U und eine Beschreibung der Operationen. Bestimme Matrix L\n",
    "\n",
    "Eine 4x4 Matrix"
   ]
  },
  {
   "cell_type": "code",
   "execution_count": 86,
   "metadata": {},
   "outputs": [
    {
     "data": {
      "text/plain": [
       "array([[ 1,  2, -1,  1],\n",
       "       [ 2,  1,  1,  2],\n",
       "       [-1,  4, -1, -1],\n",
       "       [ 2,  1,  5,  0]])"
      ]
     },
     "execution_count": 86,
     "metadata": {},
     "output_type": "execute_result"
    }
   ],
   "source": [
    "A = np.array([1,2,-1,1,2,1,1,2,-1,4,-1,-1,2,1,5,0]).reshape(4,4)\n",
    "A"
   ]
  },
  {
   "cell_type": "code",
   "execution_count": 87,
   "metadata": {},
   "outputs": [
    {
     "data": {
      "text/latex": [
       "$\\displaystyle \\left[\\begin{matrix}1 & 0 & 0 & 0\\\\2 & 1 & 0 & 0\\\\-1 & -2 & 1 & 0\\\\2 & 1 & 1 & 1\\end{matrix}\\right]$"
      ],
      "text/plain": [
       "Matrix([\n",
       "[ 1,  0, 0, 0],\n",
       "[ 2,  1, 0, 0],\n",
       "[-1, -2, 1, 0],\n",
       "[ 2,  1, 1, 1]])"
      ]
     },
     "execution_count": 87,
     "metadata": {},
     "output_type": "execute_result"
    }
   ],
   "source": [
    "L, U, _ = Matrix(A).LUdecomposition()\n",
    "L"
   ]
  },
  {
   "cell_type": "code",
   "execution_count": 88,
   "metadata": {},
   "outputs": [
    {
     "data": {
      "text/plain": [
       "array([[ 1,  2, -1,  1],\n",
       "       [ 2,  1,  1,  2],\n",
       "       [-1,  4, -1, -1],\n",
       "       [ 2,  1,  5,  0]])"
      ]
     },
     "execution_count": 88,
     "metadata": {},
     "output_type": "execute_result"
    }
   ],
   "source": [
    "A"
   ]
  },
  {
   "cell_type": "code",
   "execution_count": 97,
   "metadata": {},
   "outputs": [
    {
     "data": {
      "text/plain": [
       "array([[ 1.,  2., -1.,  1.],\n",
       "       [ 0., -3.,  3.,  0.],\n",
       "       [ 0.,  0.,  4.,  0.],\n",
       "       [ 0.,  0.,  0., -2.]])"
      ]
     },
     "execution_count": 97,
     "metadata": {},
     "output_type": "execute_result"
    }
   ],
   "source": [
    "t = el(2,2,1,4).dot(A)\n",
    "t = el(3,-1,1,4).dot(t)\n",
    "t = el(4,2,1,4).dot(t)\n",
    "t = el(3,-2,2,4).dot(t)\n",
    "t = el(4,1,2,4).dot(t)\n",
    "t = el(4,1,3,4).dot(t)\n",
    "t"
   ]
  },
  {
   "cell_type": "code",
   "execution_count": 98,
   "metadata": {},
   "outputs": [
    {
     "data": {
      "text/plain": [
       "(Matrix([\n",
       " [ 1,  0, 0, 0],\n",
       " [ 2,  1, 0, 0],\n",
       " [-1, -2, 1, 0],\n",
       " [ 2,  1, 1, 1]]),\n",
       " Matrix([\n",
       " [1,  2, -1,  1],\n",
       " [0, -3,  3,  0],\n",
       " [0,  0,  4,  0],\n",
       " [0,  0,  0, -2]]),\n",
       " [])"
      ]
     },
     "execution_count": 98,
     "metadata": {},
     "output_type": "execute_result"
    }
   ],
   "source": [
    "Matrix(A).LUdecomposition()"
   ]
  },
  {
   "cell_type": "markdown",
   "metadata": {},
   "source": [
    "### Die Inverse einer quadratischen Matrix\n",
    "\n",
    "Gauss-Jordan Algorithmus"
   ]
  },
  {
   "cell_type": "code",
   "execution_count": null,
   "metadata": {},
   "outputs": [],
   "source": []
  },
  {
   "cell_type": "markdown",
   "metadata": {},
   "source": [
    "### Lösungen für Ax = b"
   ]
  },
  {
   "cell_type": "code",
   "execution_count": null,
   "metadata": {},
   "outputs": [],
   "source": []
  },
  {
   "cell_type": "code",
   "execution_count": null,
   "metadata": {},
   "outputs": [],
   "source": []
  }
 ],
 "metadata": {
  "kernelspec": {
   "display_name": "Python 3",
   "language": "python",
   "name": "python3"
  },
  "language_info": {
   "codemirror_mode": {
    "name": "ipython",
    "version": 3
   },
   "file_extension": ".py",
   "mimetype": "text/x-python",
   "name": "python",
   "nbconvert_exporter": "python",
   "pygments_lexer": "ipython3",
   "version": "3.7.9"
  }
 },
 "nbformat": 4,
 "nbformat_minor": 4
}

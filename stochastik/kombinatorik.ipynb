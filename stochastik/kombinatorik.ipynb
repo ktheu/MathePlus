{
 "cells": [
  {
   "cell_type": "markdown",
   "metadata": {},
   "source": [
    "### Aufgaben aus Henze: Stochastik für Einsteiger"
   ]
  },
  {
   "cell_type": "markdown",
   "metadata": {},
   "source": [
    "**A1:** Wie viele vierstellige natürliche Zahlen haben lauter verschiedene Ziffern?"
   ]
  },
  {
   "cell_type": "code",
   "execution_count": 2,
   "metadata": {},
   "outputs": [
    {
     "data": {
      "text/plain": [
       "4536"
      ]
     },
     "execution_count": 2,
     "metadata": {},
     "output_type": "execute_result"
    }
   ],
   "source": [
    "9*9*8*7   # an der ersten Stelle darf keine 0 stehen"
   ]
  },
  {
   "cell_type": "markdown",
   "metadata": {},
   "source": [
    "**A2:** Beim Zahlenlotto 6 aus 49 beobachtet man häufig, dass sich unter den sechs Gewinnzahlen mindestens ein Zwilling, d.h. mindestens ein Paar $(i,i+1)$ befindet. Wie wahrscheinlich ist das? (Hinweis: Gegenereignis betrachten) - *eher schwer*"
   ]
  },
  {
   "cell_type": "markdown",
   "metadata": {},
   "source": [
    "Man stellt sich die gezogenen Zahlen als geordnete Menge vor. Dann zieht man von der 1.Zahl 0 ab, von der 2. Zahl 1, .. von der 6.Zahl 5.\n",
    "Da keine Zwillinge dabei sind, ergibt dies eine ordentliche Ziehung 6 aus 44. Umgekehrt kann man jede Ziehung 6 aus 44 auf eine Ziehung 6 aus 49 abbilden, bei denen keine Zwillinge vorhanden sind."
   ]
  },
  {
   "cell_type": "code",
   "execution_count": 34,
   "metadata": {},
   "outputs": [
    {
     "data": {
      "text/plain": [
       "0.4951984494075151"
      ]
     },
     "execution_count": 34,
     "metadata": {},
     "output_type": "execute_result"
    }
   ],
   "source": [
    "from scipy.special import binom\n",
    "1- binom(44,6)/binom(49,6)"
   ]
  },
  {
   "cell_type": "markdown",
   "metadata": {},
   "source": [
    "**A3:** Mit welcher Wahrscheinlichkeit ist beim Lotto 6 aus 49 <br>\n",
    "a. die zweite gezogene Zahl größer als die erste?"
   ]
  },
  {
   "cell_type": "code",
   "execution_count": null,
   "metadata": {},
   "outputs": [],
   "source": []
  }
 ],
 "metadata": {
  "kernelspec": {
   "display_name": "Python 3",
   "language": "python",
   "name": "python3"
  },
  "language_info": {
   "codemirror_mode": {
    "name": "ipython",
    "version": 3
   },
   "file_extension": ".py",
   "mimetype": "text/x-python",
   "name": "python",
   "nbconvert_exporter": "python",
   "pygments_lexer": "ipython3",
   "version": "3.7.9"
  }
 },
 "nbformat": 4,
 "nbformat_minor": 4
}

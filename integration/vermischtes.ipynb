{
 "cells": [
  {
   "cell_type": "markdown",
   "metadata": {},
   "source": [
    "## Integrationstechniken\n",
    "\n",
    "#### 7 Vermischte Übungen"
   ]
  },
  {
   "cell_type": "code",
   "execution_count": 5,
   "metadata": {},
   "outputs": [],
   "source": [
    "from sage.symbolic.integration.integral import definite_integral, indefinite_integral"
   ]
  },
  {
   "cell_type": "code",
   "execution_count": 6,
   "metadata": {},
   "outputs": [
    {
     "name": "stdout",
     "output_type": "stream",
     "text": [
      "3/(x + 1) + 6/(x - 1)\n",
      "-6*log(2) + 3*log(3/2)\n",
      "3*log(x + 1) + 6*log(x - 1)\n"
     ]
    }
   ],
   "source": [
    "# a\n",
    "f = (9*x+3)/(x^2-1)\n",
    "a, b = 0, 1/2\n",
    "print(f.partial_fraction(x))      \n",
    "print(definite_integral(f,x,a,b))  \n",
    "print(indefinite_integral(f,x))  \n"
   ]
  },
  {
   "cell_type": "code",
   "execution_count": 12,
   "metadata": {},
   "outputs": [
    {
     "name": "stdout",
     "output_type": "stream",
     "text": [
      "32*log(7) - 64*log(2) - 15\n",
      "(sqrt(x) + 4)^2 - 16*sqrt(x) + 32*log(sqrt(x) + 4) - 64\n",
      "x - 8*sqrt(x) + 32*log(sqrt(x) + 4) - 48\n"
     ]
    }
   ],
   "source": [
    "# b\n",
    "f = sqrt(x)/(4+sqrt(x))\n",
    "a, b = 0, 9\n",
    "   \n",
    "print(definite_integral(f,x,a,b))  \n",
    "print(indefinite_integral(f,x))  \n",
    "print(expand(indefinite_integral(f,x)))"
   ]
  },
  {
   "cell_type": "code",
   "execution_count": 14,
   "metadata": {},
   "outputs": [
    {
     "name": "stdout",
     "output_type": "stream",
     "text": [
      "2*pi\n",
      "-x*cos(x) - 3*cos(x) + sin(x)\n"
     ]
    }
   ],
   "source": [
    "# c  \n",
    "f = (x+3)*sin(x)\n",
    "a, b = -pi, pi\n",
    "   \n",
    "print(definite_integral(f,x,a,b))  \n",
    "print(indefinite_integral(f,x))  \n"
   ]
  },
  {
   "cell_type": "code",
   "execution_count": 17,
   "metadata": {},
   "outputs": [
    {
     "name": "stdout",
     "output_type": "stream",
     "text": [
      "2*log(6) - log(5) - 2*log(2)\n",
      "-x + 2*log(e^x + 1)\n"
     ]
    }
   ],
   "source": [
    "# d\n",
    "f = (e^x-1)/(e^x+1)\n",
    "a, b = 0, log(5)\n",
    "print(definite_integral(f,x,a,b))  \n",
    "print(indefinite_integral(f,x))   "
   ]
  },
  {
   "cell_type": "code",
   "execution_count": 20,
   "metadata": {},
   "outputs": [
    {
     "name": "stdout",
     "output_type": "stream",
     "text": [
      "1\n",
      "1/4*(2*pi*x + sin(2*pi*x))/pi\n"
     ]
    }
   ],
   "source": [
    "# e\n",
    "f = (cos(pi*x))^2\n",
    "a, b = -1, 1\n",
    "print(definite_integral(f,x,a,b))  \n",
    "print(indefinite_integral(f,x))"
   ]
  },
  {
   "cell_type": "code",
   "execution_count": 21,
   "metadata": {},
   "outputs": [
    {
     "name": "stdout",
     "output_type": "stream",
     "text": [
      "35/96\n",
      "-5/12/(4*x - 5)^3\n"
     ]
    }
   ],
   "source": [
    "# f\n",
    "f = 5/(4*x-5)^4\n",
    "a, b = 3/4, 1\n",
    "print(definite_integral(f,x,a,b))  \n",
    "print(indefinite_integral(f,x))"
   ]
  },
  {
   "cell_type": "code",
   "execution_count": 22,
   "metadata": {},
   "outputs": [
    {
     "name": "stdout",
     "output_type": "stream",
     "text": [
      "-1/2*cos(1) + 1/2\n",
      "-1/2*cos(x^2)\n"
     ]
    }
   ],
   "source": [
    "# g\n",
    "f = x*sin(x^2)\n",
    "a, b = 0,1\n",
    "print(definite_integral(f,x,a,b))  \n",
    "print(indefinite_integral(f,x))"
   ]
  },
  {
   "cell_type": "code",
   "execution_count": 23,
   "metadata": {},
   "outputs": [
    {
     "name": "stdout",
     "output_type": "stream",
     "text": [
      "log(2) + 7/2\n",
      "1/2*x^2 + x + log(x - 1)\n"
     ]
    }
   ],
   "source": [
    "# h\n",
    "f = x^2/(x-1)\n",
    "a, b = 2,3\n",
    "print(definite_integral(f,x,a,b))  \n",
    "print(indefinite_integral(f,x))"
   ]
  }
 ],
 "metadata": {
  "kernelspec": {
   "display_name": "SageMath 9.2",
   "language": "sage",
   "name": "sagemath"
  },
  "language_info": {
   "codemirror_mode": {
    "name": "ipython",
    "version": 3
   },
   "file_extension": ".py",
   "mimetype": "text/x-python",
   "name": "python",
   "nbconvert_exporter": "python",
   "pygments_lexer": "ipython3",
   "version": "3.7.7"
  }
 },
 "nbformat": 4,
 "nbformat_minor": 4
}

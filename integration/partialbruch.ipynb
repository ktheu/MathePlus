{
 "cells": [
  {
   "cell_type": "markdown",
   "metadata": {},
   "source": [
    "## Integrationstechniken\n",
    "\n",
    "#### 6 Integration durch Partialbruchzerlegung"
   ]
  },
  {
   "cell_type": "code",
   "execution_count": 1,
   "metadata": {},
   "outputs": [],
   "source": [
    "from sage.symbolic.integration.integral import definite_integral"
   ]
  },
  {
   "cell_type": "code",
   "execution_count": 2,
   "metadata": {},
   "outputs": [
    {
     "name": "stdout",
     "output_type": "stream",
     "text": [
      "2/(x + 7) + 1/(x - 2)\n",
      "-2*log(6) - log(3) + 6*log(2)\n"
     ]
    }
   ],
   "source": [
    "# 1a\n",
    "f = (3*x+3)/((x-2)*(x+7))\n",
    "a, b = -1, 1\n",
    "print(f.partial_fraction(x))      \n",
    "print(definite_integral(f,x,a,b))"
   ]
  },
  {
   "cell_type": "code",
   "execution_count": 12,
   "metadata": {},
   "outputs": [
    {
     "data": {
      "text/plain": [
       "-3*log(3) + 4*log(2)"
      ]
     },
     "execution_count": 12,
     "metadata": {},
     "output_type": "execute_result"
    }
   ],
   "source": [
    "# 1a Vereinfachung des Ergebnisses\n",
    "4*log(2)-3*log(3)"
   ]
  },
  {
   "cell_type": "code",
   "execution_count": 8,
   "metadata": {},
   "outputs": [
    {
     "name": "stdout",
     "output_type": "stream",
     "text": [
      "-2/5/(x + 1) + 2/5/(x - 4)\n",
      "-2/5*log(7) + 2/5*log(6) + 2/5*log(2)\n"
     ]
    }
   ],
   "source": [
    "# 1b\n",
    "f = 2/((x-4)*(x+1))\n",
    "a, b = 5,6\n",
    "print(f.partial_fraction(x))      \n",
    "print(definite_integral(f,x,a,b))  "
   ]
  },
  {
   "cell_type": "code",
   "execution_count": 9,
   "metadata": {},
   "outputs": [
    {
     "name": "stdout",
     "output_type": "stream",
     "text": [
      "-4/(x - 1) + 3/(x - 2) + 1/x\n",
      "-5*log(3) + 9*log(2)\n"
     ]
    }
   ],
   "source": [
    "# 1c\n",
    "f = (2*x+2)/(x*(x-1)*(x-2))\n",
    "a, b = 3,4\n",
    "print(f.partial_fraction(x))      \n",
    "print(definite_integral(f,x,a,b))  "
   ]
  },
  {
   "cell_type": "code",
   "execution_count": 10,
   "metadata": {},
   "outputs": [
    {
     "name": "stdout",
     "output_type": "stream",
     "text": [
      "2/(x - 3) + 2/(x - 3)^2\n",
      "-2*log(3) + 2*log(2) + 1/3\n"
     ]
    }
   ],
   "source": [
    "# 2a\n",
    "f = (2*x-4)/(x-3)^2\n",
    "a, b = 0,1\n",
    "print(f.partial_fraction(x))      \n",
    "print(definite_integral(f,x,a,b))  "
   ]
  },
  {
   "cell_type": "code",
   "execution_count": 11,
   "metadata": {},
   "outputs": [
    {
     "name": "stdout",
     "output_type": "stream",
     "text": [
      "3/(x - 1) - 1/x + 2/x^2\n",
      "3*log(3) - log(2) + 1/2\n"
     ]
    }
   ],
   "source": [
    "# 2b\n",
    "f = (2*x^2+3*x-2)/(x^2*(x-1))\n",
    "a, b = 2,4\n",
    "print(f.partial_fraction(x))      \n",
    "print(definite_integral(f,x,a,b))  "
   ]
  },
  {
   "cell_type": "code",
   "execution_count": 12,
   "metadata": {},
   "outputs": [
    {
     "name": "stdout",
     "output_type": "stream",
     "text": [
      "5/4/(x - 2) - 1/4/x + 3/2/(x - 2)^2\n",
      "5/4*log(3) - 9/4*log(2) + 1/8\n"
     ]
    }
   ],
   "source": [
    "# 2c\n",
    "f = (x^2-1)/(x*(x-2)^2)\n",
    "a, b = -2,-1\n",
    "print(f.partial_fraction(x))      \n",
    "print(definite_integral(f,x,a,b))  "
   ]
  },
  {
   "cell_type": "code",
   "execution_count": 42,
   "metadata": {},
   "outputs": [
    {
     "name": "stdout",
     "output_type": "stream",
     "text": [
      "(x + 2)*(x - 5)\n",
      "1/(x + 2) + 6/(x - 5)\n",
      "5*log(3) - 10*log(2)\n"
     ]
    }
   ],
   "source": [
    "# 3a\n",
    "f1 = 7*x+7\n",
    "f2 = x^2-3*x-10\n",
    "a, b = 1, 2\n",
    "print(factor(f2))\n",
    "print((f1/factor(f2)).partial_fraction(x))\n",
    "print(definite_integral(f1/f2,x,a,b))"
   ]
  },
  {
   "cell_type": "code",
   "execution_count": 41,
   "metadata": {},
   "outputs": [
    {
     "name": "stdout",
     "output_type": "stream",
     "text": [
      "-(x + 2)*(x - 2)\n",
      "3/2/(x + 2) - 3/2/(x - 2)\n",
      "3/2*log(3)\n"
     ]
    }
   ],
   "source": [
    "# 3b\n",
    "f1 = 6\n",
    "f2 = 4-x^2\n",
    "a, b = 0, 1\n",
    "print(factor(f2))\n",
    "print((f1/factor(f2)).partial_fraction(x))\n",
    "print(definite_integral(f1/f2,x,a,b))"
   ]
  },
  {
   "cell_type": "code",
   "execution_count": 43,
   "metadata": {},
   "outputs": [
    {
     "name": "stdout",
     "output_type": "stream",
     "text": [
      "(x - 3)^2*x\n",
      "-5/(x - 3) + 3/x + 2/(x - 3)^2\n",
      "8*log(2) + 1\n"
     ]
    }
   ],
   "source": [
    "# 3c\n",
    "f1 = 27-x-2*x^2\n",
    "f2 = x^3-6*x^2+9*x\n",
    "a, b = 1, 2\n",
    "print(factor(f2))\n",
    "print((f1/factor(f2)).partial_fraction(x))\n",
    "print(definite_integral(f1/f2,x,a,b))"
   ]
  },
  {
   "cell_type": "code",
   "execution_count": 45,
   "metadata": {},
   "outputs": [
    {
     "name": "stdout",
     "output_type": "stream",
     "text": [
      "(x - 2)*(x - 6)*x\n",
      "3/(x - 2) - 5/(x - 6) + 2/x\n",
      "2*log(5) + 6*log(3)\n"
     ]
    }
   ],
   "source": [
    "# 3d\n",
    "f1 = -24*x+24\n",
    "f2 = x^3-8*x^2+12*x\n",
    "a, b = 3,5\n",
    "print(factor(f2))\n",
    "print((f1/factor(f2)).partial_fraction(x))\n",
    "print(definite_integral(f1/f2,x,a,b))"
   ]
  },
  {
   "cell_type": "code",
   "execution_count": 46,
   "metadata": {},
   "outputs": [
    {
     "name": "stdout",
     "output_type": "stream",
     "text": [
      "(x + 1)^2*(x - 2)\n",
      "2/(x + 1) + 7/(x - 2) - 3/(x + 1)^2\n",
      "-5*log(2) - 3/2\n"
     ]
    }
   ],
   "source": [
    "# 3e\n",
    "f1 = 9*x^2+9*x+9\n",
    "f2 = x^3-3*x-2\n",
    "a, b = 0,1\n",
    "print(factor(f2))\n",
    "print((f1/factor(f2)).partial_fraction(x))\n",
    "print(definite_integral(f1/f2,x,a,b))"
   ]
  },
  {
   "cell_type": "code",
   "execution_count": 48,
   "metadata": {},
   "outputs": [
    {
     "name": "stdout",
     "output_type": "stream",
     "text": [
      "(x - 1)^2*(x - 3)\n",
      "-3/(x - 1) + 5/(x - 3) - 2/(x - 1)^2\n",
      "-3*log(5) + 8*log(3) - 4/15\n"
     ]
    }
   ],
   "source": [
    "# 3f\n",
    "f1 = 2*(x^2+1)\n",
    "f2 = x^3-5*x^2+7*x-3\n",
    "a, b = 4,6\n",
    "print(factor(f2))\n",
    "print((f1/factor(f2)).partial_fraction(x))\n",
    "print(definite_integral(f1/f2,x,a,b))"
   ]
  },
  {
   "cell_type": "code",
   "execution_count": 2,
   "metadata": {
    "scrolled": true
   },
   "outputs": [
    {
     "name": "stdout",
     "output_type": "stream",
     "text": [
      "[1, 8]\n",
      "(x + 2)*(x - 2)\n",
      "-2/(x + 2) + 2/(x - 2) + 1\n",
      "-2*log(7) + 2*log(5) + 2*log(3) + 2\n"
     ]
    }
   ],
   "source": [
    "# 4a\n",
    "f1 = x^2+4\n",
    "f2 = x^2-4\n",
    "a, b = 3,5\n",
    "print(f1.maxima_methods().divide(f2)   )\n",
    "print(factor(f2))\n",
    "print((f1/factor(f2)).partial_fraction(x))\n",
    "print(definite_integral(f1/f2,x,a,b))"
   ]
  },
  {
   "cell_type": "code",
   "execution_count": 4,
   "metadata": {},
   "outputs": [
    {
     "data": {
      "text/plain": [
       "3.52428010409379"
      ]
     },
     "execution_count": 4,
     "metadata": {},
     "output_type": "execute_result"
    }
   ],
   "source": [
    "n(-2*log(7) + 2*log(5) + 2*log(3) + 2)"
   ]
  },
  {
   "cell_type": "code",
   "execution_count": 5,
   "metadata": {},
   "outputs": [
    {
     "data": {
      "text/plain": [
       "3.52428010409379"
      ]
     },
     "execution_count": 5,
     "metadata": {},
     "output_type": "execute_result"
    }
   ],
   "source": [
    "n(2+2*ln(15/7))"
   ]
  },
  {
   "cell_type": "code",
   "execution_count": 51,
   "metadata": {},
   "outputs": [
    {
     "name": "stdout",
     "output_type": "stream",
     "text": [
      "[4, 14*x - 10]\n",
      "(x - 1)*(x - 3)\n",
      "-2/(x - 1) + 16/(x - 3) + 4\n",
      "16*log(3) - 30*log(2) + 4\n"
     ]
    }
   ],
   "source": [
    "# 4b\n",
    "f1 = 4*x^2-2*x+2\n",
    "f2 = x^2-4*x+3\n",
    "a, b = -1,0\n",
    "print(f1.maxima_methods().divide(f2)   )\n",
    "print(factor(f2))\n",
    "print((f1/factor(f2)).partial_fraction(x))\n",
    "print(definite_integral(f1/f2,x,a,b))"
   ]
  },
  {
   "cell_type": "code",
   "execution_count": null,
   "metadata": {},
   "outputs": [],
   "source": []
  },
  {
   "cell_type": "code",
   "execution_count": 3,
   "metadata": {},
   "outputs": [
    {
     "name": "stdout",
     "output_type": "stream",
     "text": [
      "[x, 2*x - 2]\n",
      "(x - 2)*(x - 6)\n",
      "x - 1/2/(x - 2) + 5/2/(x - 6)\n",
      "-5/2*log(6) + 5/2*log(5) + 1/2*log(2) + 1/2\n"
     ]
    }
   ],
   "source": [
    "# 4c\n",
    "f1 = x^3-8*x^2+14*x-2\n",
    "f2 = x^2-8*x+12\n",
    "a, b = 0,1\n",
    "print(f1.maxima_methods().divide(f2)   )\n",
    "print(factor(f2))\n",
    "print((f1/factor(f2)).partial_fraction(x))\n",
    "print(definite_integral(f1/f2,x,a,b))"
   ]
  },
  {
   "cell_type": "code",
   "execution_count": 4,
   "metadata": {},
   "outputs": [
    {
     "data": {
      "text/plain": [
       "5/2*log(5) - 5/2*log(3) - 2*log(2) + 1/2"
      ]
     },
     "execution_count": 4,
     "metadata": {},
     "output_type": "execute_result"
    }
   ],
   "source": [
    "# 4c Vereinfachung des Ergebnisses\n",
    "1/2 + 5/2*log(5)-2*log(2)-5/2*log(3)"
   ]
  },
  {
   "cell_type": "code",
   "execution_count": null,
   "metadata": {},
   "outputs": [],
   "source": [
    "# Beispiel in den Folien"
   ]
  },
  {
   "cell_type": "code",
   "execution_count": 31,
   "metadata": {},
   "outputs": [],
   "source": [
    "f1 = (x+3)\n",
    "f2 = (x-1)^2*(x-5)\n",
    "f = f1/f2"
   ]
  },
  {
   "cell_type": "code",
   "execution_count": 32,
   "metadata": {},
   "outputs": [
    {
     "name": "stdout",
     "output_type": "stream",
     "text": [
      "-1/2/(x - 1) + 1/2/(x - 5) - 1/(x - 1)^2\n"
     ]
    }
   ],
   "source": [
    "print(f.partial_fraction(x)) "
   ]
  },
  {
   "cell_type": "code",
   "execution_count": 18,
   "metadata": {},
   "outputs": [
    {
     "data": {
      "text/plain": [
       "(x - 1)^3*(x - 2)"
      ]
     },
     "execution_count": 18,
     "metadata": {},
     "output_type": "execute_result"
    }
   ],
   "source": [
    "factor(f2)"
   ]
  },
  {
   "cell_type": "code",
   "execution_count": 19,
   "metadata": {},
   "outputs": [
    {
     "name": "stdout",
     "output_type": "stream",
     "text": [
      "[1, 3*x^3 - 13*x^2 + 9*x + 1]\n"
     ]
    }
   ],
   "source": [
    "print(f1.maxima_methods().divide(f2)   )"
   ]
  },
  {
   "cell_type": "code",
   "execution_count": 27,
   "metadata": {},
   "outputs": [
    {
     "data": {
      "text/plain": [
       "(3*x^2 - 10*x - 1)*(x - 1)"
      ]
     },
     "execution_count": 27,
     "metadata": {},
     "output_type": "execute_result"
    }
   ],
   "source": [
    "factor(3*x^3 - 13*x^2 + 9*x + 1)"
   ]
  },
  {
   "cell_type": "code",
   "execution_count": null,
   "metadata": {},
   "outputs": [],
   "source": []
  }
 ],
 "metadata": {
  "kernelspec": {
   "display_name": "SageMath 9.2",
   "language": "sage",
   "name": "sagemath"
  },
  "language_info": {
   "codemirror_mode": {
    "name": "ipython",
    "version": 3
   },
   "file_extension": ".py",
   "mimetype": "text/x-python",
   "name": "python",
   "nbconvert_exporter": "python",
   "pygments_lexer": "ipython3",
   "version": "3.7.7"
  }
 },
 "nbformat": 4,
 "nbformat_minor": 4
}

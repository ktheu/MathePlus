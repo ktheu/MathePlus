{
 "cells": [
  {
   "cell_type": "code",
   "execution_count": 1,
   "metadata": {},
   "outputs": [
    {
     "data": {
      "text/html": [
       "<html><script type=\"math/tex; mode=display\">\\newcommand{\\Bold}[1]{\\mathbf{#1}}\\frac{1}{6} \\, \\pi^{2}</script></html>"
      ],
      "text/latex": [
       "\\begin{math}\n",
       "\\newcommand{\\Bold}[1]{\\mathbf{#1}}\\frac{1}{6} \\, \\pi^{2}\n",
       "\\end{math}"
      ],
      "text/plain": [
       "1/6*pi^2"
      ]
     },
     "metadata": {},
     "output_type": "display_data"
    }
   ],
   "source": [
    "var('k')\n",
    "s = sum(1/(k^2),k,1,infinity)\n",
    "pretty_print(s)"
   ]
  },
  {
   "cell_type": "code",
   "execution_count": 2,
   "metadata": {},
   "outputs": [
    {
     "data": {
      "text/html": [
       "<html><script type=\"math/tex; mode=display\">\\newcommand{\\Bold}[1]{\\mathbf{#1}}\\frac{2}{3} -\\frac{3}{8}</script></html>"
      ],
      "text/latex": [
       "\\begin{math}\n",
       "\\newcommand{\\Bold}[1]{\\mathbf{#1}}\\frac{2}{3} -\\frac{3}{8}\n",
       "\\end{math}"
      ],
      "text/plain": [
       "2/3 -3/8"
      ]
     },
     "metadata": {},
     "output_type": "display_data"
    },
    {
     "data": {
      "text/html": [
       "<html><script type=\"math/tex; mode=display\">\\newcommand{\\Bold}[1]{\\mathbf{#1}}\\frac{7}{24}</script></html>"
      ],
      "text/latex": [
       "\\begin{math}\n",
       "\\newcommand{\\Bold}[1]{\\mathbf{#1}}\\frac{7}{24}\n",
       "\\end{math}"
      ],
      "text/plain": [
       "7/24"
      ]
     },
     "metadata": {},
     "output_type": "display_data"
    }
   ],
   "source": [
    "# A\n",
    "s1 = sum((2/5)^k,k,1,infinity)\n",
    "s2 = sum((-3/5)^k,k,1,infinity)\n",
    " \n",
    "pretty_print(s1, s2)\n",
    "pretty_print(s1+s2)"
   ]
  },
  {
   "cell_type": "code",
   "execution_count": 3,
   "metadata": {},
   "outputs": [
    {
     "data": {
      "text/html": [
       "<html><script type=\"math/tex; mode=display\">\\newcommand{\\Bold}[1]{\\mathbf{#1}}\\frac{11}{6}</script></html>"
      ],
      "text/latex": [
       "\\begin{math}\n",
       "\\newcommand{\\Bold}[1]{\\mathbf{#1}}\\frac{11}{6}\n",
       "\\end{math}"
      ],
      "text/plain": [
       "11/6"
      ]
     },
     "metadata": {},
     "output_type": "display_data"
    }
   ],
   "source": [
    "s = sum((1/k - 1/(k+3)),k,1,infinity)\n",
    "pretty_print(s)"
   ]
  },
  {
   "cell_type": "code",
   "execution_count": 4,
   "metadata": {},
   "outputs": [
    {
     "data": {
      "text/html": [
       "<html><script type=\"math/tex; mode=display\">\\newcommand{\\Bold}[1]{\\mathbf{#1}}\\frac{8}{105}</script></html>"
      ],
      "text/latex": [
       "\\begin{math}\n",
       "\\newcommand{\\Bold}[1]{\\mathbf{#1}}\\frac{8}{105}\n",
       "\\end{math}"
      ],
      "text/plain": [
       "8/105"
      ]
     },
     "metadata": {},
     "output_type": "display_data"
    }
   ],
   "source": [
    "s = sum((2^(k+1)/(7*5^k)),k,2,infinity)\n",
    "pretty_print(s) "
   ]
  },
  {
   "cell_type": "code",
   "execution_count": 5,
   "metadata": {},
   "outputs": [
    {
     "data": {
      "text/html": [
       "<html><script type=\"math/tex; mode=display\">\\newcommand{\\Bold}[1]{\\mathbf{#1}}1</script></html>"
      ],
      "text/latex": [
       "\\begin{math}\n",
       "\\newcommand{\\Bold}[1]{\\mathbf{#1}}1\n",
       "\\end{math}"
      ],
      "text/plain": [
       "1"
      ]
     },
     "metadata": {},
     "output_type": "display_data"
    }
   ],
   "source": [
    "s = sum(2/(4*k^2-1),k,1,infinity)\n",
    "pretty_print(s) "
   ]
  },
  {
   "cell_type": "code",
   "execution_count": 6,
   "metadata": {},
   "outputs": [
    {
     "data": {
      "text/html": [
       "<html><script type=\"math/tex; mode=display\">\\newcommand{\\Bold}[1]{\\mathbf{#1}}{\\sum_{k=0}^{+\\infty} \\frac{1}{\\left(-1\\right)^{k} + 4 \\, k}}</script></html>"
      ],
      "text/latex": [
       "\\begin{math}\n",
       "\\newcommand{\\Bold}[1]{\\mathbf{#1}}{\\sum_{k=0}^{+\\infty} \\frac{1}{\\left(-1\\right)^{k} + 4 \\, k}}\n",
       "\\end{math}"
      ],
      "text/plain": [
       "sum(1/((-1)^k + 4*k), k, 0, +Infinity)"
      ]
     },
     "metadata": {},
     "output_type": "display_data"
    }
   ],
   "source": [
    "s = sum(1/(4*k+(-1)^k),k,0,infinity)\n",
    "pretty_print(s) "
   ]
  },
  {
   "cell_type": "markdown",
   "metadata": {},
   "source": [
    "### Taylorreihen"
   ]
  },
  {
   "cell_type": "code",
   "execution_count": 12,
   "metadata": {},
   "outputs": [
    {
     "data": {
      "text/html": [
       "<html><script type=\"math/tex; mode=display\">\\newcommand{\\Bold}[1]{\\mathbf{#1}}x \\ {\\mapsto}\\ -\\frac{1}{120} \\, x^{5} + \\frac{1}{24} \\, x^{4} - \\frac{1}{6} \\, x^{3} + \\frac{1}{2} \\, x^{2} - x + 1</script></html>"
      ],
      "text/latex": [
       "\\begin{math}\n",
       "\\newcommand{\\Bold}[1]{\\mathbf{#1}}x \\ {\\mapsto}\\ -\\frac{1}{120} \\, x^{5} + \\frac{1}{24} \\, x^{4} - \\frac{1}{6} \\, x^{3} + \\frac{1}{2} \\, x^{2} - x + 1\n",
       "\\end{math}"
      ],
      "text/plain": [
       "x |--> -1/120*x^5 + 1/24*x^4 - 1/6*x^3 + 1/2*x^2 - x + 1"
      ]
     },
     "metadata": {},
     "output_type": "display_data"
    }
   ],
   "source": [
    "var('x')\n",
    "f(x) = e^(-x) \n",
    "pretty_print(f.taylor(x, 0, 5))"
   ]
  },
  {
   "cell_type": "code",
   "execution_count": 13,
   "metadata": {},
   "outputs": [
    {
     "data": {
      "text/html": [
       "<html><script type=\"math/tex; mode=display\">\\newcommand{\\Bold}[1]{\\mathbf{#1}}x \\ {\\mapsto}\\ \\frac{7}{256} \\, x^{5} - \\frac{5}{128} \\, x^{4} + \\frac{1}{16} \\, x^{3} - \\frac{1}{8} \\, x^{2} + \\frac{1}{2} \\, x + 1</script></html>"
      ],
      "text/latex": [
       "\\begin{math}\n",
       "\\newcommand{\\Bold}[1]{\\mathbf{#1}}x \\ {\\mapsto}\\ \\frac{7}{256} \\, x^{5} - \\frac{5}{128} \\, x^{4} + \\frac{1}{16} \\, x^{3} - \\frac{1}{8} \\, x^{2} + \\frac{1}{2} \\, x + 1\n",
       "\\end{math}"
      ],
      "text/plain": [
       "x |--> 7/256*x^5 - 5/128*x^4 + 1/16*x^3 - 1/8*x^2 + 1/2*x + 1"
      ]
     },
     "metadata": {},
     "output_type": "display_data"
    }
   ],
   "source": [
    "#A2a\n",
    "f(x) = sqrt(1+x)\n",
    "pretty_print(f.taylor(x, 0, 5))"
   ]
  },
  {
   "cell_type": "code",
   "execution_count": 18,
   "metadata": {},
   "outputs": [
    {
     "data": {
      "text/html": [
       "<html><script type=\"math/tex; mode=display\">\\newcommand{\\Bold}[1]{\\mathbf{#1}}x \\ {\\mapsto}\\ \\frac{2}{15} \\, x^{5} + \\frac{1}{3} \\, x^{3} + x</script></html>"
      ],
      "text/latex": [
       "\\begin{math}\n",
       "\\newcommand{\\Bold}[1]{\\mathbf{#1}}x \\ {\\mapsto}\\ \\frac{2}{15} \\, x^{5} + \\frac{1}{3} \\, x^{3} + x\n",
       "\\end{math}"
      ],
      "text/plain": [
       "x |--> 2/15*x^5 + 1/3*x^3 + x"
      ]
     },
     "metadata": {},
     "output_type": "display_data"
    }
   ],
   "source": [
    "#A2b\n",
    "f(x) = sin(x)/cos(x)\n",
    "pretty_print(f.taylor(x, 0, 5))"
   ]
  },
  {
   "cell_type": "code",
   "execution_count": 19,
   "metadata": {},
   "outputs": [
    {
     "data": {
      "text/html": [
       "<html><script type=\"math/tex; mode=display\">\\newcommand{\\Bold}[1]{\\mathbf{#1}}x \\ {\\mapsto}\\ \\frac{\\sin\\left(x\\right)^{2}}{\\cos\\left(x\\right)^{2}} + 1</script></html>"
      ],
      "text/latex": [
       "\\begin{math}\n",
       "\\newcommand{\\Bold}[1]{\\mathbf{#1}}x \\ {\\mapsto}\\ \\frac{\\sin\\left(x\\right)^{2}}{\\cos\\left(x\\right)^{2}} + 1\n",
       "\\end{math}"
      ],
      "text/plain": [
       "x |--> sin(x)^2/cos(x)^2 + 1"
      ]
     },
     "metadata": {},
     "output_type": "display_data"
    }
   ],
   "source": [
    "pretty_print(diff(f,x))"
   ]
  },
  {
   "cell_type": "code",
   "execution_count": 23,
   "metadata": {},
   "outputs": [
    {
     "data": {
      "text/html": [
       "<html><script type=\"math/tex; mode=display\">\\newcommand{\\Bold}[1]{\\mathbf{#1}}x \\ {\\mapsto}\\ \\frac{2 \\, \\sin\\left(x\\right)}{\\cos\\left(x\\right)^{3}}</script></html>"
      ],
      "text/latex": [
       "\\begin{math}\n",
       "\\newcommand{\\Bold}[1]{\\mathbf{#1}}x \\ {\\mapsto}\\ \\frac{2 \\, \\sin\\left(x\\right)}{\\cos\\left(x\\right)^{3}}\n",
       "\\end{math}"
      ],
      "text/plain": [
       "x |--> 2*sin(x)/cos(x)^3"
      ]
     },
     "metadata": {},
     "output_type": "display_data"
    }
   ],
   "source": [
    "g(x) = 1/(cos(x)^2)\n",
    "pretty_print(diff(g,x))"
   ]
  },
  {
   "cell_type": "code",
   "execution_count": 24,
   "metadata": {},
   "outputs": [
    {
     "data": {
      "text/html": [
       "<html><script type=\"math/tex; mode=display\">\\newcommand{\\Bold}[1]{\\mathbf{#1}}x \\ {\\mapsto}\\ \\frac{2}{\\cos\\left(x\\right)^{2}} + \\frac{6 \\, \\sin\\left(x\\right)^{2}}{\\cos\\left(x\\right)^{4}}</script></html>"
      ],
      "text/latex": [
       "\\begin{math}\n",
       "\\newcommand{\\Bold}[1]{\\mathbf{#1}}x \\ {\\mapsto}\\ \\frac{2}{\\cos\\left(x\\right)^{2}} + \\frac{6 \\, \\sin\\left(x\\right)^{2}}{\\cos\\left(x\\right)^{4}}\n",
       "\\end{math}"
      ],
      "text/plain": [
       "x |--> 2/cos(x)^2 + 6*sin(x)^2/cos(x)^4"
      ]
     },
     "metadata": {},
     "output_type": "display_data"
    }
   ],
   "source": [
    "pretty_print(diff(g,x,2))"
   ]
  },
  {
   "cell_type": "code",
   "execution_count": 25,
   "metadata": {},
   "outputs": [
    {
     "data": {
      "text/html": [
       "<html><script type=\"math/tex; mode=display\">\\newcommand{\\Bold}[1]{\\mathbf{#1}}x \\ {\\mapsto}\\ \\frac{16 \\, \\sin\\left(x\\right)}{\\cos\\left(x\\right)^{3}} + \\frac{24 \\, \\sin\\left(x\\right)^{3}}{\\cos\\left(x\\right)^{5}}</script></html>"
      ],
      "text/latex": [
       "\\begin{math}\n",
       "\\newcommand{\\Bold}[1]{\\mathbf{#1}}x \\ {\\mapsto}\\ \\frac{16 \\, \\sin\\left(x\\right)}{\\cos\\left(x\\right)^{3}} + \\frac{24 \\, \\sin\\left(x\\right)^{3}}{\\cos\\left(x\\right)^{5}}\n",
       "\\end{math}"
      ],
      "text/plain": [
       "x |--> 16*sin(x)/cos(x)^3 + 24*sin(x)^3/cos(x)^5"
      ]
     },
     "metadata": {},
     "output_type": "display_data"
    }
   ],
   "source": [
    "pretty_print(diff(g,x,3))"
   ]
  },
  {
   "cell_type": "code",
   "execution_count": 26,
   "metadata": {},
   "outputs": [
    {
     "data": {
      "text/html": [
       "<html><script type=\"math/tex; mode=display\">\\newcommand{\\Bold}[1]{\\mathbf{#1}}x \\ {\\mapsto}\\ \\frac{16}{\\cos\\left(x\\right)^{2}} + \\frac{120 \\, \\sin\\left(x\\right)^{2}}{\\cos\\left(x\\right)^{4}} + \\frac{120 \\, \\sin\\left(x\\right)^{4}}{\\cos\\left(x\\right)^{6}}</script></html>"
      ],
      "text/latex": [
       "\\begin{math}\n",
       "\\newcommand{\\Bold}[1]{\\mathbf{#1}}x \\ {\\mapsto}\\ \\frac{16}{\\cos\\left(x\\right)^{2}} + \\frac{120 \\, \\sin\\left(x\\right)^{2}}{\\cos\\left(x\\right)^{4}} + \\frac{120 \\, \\sin\\left(x\\right)^{4}}{\\cos\\left(x\\right)^{6}}\n",
       "\\end{math}"
      ],
      "text/plain": [
       "x |--> 16/cos(x)^2 + 120*sin(x)^2/cos(x)^4 + 120*sin(x)^4/cos(x)^6"
      ]
     },
     "metadata": {},
     "output_type": "display_data"
    }
   ],
   "source": [
    "pretty_print(diff(g,x,4))"
   ]
  },
  {
   "cell_type": "code",
   "execution_count": 34,
   "metadata": {},
   "outputs": [
    {
     "data": {
      "text/html": [
       "<html><script type=\"math/tex; mode=display\">\\newcommand{\\Bold}[1]{\\mathbf{#1}}x \\ {\\mapsto}\\ \\tan\\left(x\\right)^{2} + 1</script></html>"
      ],
      "text/latex": [
       "\\begin{math}\n",
       "\\newcommand{\\Bold}[1]{\\mathbf{#1}}x \\ {\\mapsto}\\ \\tan\\left(x\\right)^{2} + 1\n",
       "\\end{math}"
      ],
      "text/plain": [
       "x |--> tan(x)^2 + 1"
      ]
     },
     "metadata": {},
     "output_type": "display_data"
    },
    {
     "data": {
      "text/html": [
       "<html><script type=\"math/tex; mode=display\">\\newcommand{\\Bold}[1]{\\mathbf{#1}}x \\ {\\mapsto}\\ 2 \\, \\tan\\left(x\\right)^{3} + 2 \\, \\tan\\left(x\\right)</script></html>"
      ],
      "text/latex": [
       "\\begin{math}\n",
       "\\newcommand{\\Bold}[1]{\\mathbf{#1}}x \\ {\\mapsto}\\ 2 \\, \\tan\\left(x\\right)^{3} + 2 \\, \\tan\\left(x\\right)\n",
       "\\end{math}"
      ],
      "text/plain": [
       "x |--> 2*tan(x)^3 + 2*tan(x)"
      ]
     },
     "metadata": {},
     "output_type": "display_data"
    },
    {
     "data": {
      "text/html": [
       "<html><script type=\"math/tex; mode=display\">\\newcommand{\\Bold}[1]{\\mathbf{#1}}x \\ {\\mapsto}\\ 6 \\, \\tan\\left(x\\right)^{4} + 8 \\, \\tan\\left(x\\right)^{2} + 2</script></html>"
      ],
      "text/latex": [
       "\\begin{math}\n",
       "\\newcommand{\\Bold}[1]{\\mathbf{#1}}x \\ {\\mapsto}\\ 6 \\, \\tan\\left(x\\right)^{4} + 8 \\, \\tan\\left(x\\right)^{2} + 2\n",
       "\\end{math}"
      ],
      "text/plain": [
       "x |--> 6*tan(x)^4 + 8*tan(x)^2 + 2"
      ]
     },
     "metadata": {},
     "output_type": "display_data"
    },
    {
     "data": {
      "text/html": [
       "<html><script type=\"math/tex; mode=display\">\\newcommand{\\Bold}[1]{\\mathbf{#1}}x \\ {\\mapsto}\\ 24 \\, \\tan\\left(x\\right)^{5} + 40 \\, \\tan\\left(x\\right)^{3} + 16 \\, \\tan\\left(x\\right)</script></html>"
      ],
      "text/latex": [
       "\\begin{math}\n",
       "\\newcommand{\\Bold}[1]{\\mathbf{#1}}x \\ {\\mapsto}\\ 24 \\, \\tan\\left(x\\right)^{5} + 40 \\, \\tan\\left(x\\right)^{3} + 16 \\, \\tan\\left(x\\right)\n",
       "\\end{math}"
      ],
      "text/plain": [
       "x |--> 24*tan(x)^5 + 40*tan(x)^3 + 16*tan(x)"
      ]
     },
     "metadata": {},
     "output_type": "display_data"
    }
   ],
   "source": [
    "#A2b\n",
    "f(x) = tan(x)\n",
    "pretty_print(diff(f,x))\n",
    "pretty_print(diff(f,x,2).expand())\n",
    "pretty_print(diff(f,x,3).expand())\n",
    "pretty_print(diff(f,x,4).expand())"
   ]
  },
  {
   "cell_type": "code",
   "execution_count": 35,
   "metadata": {},
   "outputs": [
    {
     "data": {
      "text/html": [
       "<html><script type=\"math/tex; mode=display\">\\newcommand{\\Bold}[1]{\\mathbf{#1}}x \\ {\\mapsto}\\ \\frac{2}{15} \\, x^{5} + \\frac{1}{3} \\, x^{3} + x</script></html>"
      ],
      "text/latex": [
       "\\begin{math}\n",
       "\\newcommand{\\Bold}[1]{\\mathbf{#1}}x \\ {\\mapsto}\\ \\frac{2}{15} \\, x^{5} + \\frac{1}{3} \\, x^{3} + x\n",
       "\\end{math}"
      ],
      "text/plain": [
       "x |--> 2/15*x^5 + 1/3*x^3 + x"
      ]
     },
     "metadata": {},
     "output_type": "display_data"
    }
   ],
   "source": [
    "pretty_print(f.taylor(x,0,5))"
   ]
  },
  {
   "cell_type": "code",
   "execution_count": 37,
   "metadata": {},
   "outputs": [],
   "source": [
    "h(x) = -4/cos(x)^2+6/cos(x)^4"
   ]
  },
  {
   "cell_type": "code",
   "execution_count": 45,
   "metadata": {},
   "outputs": [
    {
     "data": {
      "text/plain": [
       "3.17330095369126e10"
      ]
     },
     "execution_count": 45,
     "metadata": {},
     "output_type": "execute_result"
    }
   ],
   "source": [
    "f3 = diff(f,x,3)\n",
    "sum(f3(n),n,-100,100).n()"
   ]
  },
  {
   "cell_type": "code",
   "execution_count": 46,
   "metadata": {},
   "outputs": [
    {
     "data": {
      "text/plain": [
       "3.17330095369126e10"
      ]
     },
     "execution_count": 46,
     "metadata": {},
     "output_type": "execute_result"
    }
   ],
   "source": [
    "sum(h(n),n,-100,100).n()"
   ]
  },
  {
   "cell_type": "code",
   "execution_count": 55,
   "metadata": {},
   "outputs": [
    {
     "data": {
      "text/html": [
       "<html><script type=\"math/tex; mode=display\">\\newcommand{\\Bold}[1]{\\mathbf{#1}}x \\ {\\mapsto}\\ \\frac{1}{\\sqrt{-x^{2} + 1}}</script></html>"
      ],
      "text/latex": [
       "\\begin{math}\n",
       "\\newcommand{\\Bold}[1]{\\mathbf{#1}}x \\ {\\mapsto}\\ \\frac{1}{\\sqrt{-x^{2} + 1}}\n",
       "\\end{math}"
      ],
      "text/plain": [
       "x |--> 1/sqrt(-x^2 + 1)"
      ]
     },
     "metadata": {},
     "output_type": "display_data"
    },
    {
     "data": {
      "text/html": [
       "<html><script type=\"math/tex; mode=display\">\\newcommand{\\Bold}[1]{\\mathbf{#1}}x \\ {\\mapsto}\\ \\frac{x}{{\\left(-x^{2} + 1\\right)}^{\\frac{3}{2}}}</script></html>"
      ],
      "text/latex": [
       "\\begin{math}\n",
       "\\newcommand{\\Bold}[1]{\\mathbf{#1}}x \\ {\\mapsto}\\ \\frac{x}{{\\left(-x^{2} + 1\\right)}^{\\frac{3}{2}}}\n",
       "\\end{math}"
      ],
      "text/plain": [
       "x |--> x/(-x^2 + 1)^(3/2)"
      ]
     },
     "metadata": {},
     "output_type": "display_data"
    },
    {
     "data": {
      "text/html": [
       "<html><script type=\"math/tex; mode=display\">\\newcommand{\\Bold}[1]{\\mathbf{#1}}x \\ {\\mapsto}\\ \\frac{3 \\, x^{2}}{{\\left(-x^{2} + 1\\right)}^{\\frac{5}{2}}} + \\frac{1}{{\\left(-x^{2} + 1\\right)}^{\\frac{3}{2}}}</script></html>"
      ],
      "text/latex": [
       "\\begin{math}\n",
       "\\newcommand{\\Bold}[1]{\\mathbf{#1}}x \\ {\\mapsto}\\ \\frac{3 \\, x^{2}}{{\\left(-x^{2} + 1\\right)}^{\\frac{5}{2}}} + \\frac{1}{{\\left(-x^{2} + 1\\right)}^{\\frac{3}{2}}}\n",
       "\\end{math}"
      ],
      "text/plain": [
       "x |--> 3*x^2/(-x^2 + 1)^(5/2) + 1/(-x^2 + 1)^(3/2)"
      ]
     },
     "metadata": {},
     "output_type": "display_data"
    },
    {
     "data": {
      "text/html": [
       "<html><script type=\"math/tex; mode=display\">\\newcommand{\\Bold}[1]{\\mathbf{#1}}x \\ {\\mapsto}\\ \\frac{15 \\, x^{3}}{{\\left(-x^{2} + 1\\right)}^{\\frac{7}{2}}} + \\frac{9 \\, x}{{\\left(-x^{2} + 1\\right)}^{\\frac{5}{2}}}</script></html>"
      ],
      "text/latex": [
       "\\begin{math}\n",
       "\\newcommand{\\Bold}[1]{\\mathbf{#1}}x \\ {\\mapsto}\\ \\frac{15 \\, x^{3}}{{\\left(-x^{2} + 1\\right)}^{\\frac{7}{2}}} + \\frac{9 \\, x}{{\\left(-x^{2} + 1\\right)}^{\\frac{5}{2}}}\n",
       "\\end{math}"
      ],
      "text/plain": [
       "x |--> 15*x^3/(-x^2 + 1)^(7/2) + 9*x/(-x^2 + 1)^(5/2)"
      ]
     },
     "metadata": {},
     "output_type": "display_data"
    },
    {
     "data": {
      "text/html": [
       "<html><script type=\"math/tex; mode=display\">\\newcommand{\\Bold}[1]{\\mathbf{#1}}x \\ {\\mapsto}\\ \\frac{105 \\, x^{4}}{{\\left(-x^{2} + 1\\right)}^{\\frac{9}{2}}} + \\frac{90 \\, x^{2}}{{\\left(-x^{2} + 1\\right)}^{\\frac{7}{2}}} + \\frac{9}{{\\left(-x^{2} + 1\\right)}^{\\frac{5}{2}}}</script></html>"
      ],
      "text/latex": [
       "\\begin{math}\n",
       "\\newcommand{\\Bold}[1]{\\mathbf{#1}}x \\ {\\mapsto}\\ \\frac{105 \\, x^{4}}{{\\left(-x^{2} + 1\\right)}^{\\frac{9}{2}}} + \\frac{90 \\, x^{2}}{{\\left(-x^{2} + 1\\right)}^{\\frac{7}{2}}} + \\frac{9}{{\\left(-x^{2} + 1\\right)}^{\\frac{5}{2}}}\n",
       "\\end{math}"
      ],
      "text/plain": [
       "x |--> 105*x^4/(-x^2 + 1)^(9/2) + 90*x^2/(-x^2 + 1)^(7/2) + 9/(-x^2 + 1)^(5/2)"
      ]
     },
     "metadata": {},
     "output_type": "display_data"
    },
    {
     "data": {
      "text/html": [
       "<html><script type=\"math/tex; mode=display\">\\newcommand{\\Bold}[1]{\\mathbf{#1}}x \\ {\\mapsto}\\ \\frac{3}{40} \\, x^{5} + \\frac{1}{6} \\, x^{3} + x</script></html>"
      ],
      "text/latex": [
       "\\begin{math}\n",
       "\\newcommand{\\Bold}[1]{\\mathbf{#1}}x \\ {\\mapsto}\\ \\frac{3}{40} \\, x^{5} + \\frac{1}{6} \\, x^{3} + x\n",
       "\\end{math}"
      ],
      "text/plain": [
       "x |--> 3/40*x^5 + 1/6*x^3 + x"
      ]
     },
     "metadata": {},
     "output_type": "display_data"
    }
   ],
   "source": [
    "#A2c\n",
    "f(x) = arcsin(x)\n",
    "pretty_print(diff(f,x))\n",
    "pretty_print(diff(f,x,2).expand())\n",
    "pretty_print(diff(f,x,3).expand())\n",
    "pretty_print(diff(f,x,4).expand())\n",
    "pretty_print(diff(f,x,5).expand())\n",
    "pretty_print(f.taylor(x,0,5))"
   ]
  },
  {
   "cell_type": "code",
   "execution_count": 56,
   "metadata": {},
   "outputs": [
    {
     "data": {
      "text/html": [
       "<html><script type=\"math/tex; mode=display\">\\newcommand{\\Bold}[1]{\\mathbf{#1}}x \\ {\\mapsto}\\ \\cosh\\left(x\\right)</script></html>"
      ],
      "text/latex": [
       "\\begin{math}\n",
       "\\newcommand{\\Bold}[1]{\\mathbf{#1}}x \\ {\\mapsto}\\ \\cosh\\left(x\\right)\n",
       "\\end{math}"
      ],
      "text/plain": [
       "x |--> cosh(x)"
      ]
     },
     "metadata": {},
     "output_type": "display_data"
    },
    {
     "data": {
      "text/html": [
       "<html><script type=\"math/tex; mode=display\">\\newcommand{\\Bold}[1]{\\mathbf{#1}}x \\ {\\mapsto}\\ \\sinh\\left(x\\right)</script></html>"
      ],
      "text/latex": [
       "\\begin{math}\n",
       "\\newcommand{\\Bold}[1]{\\mathbf{#1}}x \\ {\\mapsto}\\ \\sinh\\left(x\\right)\n",
       "\\end{math}"
      ],
      "text/plain": [
       "x |--> sinh(x)"
      ]
     },
     "metadata": {},
     "output_type": "display_data"
    },
    {
     "data": {
      "text/html": [
       "<html><script type=\"math/tex; mode=display\">\\newcommand{\\Bold}[1]{\\mathbf{#1}}x \\ {\\mapsto}\\ \\cosh\\left(x\\right)</script></html>"
      ],
      "text/latex": [
       "\\begin{math}\n",
       "\\newcommand{\\Bold}[1]{\\mathbf{#1}}x \\ {\\mapsto}\\ \\cosh\\left(x\\right)\n",
       "\\end{math}"
      ],
      "text/plain": [
       "x |--> cosh(x)"
      ]
     },
     "metadata": {},
     "output_type": "display_data"
    },
    {
     "data": {
      "text/html": [
       "<html><script type=\"math/tex; mode=display\">\\newcommand{\\Bold}[1]{\\mathbf{#1}}x \\ {\\mapsto}\\ \\sinh\\left(x\\right)</script></html>"
      ],
      "text/latex": [
       "\\begin{math}\n",
       "\\newcommand{\\Bold}[1]{\\mathbf{#1}}x \\ {\\mapsto}\\ \\sinh\\left(x\\right)\n",
       "\\end{math}"
      ],
      "text/plain": [
       "x |--> sinh(x)"
      ]
     },
     "metadata": {},
     "output_type": "display_data"
    },
    {
     "data": {
      "text/html": [
       "<html><script type=\"math/tex; mode=display\">\\newcommand{\\Bold}[1]{\\mathbf{#1}}x \\ {\\mapsto}\\ \\cosh\\left(x\\right)</script></html>"
      ],
      "text/latex": [
       "\\begin{math}\n",
       "\\newcommand{\\Bold}[1]{\\mathbf{#1}}x \\ {\\mapsto}\\ \\cosh\\left(x\\right)\n",
       "\\end{math}"
      ],
      "text/plain": [
       "x |--> cosh(x)"
      ]
     },
     "metadata": {},
     "output_type": "display_data"
    },
    {
     "data": {
      "text/html": [
       "<html><script type=\"math/tex; mode=display\">\\newcommand{\\Bold}[1]{\\mathbf{#1}}x \\ {\\mapsto}\\ \\frac{1}{120} \\, x^{5} + \\frac{1}{6} \\, x^{3} + x</script></html>"
      ],
      "text/latex": [
       "\\begin{math}\n",
       "\\newcommand{\\Bold}[1]{\\mathbf{#1}}x \\ {\\mapsto}\\ \\frac{1}{120} \\, x^{5} + \\frac{1}{6} \\, x^{3} + x\n",
       "\\end{math}"
      ],
      "text/plain": [
       "x |--> 1/120*x^5 + 1/6*x^3 + x"
      ]
     },
     "metadata": {},
     "output_type": "display_data"
    }
   ],
   "source": [
    "#A2d\n",
    "f(x) = sinh(x)\n",
    "pretty_print(diff(f,x))\n",
    "pretty_print(diff(f,x,2).expand())\n",
    "pretty_print(diff(f,x,3).expand())\n",
    "pretty_print(diff(f,x,4).expand())\n",
    "pretty_print(diff(f,x,5).expand())\n",
    "pretty_print(f.taylor(x,0,5))"
   ]
  },
  {
   "cell_type": "code",
   "execution_count": null,
   "metadata": {},
   "outputs": [],
   "source": []
  }
 ],
 "metadata": {
  "kernelspec": {
   "display_name": "SageMath 9.2",
   "language": "sage",
   "name": "sagemath"
  },
  "language_info": {
   "codemirror_mode": {
    "name": "ipython",
    "version": 3
   },
   "file_extension": ".py",
   "mimetype": "text/x-python",
   "name": "python",
   "nbconvert_exporter": "python",
   "pygments_lexer": "ipython3",
   "version": "3.7.7"
  }
 },
 "nbformat": 4,
 "nbformat_minor": 4
}
